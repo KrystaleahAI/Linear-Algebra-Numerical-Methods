{
  "nbformat": 4,
  "nbformat_minor": 0,
  "metadata": {
    "colab": {
      "name": "Numerical Methods.ipynb",
      "provenance": [],
      "collapsed_sections": [],
      "authorship_tag": "ABX9TyN0cMipRi8qafs3pwBvHySa",
      "include_colab_link": true
    },
    "kernelspec": {
      "name": "python3",
      "display_name": "Python 3"
    },
    "language_info": {
      "name": "python"
    }
  },
  "cells": [
    {
      "cell_type": "markdown",
      "metadata": {
        "id": "view-in-github",
        "colab_type": "text"
      },
      "source": [
        "<a href=\"https://colab.research.google.com/github/KrystaleahR/Linear-Algebra-Numerical-Methods/blob/main/Numerical_Methods.ipynb\" target=\"_parent\"><img src=\"https://colab.research.google.com/assets/colab-badge.svg\" alt=\"Open In Colab\"/></a>"
      ]
    },
    {
      "cell_type": "code",
      "execution_count": null,
      "metadata": {
        "id": "w1msHQQkuZc-"
      },
      "outputs": [],
      "source": [
        "x_data = np.array([[0], [1], [-1]])\n",
        "y_data = np.array([[2], [3], [-2]])\n",
        "\n",
        "X = np.hstack((x_data**0, x_data**1))\n",
        "XT = X.T\n",
        "print('X:\\n', X, '\\nXT:\\n', XT)\n",
        "XTX = XT @ X\n",
        "XTy = XT @ y_data\n",
        "print('XT @ X:\\n', XTX, '\\nXT @ y:\\n', XTy)\n",
        "\n",
        "a_solve = linalg.solve(XTX, XTy)\n",
        "print('coefficients:\\n', a_solve)\n",
        "\n",
        "x = np.linspace(-1.5, 1.5, 10)\n",
        "y = a_solve[0] + a_solve[1] * x\n",
        "\n",
        "plt.scatter(x_data,y_data, label='Dataset', s=100, c='r')\n",
        "plt.plot(x, y, label='Regression line')\n",
        "plt.xlabel('x')\n",
        "plt.ylabel('y')\n",
        "plt.legend()\n",
        "plt.show()"
      ]
    },
    {
      "cell_type": "code",
      "source": [
        "a, resid, rank, singvals = np.linalg.lstsq(X, y_data, rcond=None)\n",
        "print('regression coefficients a:\\n', a) # Least-squares solution\n",
        "print('resid:\\n', resid) # Sums of squared residuals\n",
        "print('rank X:\\n', rank) # Rank of matrix X\n",
        "print('singular values of X:\\n', singvals) # Singular values of"
      ],
      "metadata": {
        "id": "x9Sqa3bRzoW7"
      },
      "execution_count": null,
      "outputs": []
    },
    {
      "cell_type": "markdown",
      "source": [
        "Least Squares and Tikhonov\n"
      ],
      "metadata": {
        "id": "vL4TeKrL_TNi"
      }
    },
    {
      "cell_type": "code",
      "source": [
        "import numpy as np\n",
        "from matplotlib import pyplot as plt\n",
        "from scipy import linalg\n",
        "from math import sqrt"
      ],
      "metadata": {
        "id": "FdVHnM2hEZxU"
      },
      "execution_count": null,
      "outputs": []
    },
    {
      "cell_type": "code",
      "source": [
        "x_data = np.array([[1], [0], [-1]])\n",
        "y_data = np.array([[2], [3], [-2]])\n",
        "\n",
        "X = np.hstack((x_data**0, x_data**1))\n",
        "XT = X.T\n",
        "print('X:\\n', X, '\\nXT:\\n', XT)\n",
        "XTX = XT @ X\n",
        "XTy = XT @ y_data\n",
        "print('XT @ X:\\n', XTX, '\\nXT @ y:\\n', XTy)\n",
        "\n",
        "alpha = 1\n",
        "tikhonov_term = alpha * np.identity(2)\n",
        "\n",
        "a_solve = linalg.solve(XTX + tikhonov_term, XTy)\n",
        "print('coefficients:\\n', a_solve)\n",
        "\n",
        "x = np.linspace(-1.5, 1.5, 10)\n",
        "y = a_solve[0] + a_solve[1] * x\n",
        "\n",
        "#x_approx = np.linalg.lstsq(X, y_data, rcond=None)[0]\n",
        "#print(\"l2 norm:\")\n",
        "#print(x_approx)\n",
        "\n",
        "plt.scatter(x_data,y_data, label='Dataset', s=100, c='r')\n",
        "plt.plot(x, y, label='Regression line')\n",
        "plt.xlabel('x')\n",
        "plt.ylabel('y')\n",
        "plt.legend()\n",
        "plt.show()"
      ],
      "metadata": {
        "colab": {
          "base_uri": "https://localhost:8080/",
          "height": 557
        },
        "id": "TVDBnSHG_Whl",
        "outputId": "180f663c-f8d7-4769-8ac3-b0adba450447"
      },
      "execution_count": null,
      "outputs": [
        {
          "output_type": "stream",
          "name": "stdout",
          "text": [
            "X:\n",
            " [[ 1  1]\n",
            " [ 1  0]\n",
            " [ 1 -1]] \n",
            "XT:\n",
            " [[ 1  1  1]\n",
            " [ 1  0 -1]]\n",
            "XT @ X:\n",
            " [[3 0]\n",
            " [0 2]] \n",
            "XT @ y:\n",
            " [[3]\n",
            " [4]]\n",
            "coefficients:\n",
            " [[0.75      ]\n",
            " [1.33333333]]\n"
          ]
        },
        {
          "output_type": "display_data",
          "data": {
            "image/png": "[encoded data removed]",
            "text/plain": [
              "<Figure size 432x288 with 1 Axes>"
            ]
          },
          "metadata": {
            "needs_background": "light"
          }
        }
      ]
    },
    {
      "cell_type": "code",
      "source": [
        "from numpy import array\n",
        "from numpy.linalg import norm\n",
        "norm_l1 = norm(a_solve)\n",
        "print(norm_l1)"
      ],
      "metadata": {
        "colab": {
          "base_uri": "https://localhost:8080/"
        },
        "id": "tDzZmaN4mzgy",
        "outputId": "b70fcd0f-f0ae-42dd-e2f1-cb5bc91b6e71"
      },
      "execution_count": null,
      "outputs": [
        {
          "output_type": "stream",
          "name": "stdout",
          "text": [
            "1.5297966458904848\n"
          ]
        }
      ]
    },
    {
      "cell_type": "code",
      "source": [
        "from sklearn.linear_model import Ridge\n",
        "\n",
        "import numpy as np\n",
        "\n",
        "n_samples, n_features = 10, 5\n",
        "\n",
        "rng = np.random.RandomState(0)\n",
        "\n",
        "y = rng.randn(n_samples)\n",
        "\n",
        "X = rng.randn(n_samples, n_features)\n",
        "\n",
        "clf = Ridge(alpha=2.0)\n",
        "\n",
        "clf.fit(X, y)"
      ],
      "metadata": {
        "colab": {
          "base_uri": "https://localhost:8080/"
        },
        "id": "aGxhblq-SkiI",
        "outputId": "95f1ad30-f73a-4cfe-bf5d-18cf1b51f691"
      },
      "execution_count": null,
      "outputs": [
        {
          "output_type": "execute_result",
          "data": {
            "text/plain": [
              "Ridge(alpha=2.0)"
            ]
          },
          "metadata": {},
          "execution_count": 8
        }
      ]
    },
    {
      "cell_type": "code",
      "source": [
        "A = np.array([[2,6], [-1,2]]) # one pivotin at the 1-st step\n",
        "# A = np.array([[0, 1, -1], [1, 1, 2]]) # rectangular is possible\n",
        "# A = np.array([[0, 0, 0], [0, 0, 0]]) # non full rank is also possible\n",
        "\n",
        "P, L, U = linalg.lu(A)\n",
        "print(\"P:\\n\", P)\n",
        "print(\"L:\\n\", L)\n",
        "print(\"U:\\n\", U)\n",
        "print(\"LU:\\n\", L @ U)\n",
        "PLU = P @ L @ U\n",
        "print(\"PLU:\\n\", PLU)\n",
        "print(\"PLU==A:\\n\", PLU==A)\n",
        "\n",
        "LU = L @ U\n",
        "print(\"LU:\\n\", LU)\n",
        "PA = P @ A\n",
        "print(\"PA:\\n\", PA)\n",
        "print(\"LU==PA:\\n\", LU==PA)"
      ],
      "metadata": {
        "colab": {
          "base_uri": "https://localhost:8080/"
        },
        "id": "Uo8NmW1rVYyI",
        "outputId": "e5124200-4024-44d5-8cea-466744d51d60"
      },
      "execution_count": null,
      "outputs": [
        {
          "output_type": "stream",
          "name": "stdout",
          "text": [
            "P:\n",
            " [[1. 0.]\n",
            " [0. 1.]]\n",
            "L:\n",
            " [[ 1.   0. ]\n",
            " [-0.5  1. ]]\n",
            "U:\n",
            " [[2. 6.]\n",
            " [0. 5.]]\n",
            "LU:\n",
            " [[ 2.  6.]\n",
            " [-1.  2.]]\n",
            "PLU:\n",
            " [[ 2.  6.]\n",
            " [-1.  2.]]\n",
            "PLU==A:\n",
            " [[ True  True]\n",
            " [ True  True]]\n",
            "LU:\n",
            " [[ 2.  6.]\n",
            " [-1.  2.]]\n",
            "PA:\n",
            " [[ 2.  6.]\n",
            " [-1.  2.]]\n",
            "LU==PA:\n",
            " [[ True  True]\n",
            " [ True  True]]\n"
          ]
        }
      ]
    },
    {
      "cell_type": "code",
      "source": [
        "# Importing Libraries\n",
        "import numpy as np\n",
        "from scipy import linalg\n",
        "# Gaussian elimination function\n",
        "def GE_function(A, b) :\n",
        "\n",
        "  # Number of unknowns\n",
        "  n = A.shape[1]\n",
        "\n",
        "  # Making numpy array of n size and initializing \n",
        "  # to zero for storing solution vector\n",
        "  x = np.zeros((n,1))\n",
        "\n",
        "  # Augmented matrix (a | b) and setting type to float\n",
        "  a = np.concatenate((A, b), axis = 1).astype(float)\n",
        "\n",
        "  # Applying Gauss Elimination\n",
        "  for i in range(n):\n",
        "      # Checking if pivot is zero\n",
        "      if a[i][i] == 0.0:\n",
        "          # sys.exit('Divide by zero detected!')\n",
        "          # print('Divide by zero detected!')\n",
        "          raise ZeroDivisionError(\"Zero on the diagonal\")\n",
        "\n",
        "      # Forward substitution\n",
        "      for j in range(i+1, n):\n",
        "          ratio = a[j][i]/a[i][i] \n",
        "\n",
        "          for k in range(n+1):\n",
        "              a[j][k] = a[j][k] - ratio * a[i][k]\n",
        "\n",
        "  # Backward Substitution\n",
        "  x[n-1][0] = a[n-1][n]/a[n-1][n-1]\n",
        "\n",
        "  for i in range(n-2,-1,-1):\n",
        "      x[i][0] = a[i][n]\n",
        "    \n",
        "      for j in range(i+1,n):\n",
        "          x[i][0] = x[i][0] - a[i][j]*x[j]\n",
        "    \n",
        "      x[i][0] = x[i][0]/a[i][i]\n",
        "  return(x)"
      ],
      "metadata": {
        "id": "KgrhL9yFZLrZ"
      },
      "execution_count": null,
      "outputs": []
    },
    {
      "cell_type": "code",
      "source": [
        "# Displaying solution\n",
        "def DisplaySol(x) :\n",
        "    i = 1;\n",
        "    print('\\nRequired solution is: ')\n",
        "    for xi in x :\n",
        "      print('X%d = %0.2f' %(i,xi), end = '\\t')\n",
        "      i += 1\n",
        "# Checking whether the solution is correct\n",
        "def CheckSol(A, b, x) :\n",
        "    Ax = A @ x\n",
        "    print('\\nAx=b: ', np.allclose(Ax, b))"
      ],
      "metadata": {
        "id": "w0F-Y-0WY9Az"
      },
      "execution_count": null,
      "outputs": []
    },
    {
      "cell_type": "code",
      "source": [
        "# system which solves correctly by Gaussian elimination without pivoting\n",
        "A = np.array([\n",
        "[2, 6], \n",
        "[-1, 2],\n",
        "])\n",
        "b = np.array([[4], [3]])\n",
        "\n",
        "x = GE_function(A, b)\n",
        "DisplaySol(x)\n",
        "CheckSol(A, b, x)"
      ],
      "metadata": {
        "colab": {
          "base_uri": "https://localhost:8080/"
        },
        "id": "kTHS-OPtY8Cp",
        "outputId": "acb4252e-946b-45aa-fc8f-352d9b291538"
      },
      "execution_count": null,
      "outputs": [
        {
          "output_type": "stream",
          "name": "stdout",
          "text": [
            "\n",
            "Required solution is: \n",
            "X1 = -1.00\tX2 = 1.00\t\n",
            "Ax=b:  True\n"
          ]
        }
      ]
    },
    {
      "cell_type": "markdown",
      "source": [
        "Cholesky"
      ],
      "metadata": {
        "id": "Rs7C-evTfyTv"
      }
    },
    {
      "cell_type": "code",
      "source": [
        "import pprint\n",
        "import numpy as np\n",
        "import scipy\n",
        "import scipy.linalg   # SciPy Linear Algebra Library"
      ],
      "metadata": {
        "id": "o9ZB0OJjf1dC"
      },
      "execution_count": null,
      "outputs": []
    },
    {
      "cell_type": "code",
      "source": [
        "A = np.array([[9, 3], [3, 17]])"
      ],
      "metadata": {
        "id": "N0uVnSLIf7EI"
      },
      "execution_count": null,
      "outputs": []
    },
    {
      "cell_type": "code",
      "source": [
        "v,_ = np.linalg.eig(A)\n",
        "v"
      ],
      "metadata": {
        "colab": {
          "base_uri": "https://localhost:8080/"
        },
        "id": "jYXD-d0Jj8u4",
        "outputId": "747b3b0d-779b-46dc-d912-5f638f9e42c5"
      },
      "execution_count": null,
      "outputs": [
        {
          "output_type": "execute_result",
          "data": {
            "text/plain": [
              "array([ 8., 18.])"
            ]
          },
          "metadata": {},
          "execution_count": 109
        }
      ]
    },
    {
      "cell_type": "code",
      "source": [
        "np.linalg.cholesky(A)"
      ],
      "metadata": {
        "colab": {
          "base_uri": "https://localhost:8080/"
        },
        "id": "-YxVm6dw9l0N",
        "outputId": "1d0c13f6-7cfe-4c6f-f969-8aa40a1830b3"
      },
      "execution_count": null,
      "outputs": [
        {
          "output_type": "execute_result",
          "data": {
            "text/plain": [
              "array([[3., 0.],\n",
              "       [1., 4.]])"
            ]
          },
          "metadata": {},
          "execution_count": 124
        }
      ]
    },
    {
      "cell_type": "code",
      "source": [
        "L = scipy.linalg.cholesky(A, lower=True)\n",
        "L"
      ],
      "metadata": {
        "colab": {
          "base_uri": "https://localhost:8080/"
        },
        "id": "Bu_OPxy5kNAk",
        "outputId": "68b27aca-6724-4b9e-ff5c-9f769dbbf11c"
      },
      "execution_count": null,
      "outputs": [
        {
          "output_type": "execute_result",
          "data": {
            "text/plain": [
              "array([[3., 0.],\n",
              "       [1., 4.]])"
            ]
          },
          "metadata": {},
          "execution_count": 110
        }
      ]
    },
    {
      "cell_type": "code",
      "source": [
        "U = scipy.linalg.cholesky(A, lower=False)\n",
        "U"
      ],
      "metadata": {
        "colab": {
          "base_uri": "https://localhost:8080/"
        },
        "id": "yeta8TkegE34",
        "outputId": "b5c2d84d-3818-4ed6-d1aa-2e583f8efe36"
      },
      "execution_count": null,
      "outputs": [
        {
          "output_type": "execute_result",
          "data": {
            "text/plain": [
              "array([[3., 1.],\n",
              "       [0., 4.]])"
            ]
          },
          "metadata": {},
          "execution_count": 111
        }
      ]
    },
    {
      "cell_type": "code",
      "source": [
        "C = np.dot(L,np.transpose(L))\n",
        "print(C)"
      ],
      "metadata": {
        "colab": {
          "base_uri": "https://localhost:8080/"
        },
        "id": "MtlSeqtzwzdF",
        "outputId": "556eca33-5be3-4d3c-c5f1-6c3e3754e63a"
      },
      "execution_count": null,
      "outputs": [
        {
          "output_type": "stream",
          "name": "stdout",
          "text": [
            "[[ 9.  3.]\n",
            " [ 3. 17.]]\n"
          ]
        }
      ]
    },
    {
      "cell_type": "code",
      "source": [
        "M = np.array([[4, 0], [2, 9]])\n",
        "N = np.transpose(M)"
      ],
      "metadata": {
        "id": "zwGBmMl38CLy"
      },
      "execution_count": null,
      "outputs": []
    },
    {
      "cell_type": "code",
      "source": [
        "H = np.dot(M,N)\n",
        "print(H)"
      ],
      "metadata": {
        "colab": {
          "base_uri": "https://localhost:8080/"
        },
        "outputId": "4c892a21-aa78-402a-e60c-18b4f36c89be",
        "id": "UuFotQCQ8CYP"
      },
      "execution_count": null,
      "outputs": [
        {
          "output_type": "stream",
          "name": "stdout",
          "text": [
            "[[16  8]\n",
            " [ 8 85]]\n"
          ]
        }
      ]
    },
    {
      "cell_type": "markdown",
      "source": [
        "Factorization into formula"
      ],
      "metadata": {
        "id": "YBHMW4TCkpnc"
      }
    },
    {
      "cell_type": "code",
      "source": [
        "from sympy import * "
      ],
      "metadata": {
        "id": "tLYE7T5Vl-Vq"
      },
      "execution_count": null,
      "outputs": []
    },
    {
      "cell_type": "code",
      "source": [
        "import sympy\n",
        "from sympy.matrices import Transpose\n",
        "\n",
        "x1 = sympy.symbols(\"x1\")\n",
        "x2 = sympy.symbols(\"x2\")\n",
        "\n",
        "\n",
        "A = sympy.Matrix(L)\n",
        "X = sympy.Matrix([[x1], [x2]])\n",
        "f = Transpose(X)*A*X\n",
        "sf = sympy.simplify(f)\n",
        "\n",
        "print(f)\n",
        "print(sf)"
      ],
      "metadata": {
        "colab": {
          "base_uri": "https://localhost:8080/"
        },
        "id": "TrMg_h8Rko7k",
        "outputId": "825abdc2-02a8-4439-fd2d-9a18d36e9637"
      },
      "execution_count": null,
      "outputs": [
        {
          "output_type": "stream",
          "name": "stdout",
          "text": [
            "Matrix([[x1*(2.0*x1 + 1.0*x2) + 3.0*x2**2]])\n",
            "Matrix([[x1*(2.0*x1 + 1.0*x2) + 3.0*x2**2]])\n"
          ]
        }
      ]
    },
    {
      "cell_type": "markdown",
      "source": [
        "Norm"
      ],
      "metadata": {
        "id": "ZaIAPI0MgONr"
      }
    },
    {
      "cell_type": "markdown",
      "source": [
        "1. Compute the norm of A"
      ],
      "metadata": {
        "id": "sjuBHoiOilsC"
      }
    },
    {
      "cell_type": "code",
      "source": [
        "A = np.array([[1, 2], [-3, 4]])\n",
        "#A = np.array([1,2])\n",
        "np.linalg.norm(A, ord=1)\n",
        "# np.inf for infinity"
      ],
      "metadata": {
        "colab": {
          "base_uri": "https://localhost:8080/"
        },
        "id": "QIw55XJjhAr8",
        "outputId": "1da6dd88-5031-4e48-8161-f4f734670dd1"
      },
      "execution_count": null,
      "outputs": [
        {
          "output_type": "execute_result",
          "data": {
            "text/plain": [
              "6.0"
            ]
          },
          "metadata": {},
          "execution_count": 136
        }
      ]
    },
    {
      "cell_type": "markdown",
      "source": [
        "2. Find a determinant of A = a11a22 - a12a21"
      ],
      "metadata": {
        "id": "banp2GeBimac"
      }
    },
    {
      "cell_type": "code",
      "source": [
        "np.linalg.det(A)"
      ],
      "metadata": {
        "colab": {
          "base_uri": "https://localhost:8080/"
        },
        "id": "nH8yZw4ngeIe",
        "outputId": "db937447-4cd3-4efd-8147-8b8b97915930"
      },
      "execution_count": null,
      "outputs": [
        {
          "output_type": "execute_result",
          "data": {
            "text/plain": [
              "10.000000000000002"
            ]
          },
          "metadata": {},
          "execution_count": 137
        }
      ]
    },
    {
      "cell_type": "markdown",
      "source": [
        "3. Find an inverse A^{-1}"
      ],
      "metadata": {
        "id": "kBjm38b0io56"
      }
    },
    {
      "cell_type": "code",
      "source": [
        "np.linalg.inv(A)"
      ],
      "metadata": {
        "colab": {
          "base_uri": "https://localhost:8080/"
        },
        "id": "QOCLiUzwge0f",
        "outputId": "a830be78-e65d-46e1-fe95-2afa80d0a9e2"
      },
      "execution_count": null,
      "outputs": [
        {
          "output_type": "execute_result",
          "data": {
            "text/plain": [
              "array([[ 0.4, -0.2],\n",
              "       [ 0.3,  0.1]])"
            ]
          },
          "metadata": {},
          "execution_count": 138
        }
      ]
    },
    {
      "cell_type": "markdown",
      "source": [
        "4. Find a norm of the inverse"
      ],
      "metadata": {
        "id": "UpTKB0qLiq-n"
      }
    },
    {
      "cell_type": "code",
      "source": [
        "np.linalg.norm(np.linalg.inv(A), ord=1)"
      ],
      "metadata": {
        "colab": {
          "base_uri": "https://localhost:8080/"
        },
        "id": "F7iq7aBCgiC4",
        "outputId": "2104d4d6-3ab1-4502-b204-6e4099358768"
      },
      "execution_count": null,
      "outputs": [
        {
          "output_type": "execute_result",
          "data": {
            "text/plain": [
              "0.7000000000000001"
            ]
          },
          "metadata": {},
          "execution_count": 139
        }
      ]
    },
    {
      "cell_type": "markdown",
      "source": [
        "5. Find the relative condition number"
      ],
      "metadata": {
        "id": "EhJTqA3bis4Q"
      }
    },
    {
      "cell_type": "code",
      "source": [
        "np.linalg.cond(A, p=1)"
      ],
      "metadata": {
        "colab": {
          "base_uri": "https://localhost:8080/"
        },
        "id": "uUsZKXEXgj9r",
        "outputId": "75508533-9fe6-4c26-dab3-8d593f4305fb"
      },
      "execution_count": null,
      "outputs": [
        {
          "output_type": "execute_result",
          "data": {
            "text/plain": [
              "4.2"
            ]
          },
          "metadata": {},
          "execution_count": 141
        }
      ]
    },
    {
      "cell_type": "markdown",
      "source": [
        "![image.png](data:image/png;base64,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)"
      ],
      "metadata": {
        "id": "1qzJWr5QjyoZ"
      }
    },
    {
      "cell_type": "markdown",
      "source": [
        "1. xTBx > 0 when x!= 0\n",
        "2. xTBx>=0\n",
        "3. \n",
        "[3 1]\n",
        "[1 4]\n",
        "4. \n",
        "\n",
        "![image.png](data:image/png;base64,iVBORw0KGgoAAAANSUhEUgAAASEAAABNCAMAAADegiK8AAAAAXNSR0IArs4c6QAAAARnQU1BAACxjwv8YQUAAACfUExURQAAAAAAAACAvwAAAABwvwB1vwBwvwAAAABzvwAAAABwvwAAAAByvwBwvwAAAABxvwBwvwBxvwBwvwAAAABxvwAAAABwvwBxvwAAAABwvwBxwQAAAABwwQAAAABxwQAAAABwwAAAAABxwABwwABxwAAAAABwwAAAAABxwAAAAABwwAAAAABxwABwwAAAAABxwABwwAAAAABxwAAAAABwwC5+U/MAAAAzdFJOUwAICBAQGCAoKDAwODhASEhQWGBoaHBweICAh4+Pl5efn6enr7e/v8fHz8/X19/n5+/39x9AWL8AAAAJcEhZcwAAFxEAABcRAcom8z8AAARHSURBVHhe7ZprVxoxEIZXChapq0hBuxaVKq4WsVjI//9tnZkMsIu57OUknNMzzxeSHXHDJJl5M7uJwHQyI302C8lAGREP7bhGfyzyPF/C5wo+8zU0PtgqJMkT+GWAjQwck2GjBy56woZAvCt1SQ1wlRpuW9fUEIDT3Xr5AA91qQWrKaWGAAyVoj1GEXtJLfDQuqNbQpKk2Vg3RuChGTfze90QiszAQ+ysI5BmM0imr3k+z9KQ6/eG5R6gt84BLvsCPGT8Uni6Y1QaexaUUkMAUXeH6ce67F24diQRNMYcoT7y6RzyKsG7PQRDuplStz2+cIDdDhFbzbkdle4jDmg5or11rhdTSK1xS3ew6z2rfacXIzMgn0y3saezwm7I3Y4/1HUHqz2Hy1o5RqVHHilMDR6Cgu528sA7dwxY7XgY03oxJp1XHM8t95AO9HNuB+Ee7+hQMzY76sUFtyNCw1mU0jvsuqC7neZkxB0DNjsu7oAZxMIYR3Ow5+FQGHS342ZRp9wxYLNjQnE4Ngw6LBf3GNBPg0pGKoc5wpDVjkoketGMEusypD8+Q8v2kTsGbHbUktH1ItahtgWXaODhyqW3bHbUi9GLZhSmV3GXECYCpc65Y8Bmn8Ll2HqxS0voIAqFBg9XrtqO1Y7H1thFMyy3OLOKgUHqxb0mcbOoV+4YsNnJc/XG2h5U8XWPgvQdN+6fQYp5yh0DNjs974jsoR7es26cbu0h+gdX3DFgtvevKSLMU0tBIAw3eE9VM0639hDVNhx/YrZjECKiRqI53rHuQWfE9T8HzsMl6cEVdwz47FGh2XJEhCCQHnTIGp89Jn0cS2y52Fgv1uTb3fPz5IQ7TbnCsaiokQ8gPegIJj57NSYb5O0rdxuCGtV1ggwCqRpHdvDZq3H2lzy0eeF+QygrxS6MX+JNHdnBZ6/GL+2gzeaCLzSDEmjsilRTvViP3+ygzYQvNIMe/EQ+lGmF4SiD+ezVeGEHbb7zhWbgWOpnjZZ6iBSGowzms1fjJzto0ypUY8G+wXS109SkBx1lMJ+9Il/+aAfdcb8hNF2182o7D1E1oawH4US6nyafvSpnb+igh5aCiCJ1bcHYzkOkB8tlMBBA+y/47JU5ufgxOeN2Y/CNt8N3TWAOPbG7XX2IZqW0boclTeazx4Wq+OX5wkcfIY8hWg+WIjn4ZK84fPbI0J4vP1NANRLyGJLiLUt6EAexDzM+e2ToWdm66BAcYNAlTXqwuCROMV3sw4zPHhuqaxa22QCHE7TwQMfSwpKglwYKc+Kzx6aDqnq9K3imlP7bFx7skNopPALX7yrt14zPHp9Lqv1OMfmkI0ptzgdZbelopcDKO8vohFFYMz77MejTaxZFAr6kPKZU/pltmPHZj8QNLSNmMRuHW0J6C31mG2Z89uNxrl/PHYd94UMQBEEQBEEQBEEQBEEQBEEQBEEQBEEQhP+LJPkH9Hsd9gY9aj8AAAAASUVORK5CYII=)\n",
        "\n",
        "Possible only for symmetric positive-definite matrices"
      ],
      "metadata": {
        "id": "1aVfDEsFj7aK"
      }
    },
    {
      "cell_type": "code",
      "source": [
        "from scipy.linalg import cholesky\n",
        "\n",
        "A = [[2, 1], [1, 2]]\n",
        "\n",
        "U = cholesky(A)"
      ],
      "metadata": {
        "id": "z6YF6mVB-L-C"
      },
      "execution_count": null,
      "outputs": []
    },
    {
      "cell_type": "code",
      "source": [
        "U.T @ U"
      ],
      "metadata": {
        "colab": {
          "base_uri": "https://localhost:8080/"
        },
        "id": "zDUyPiWc-Os4",
        "outputId": "f576993c-bbd5-4954-dbc1-595a296717d0"
      },
      "execution_count": null,
      "outputs": [
        {
          "output_type": "execute_result",
          "data": {
            "text/plain": [
              "array([[2., 1.],\n",
              "       [1., 2.]])"
            ]
          },
          "metadata": {},
          "execution_count": 126
        }
      ]
    },
    {
      "cell_type": "code",
      "source": [
        "np.dot(U.T, U)"
      ],
      "metadata": {
        "colab": {
          "base_uri": "https://localhost:8080/"
        },
        "id": "DhiQy6h6-Uw0",
        "outputId": "30c3681f-665c-47ac-ec76-b94472ffdb64"
      },
      "execution_count": null,
      "outputs": [
        {
          "output_type": "execute_result",
          "data": {
            "text/plain": [
              "array([[2., 1.],\n",
              "       [1., 2.]])"
            ]
          },
          "metadata": {},
          "execution_count": 127
        }
      ]
    },
    {
      "cell_type": "code",
      "source": [
        "np.dot(U, U.T)"
      ],
      "metadata": {
        "colab": {
          "base_uri": "https://localhost:8080/"
        },
        "id": "4ay9UGO8-VuV",
        "outputId": "cf1265ea-5747-4785-fdcc-cd6dfdf8f6a8"
      },
      "execution_count": null,
      "outputs": [
        {
          "output_type": "execute_result",
          "data": {
            "text/plain": [
              "array([[2.5      , 0.8660254],\n",
              "       [0.8660254, 1.5      ]])"
            ]
          },
          "metadata": {},
          "execution_count": 128
        }
      ]
    },
    {
      "cell_type": "code",
      "source": [
        "import numpy as np\n",
        "\n",
        "mat = np.array([[ 1, 2, 3],\n",
        "\n",
        "               [6, 5, 4]])\n",
        "\n",
        "mat_norm = np.linalg.norm(mat, axis = 1)\n",
        "\n",
        "len(mat_norm)"
      ],
      "metadata": {
        "colab": {
          "base_uri": "https://localhost:8080/"
        },
        "id": "fP8rVFp9EdrS",
        "outputId": "19a9437f-7110-4c75-9f17-da12d6463f36"
      },
      "execution_count": null,
      "outputs": [
        {
          "output_type": "execute_result",
          "data": {
            "text/plain": [
              "2"
            ]
          },
          "metadata": {},
          "execution_count": 142
        }
      ]
    },
    {
      "cell_type": "code",
      "source": [
        "import numpy as np\n",
        "\n",
        "vector = np.arange(9)\n",
        "\n",
        "matrix = vector.reshape((3, 3))\n",
        "\n",
        "vec_norm = np.linalg.norm(vector)\n",
        "\n",
        "mat_norm = np.linalg.norm(matrix)\n",
        "\n",
        "vec_norm==mat_norm"
      ],
      "metadata": {
        "id": "LXThm4wMEgqr",
        "outputId": "70dfb6bb-789b-45ff-e296-d1b9e9424d9c",
        "colab": {
          "base_uri": "https://localhost:8080/"
        }
      },
      "execution_count": null,
      "outputs": [
        {
          "output_type": "execute_result",
          "data": {
            "text/plain": [
              "True"
            ]
          },
          "metadata": {},
          "execution_count": 143
        }
      ]
    },
    {
      "cell_type": "markdown",
      "source": [
        "Orthogonality"
      ],
      "metadata": {
        "id": "PaS4pXY64Tt8"
      }
    },
    {
      "cell_type": "markdown",
      "source": [
        "Motivation for orthogonality:\n",
        "Condition grows under multiplication. Particularly, in AtA of normal equation.\n",
        "\n",
        "Initialize different matrixes"
      ],
      "metadata": {
        "id": "wKr3McTt4usL"
      }
    },
    {
      "cell_type": "code",
      "source": [
        "import sympy\n",
        "from sympy import init_printing, N\n",
        "from sympy.matrices import Matrix\n",
        "import numpy as np\n",
        "from scipy.linalg import orth, qr\n",
        "\n",
        "init_printing()"
      ],
      "metadata": {
        "id": "1fie-FjY40PX"
      },
      "execution_count": null,
      "outputs": []
    },
    {
      "cell_type": "code",
      "source": [
        "#A = np.array([[0, 1], [1, 0]]); symA = Matrix(A)  \n",
        "A = np.array([[1,1,1], [0,1,1],[0,0,1]]); symA = Matrix(A)  \n",
        "A"
      ],
      "metadata": {
        "colab": {
          "base_uri": "https://localhost:8080/"
        },
        "id": "z0qAQcbZ4rfN",
        "outputId": "5da76447-0775-4a72-b764-21a1974517a0"
      },
      "execution_count": null,
      "outputs": [
        {
          "output_type": "execute_result",
          "data": {
            "text/plain": [
              "array([[1, 1, 1],\n",
              "       [0, 1, 1],\n",
              "       [0, 0, 1]])"
            ]
          },
          "metadata": {},
          "execution_count": 60
        }
      ]
    },
    {
      "cell_type": "code",
      "source": [
        "symA"
      ],
      "metadata": {
        "colab": {
          "base_uri": "https://localhost:8080/",
          "height": 78
        },
        "id": "2KWO20dt4xHG",
        "outputId": "da10b74c-71de-48bd-9e35-10adf6023de0"
      },
      "execution_count": null,
      "outputs": [
        {
          "output_type": "execute_result",
          "data": {
            "text/latex": "$\\displaystyle \\left[\\begin{matrix}1 & 1 & 1\\\\0 & 1 & 1\\\\0 & 0 & 1\\end{matrix}\\right]$",
            "text/plain": [
              "⎡1  1  1⎤\n",
              "⎢       ⎥\n",
              "⎢0  1  1⎥\n",
              "⎢       ⎥\n",
              "⎣0  0  1⎦"
            ]
          },
          "metadata": {},
          "execution_count": 61
        }
      ]
    },
    {
      "cell_type": "markdown",
      "source": [
        "1. What is dimension of col(A)?"
      ],
      "metadata": {
        "id": "l2RD1tOZ45nE"
      }
    },
    {
      "cell_type": "code",
      "source": [
        "np.linalg.matrix_rank(A)"
      ],
      "metadata": {
        "colab": {
          "base_uri": "https://localhost:8080/"
        },
        "id": "_QC4mfDd46Sc",
        "outputId": "5544660c-faee-4663-e048-056a85f963bc"
      },
      "execution_count": null,
      "outputs": [
        {
          "output_type": "execute_result",
          "data": {
            "text/plain": [
              "3"
            ]
          },
          "metadata": {},
          "execution_count": 55
        }
      ]
    },
    {
      "cell_type": "code",
      "source": [
        "symA.rank()"
      ],
      "metadata": {
        "colab": {
          "base_uri": "https://localhost:8080/",
          "height": 38
        },
        "id": "dHG6I7fI48TL",
        "outputId": "5ec65687-3019-41be-c92f-305eed2077c1"
      },
      "execution_count": null,
      "outputs": [
        {
          "output_type": "execute_result",
          "data": {
            "image/png": "[encoded data removed]",
            "text/latex": "$\\displaystyle 3$",
            "text/plain": [
              "3"
            ]
          },
          "metadata": {},
          "execution_count": 63
        }
      ]
    },
    {
      "cell_type": "code",
      "source": [
        "symA.columnspace()"
      ],
      "metadata": {
        "colab": {
          "base_uri": "https://localhost:8080/",
          "height": 78
        },
        "id": "A7K3o9o75A-L",
        "outputId": "a6ca64fd-3404-4666-ee77-038d71c9d1e7"
      },
      "execution_count": null,
      "outputs": [
        {
          "output_type": "execute_result",
          "data": {
            "text/latex": "$\\displaystyle \\left[ \\left[\\begin{matrix}1\\\\0\\\\0\\end{matrix}\\right], \\  \\left[\\begin{matrix}1\\\\1\\\\0\\end{matrix}\\right], \\  \\left[\\begin{matrix}1\\\\1\\\\1\\end{matrix}\\right]\\right]$",
            "text/plain": [
              "⎡⎡1⎤  ⎡1⎤  ⎡1⎤⎤\n",
              "⎢⎢ ⎥  ⎢ ⎥  ⎢ ⎥⎥\n",
              "⎢⎢0⎥, ⎢1⎥, ⎢1⎥⎥\n",
              "⎢⎢ ⎥  ⎢ ⎥  ⎢ ⎥⎥\n",
              "⎣⎣0⎦  ⎣0⎦  ⎣1⎦⎦"
            ]
          },
          "metadata": {},
          "execution_count": 62
        }
      ]
    },
    {
      "cell_type": "markdown",
      "source": [
        "2. is A orthogonal?"
      ],
      "metadata": {
        "id": "Xe2WG9q_45mA"
      }
    },
    {
      "cell_type": "code",
      "source": [
        "A.T @ A"
      ],
      "metadata": {
        "colab": {
          "base_uri": "https://localhost:8080/"
        },
        "id": "U4qpMx-X5Eum",
        "outputId": "da37e157-320f-4879-d6c0-dee945b197a5"
      },
      "execution_count": null,
      "outputs": [
        {
          "output_type": "execute_result",
          "data": {
            "text/plain": [
              "array([[10, 14],\n",
              "       [14, 20]])"
            ]
          },
          "metadata": {},
          "execution_count": 9
        }
      ]
    },
    {
      "cell_type": "code",
      "source": [
        "np.eye(A.shape[1])"
      ],
      "metadata": {
        "colab": {
          "base_uri": "https://localhost:8080/"
        },
        "id": "k0C6nc0K5HsX",
        "outputId": "60df898b-8fc1-4d94-cc93-35d72bfc8b22"
      },
      "execution_count": null,
      "outputs": [
        {
          "output_type": "execute_result",
          "data": {
            "text/plain": [
              "array([[1., 0.],\n",
              "       [0., 1.]])"
            ]
          },
          "metadata": {},
          "execution_count": 10
        }
      ]
    },
    {
      "cell_type": "code",
      "source": [
        "np.allclose(A.T @ A, np.eye(A.shape[1]))"
      ],
      "metadata": {
        "colab": {
          "base_uri": "https://localhost:8080/"
        },
        "id": "Eu0Y6vmt5JbQ",
        "outputId": "7eb60c71-f4b2-4112-b0a6-4f084f4299f1"
      },
      "execution_count": null,
      "outputs": [
        {
          "output_type": "execute_result",
          "data": {
            "text/plain": [
              "False"
            ]
          },
          "metadata": {},
          "execution_count": 11
        }
      ]
    },
    {
      "cell_type": "markdown",
      "source": [
        "3. compute its l1 norm"
      ],
      "metadata": {
        "id": "fVVzdQxc5Lfi"
      }
    },
    {
      "cell_type": "code",
      "source": [
        "np.linalg.norm(A, ord=1)"
      ],
      "metadata": {
        "colab": {
          "base_uri": "https://localhost:8080/",
          "height": 38
        },
        "id": "l0x3QH3p5NZF",
        "outputId": "cb1a5920-bba5-4b12-df0d-fa3a005d0567"
      },
      "execution_count": null,
      "outputs": [
        {
          "output_type": "execute_result",
          "data": {
            "image/png": "[encoded data removed]",
            "text/latex": "$\\displaystyle 3.0$",
            "text/plain": [
              "3.0"
            ]
          },
          "metadata": {},
          "execution_count": 64
        }
      ]
    },
    {
      "cell_type": "code",
      "source": [
        "np.linalg.norm(A, ord=2)"
      ],
      "metadata": {
        "colab": {
          "base_uri": "https://localhost:8080/",
          "height": 38
        },
        "id": "V_T6F7mw5O7-",
        "outputId": "f2962e81-5e4a-44e2-b46a-0ef310369b74"
      },
      "execution_count": null,
      "outputs": [
        {
          "output_type": "execute_result",
          "data": {
            "image/png": "[encoded data removed]",
            "text/latex": "$\\displaystyle 2.24697960371747$",
            "text/plain": [
              "2.246979603717467"
            ]
          },
          "metadata": {},
          "execution_count": 65
        }
      ]
    },
    {
      "cell_type": "code",
      "source": [
        "symA.norm(ord=2)"
      ],
      "metadata": {
        "colab": {
          "base_uri": "https://localhost:8080/",
          "height": 310
        },
        "id": "qoWr35Hs5QO6",
        "outputId": "39786f55-45e5-49bd-c1d5-e3e2f43e448c"
      },
      "execution_count": null,
      "outputs": [
        {
          "output_type": "error",
          "ename": "ValueError",
          "evalue": "ignored",
          "traceback": [
            "\u001b[0;31m---------------------------------------------------------------------------\u001b[0m",
            "\u001b[0;31mValueError\u001b[0m                                Traceback (most recent call last)",
            "\u001b[0;32m<ipython-input-66-7fe2116d026c>\u001b[0m in \u001b[0;36m<module>\u001b[0;34m()\u001b[0m\n\u001b[0;32m----> 1\u001b[0;31m \u001b[0msymA\u001b[0m\u001b[0;34m.\u001b[0m\u001b[0mnorm\u001b[0m\u001b[0;34m(\u001b[0m\u001b[0mord\u001b[0m\u001b[0;34m=\u001b[0m\u001b[0;36m2\u001b[0m\u001b[0;34m)\u001b[0m\u001b[0;34m\u001b[0m\u001b[0;34m\u001b[0m\u001b[0m\n\u001b[0m",
            "\u001b[0;32m/usr/local/lib/python3.7/dist-packages/sympy/matrices/matrices.py\u001b[0m in \u001b[0;36mnorm\u001b[0;34m(self, ord)\u001b[0m\n\u001b[1;32m   1923\u001b[0m             \u001b[0;32melif\u001b[0m \u001b[0mord\u001b[0m \u001b[0;34m==\u001b[0m \u001b[0;36m2\u001b[0m\u001b[0;34m:\u001b[0m  \u001b[0;31m# Spectral Norm\u001b[0m\u001b[0;34m\u001b[0m\u001b[0;34m\u001b[0m\u001b[0m\n\u001b[1;32m   1924\u001b[0m                 \u001b[0;31m# Maximum singular value\u001b[0m\u001b[0;34m\u001b[0m\u001b[0;34m\u001b[0m\u001b[0;34m\u001b[0m\u001b[0m\n\u001b[0;32m-> 1925\u001b[0;31m                 \u001b[0;32mreturn\u001b[0m \u001b[0mMax\u001b[0m\u001b[0;34m(\u001b[0m\u001b[0;34m*\u001b[0m\u001b[0mself\u001b[0m\u001b[0;34m.\u001b[0m\u001b[0msingular_values\u001b[0m\u001b[0;34m(\u001b[0m\u001b[0;34m)\u001b[0m\u001b[0;34m)\u001b[0m\u001b[0;34m\u001b[0m\u001b[0;34m\u001b[0m\u001b[0m\n\u001b[0m\u001b[1;32m   1926\u001b[0m \u001b[0;34m\u001b[0m\u001b[0m\n\u001b[1;32m   1927\u001b[0m             \u001b[0;32melif\u001b[0m \u001b[0mord\u001b[0m \u001b[0;34m==\u001b[0m \u001b[0;34m-\u001b[0m\u001b[0;36m2\u001b[0m\u001b[0;34m:\u001b[0m\u001b[0;34m\u001b[0m\u001b[0;34m\u001b[0m\u001b[0m\n",
            "\u001b[0;32m/usr/local/lib/python3.7/dist-packages/sympy/functions/elementary/miscellaneous.py\u001b[0m in \u001b[0;36m__new__\u001b[0;34m(cls, *args, **assumptions)\u001b[0m\n\u001b[1;32m    386\u001b[0m         \u001b[0;32mif\u001b[0m \u001b[0mevaluate\u001b[0m\u001b[0;34m:\u001b[0m\u001b[0;34m\u001b[0m\u001b[0;34m\u001b[0m\u001b[0m\n\u001b[1;32m    387\u001b[0m             \u001b[0;32mtry\u001b[0m\u001b[0;34m:\u001b[0m\u001b[0;34m\u001b[0m\u001b[0;34m\u001b[0m\u001b[0m\n\u001b[0;32m--> 388\u001b[0;31m                 \u001b[0margs\u001b[0m \u001b[0;34m=\u001b[0m \u001b[0mfrozenset\u001b[0m\u001b[0;34m(\u001b[0m\u001b[0mcls\u001b[0m\u001b[0;34m.\u001b[0m\u001b[0m_new_args_filter\u001b[0m\u001b[0;34m(\u001b[0m\u001b[0margs\u001b[0m\u001b[0;34m)\u001b[0m\u001b[0;34m)\u001b[0m\u001b[0;34m\u001b[0m\u001b[0;34m\u001b[0m\u001b[0m\n\u001b[0m\u001b[1;32m    389\u001b[0m             \u001b[0;32mexcept\u001b[0m \u001b[0mShortCircuit\u001b[0m\u001b[0;34m:\u001b[0m\u001b[0;34m\u001b[0m\u001b[0;34m\u001b[0m\u001b[0m\n\u001b[1;32m    390\u001b[0m                 \u001b[0;32mreturn\u001b[0m \u001b[0mcls\u001b[0m\u001b[0;34m.\u001b[0m\u001b[0mzero\u001b[0m\u001b[0;34m\u001b[0m\u001b[0;34m\u001b[0m\u001b[0m\n",
            "\u001b[0;32m/usr/local/lib/python3.7/dist-packages/sympy/functions/elementary/miscellaneous.py\u001b[0m in \u001b[0;36m_new_args_filter\u001b[0;34m(cls, arg_sequence)\u001b[0m\n\u001b[1;32m    559\u001b[0m                     \u001b[0marg\u001b[0m\u001b[0;34m.\u001b[0m\u001b[0mis_number\u001b[0m \u001b[0;32mand\u001b[0m\u001b[0;34m\u001b[0m\u001b[0;34m\u001b[0m\u001b[0m\n\u001b[1;32m    560\u001b[0m                     not arg.is_comparable):\n\u001b[0;32m--> 561\u001b[0;31m                 \u001b[0;32mraise\u001b[0m \u001b[0mValueError\u001b[0m\u001b[0;34m(\u001b[0m\u001b[0;34m\"The argument '%s' is not comparable.\"\u001b[0m \u001b[0;34m%\u001b[0m \u001b[0marg\u001b[0m\u001b[0;34m)\u001b[0m\u001b[0;34m\u001b[0m\u001b[0;34m\u001b[0m\u001b[0m\n\u001b[0m\u001b[1;32m    562\u001b[0m \u001b[0;34m\u001b[0m\u001b[0m\n\u001b[1;32m    563\u001b[0m             \u001b[0;32mif\u001b[0m \u001b[0marg\u001b[0m \u001b[0;34m==\u001b[0m \u001b[0mcls\u001b[0m\u001b[0;34m.\u001b[0m\u001b[0mzero\u001b[0m\u001b[0;34m:\u001b[0m\u001b[0;34m\u001b[0m\u001b[0;34m\u001b[0m\u001b[0m\n",
            "\u001b[0;31mValueError\u001b[0m: The argument 'sqrt(2 + 7/(3*(7/2 + 7*sqrt(3)*I/18)**(1/3)) + (7/2 + 7*sqrt(3)*I/18)**(1/3))' is not comparable."
          ]
        }
      ]
    },
    {
      "cell_type": "code",
      "source": [
        "N(symA.norm(ord=2))"
      ],
      "metadata": {
        "colab": {
          "base_uri": "https://localhost:8080/",
          "height": 38
        },
        "id": "7IWWSer15Rd1",
        "outputId": "7d43e080-bf83-406d-f501-adbf650a3f3c"
      },
      "execution_count": null,
      "outputs": [
        {
          "output_type": "execute_result",
          "data": {
            "image/png": "[encoded data removed]",
            "text/latex": "$\\displaystyle 5.46498570421904$",
            "text/plain": [
              "5.46498570421904"
            ]
          },
          "metadata": {},
          "execution_count": 16
        }
      ]
    },
    {
      "cell_type": "code",
      "source": [
        "from math import sqrt\n",
        "sqrt(sqrt(221) + 15)"
      ],
      "metadata": {
        "colab": {
          "base_uri": "https://localhost:8080/",
          "height": 38
        },
        "id": "mUqZz56s5Uhz",
        "outputId": "eb2a7551-f42d-43bb-8fe3-b3d2d149a3f3"
      },
      "execution_count": null,
      "outputs": [
        {
          "output_type": "execute_result",
          "data": {
            "image/png": "[encoded data removed]",
            "text/latex": "$\\displaystyle 5.46498570421904$",
            "text/plain": [
              "5.464985704219043"
            ]
          },
          "metadata": {},
          "execution_count": 17
        }
      ]
    },
    {
      "cell_type": "code",
      "source": [
        "np.linalg.norm(A) # Frobenius"
      ],
      "metadata": {
        "colab": {
          "base_uri": "https://localhost:8080/",
          "height": 38
        },
        "id": "EPxrMjCY5XTS",
        "outputId": "9dd711ca-6d51-4622-9d11-23a5da208454"
      },
      "execution_count": null,
      "outputs": [
        {
          "output_type": "execute_result",
          "data": {
            "image/png": "[encoded data removed]",
            "text/latex": "$\\displaystyle 5.47722557505166$",
            "text/plain": [
              "5.477225575051661"
            ]
          },
          "metadata": {},
          "execution_count": 18
        }
      ]
    },
    {
      "cell_type": "code",
      "source": [
        "symA.norm()"
      ],
      "metadata": {
        "id": "faszbnZT5Y_n"
      },
      "execution_count": null,
      "outputs": []
    },
    {
      "cell_type": "code",
      "source": [
        "import math\n",
        "from math import sqrt\n",
        "sqrt(30)"
      ],
      "metadata": {
        "id": "uszeyraI5aQt"
      },
      "execution_count": null,
      "outputs": []
    },
    {
      "cell_type": "code",
      "source": [
        "np.linalg.norm(A, ord=np.inf)"
      ],
      "metadata": {
        "colab": {
          "base_uri": "https://localhost:8080/",
          "height": 38
        },
        "id": "fH9gwwaJ5b_g",
        "outputId": "9d1684e4-a5f6-4756-afa5-a6575fb1a0cd"
      },
      "execution_count": null,
      "outputs": [
        {
          "output_type": "execute_result",
          "data": {
            "image/png": "[encoded data removed]",
            "text/latex": "$\\displaystyle 7.0$",
            "text/plain": [
              "7.0"
            ]
          },
          "metadata": {},
          "execution_count": 22
        }
      ]
    },
    {
      "cell_type": "code",
      "source": [
        "# symA.norm(ord=1)\n",
        "# symA.norm(1) # fails"
      ],
      "metadata": {
        "id": "3tDdkpIr5dLg"
      },
      "execution_count": null,
      "outputs": []
    },
    {
      "cell_type": "markdown",
      "source": [
        "4. compute Ainv"
      ],
      "metadata": {
        "id": "dM2FAU3v5fxM"
      }
    },
    {
      "cell_type": "code",
      "source": [
        "np.linalg.inv(A)"
      ],
      "metadata": {
        "colab": {
          "base_uri": "https://localhost:8080/"
        },
        "id": "UXFDTd9M5hyg",
        "outputId": "4b8e5a47-bf6f-497a-9e4a-abe05076ada4"
      },
      "execution_count": null,
      "outputs": [
        {
          "output_type": "execute_result",
          "data": {
            "text/plain": [
              "array([[-2. ,  1. ],\n",
              "       [ 1.5, -0.5]])"
            ]
          },
          "metadata": {},
          "execution_count": 23
        }
      ]
    },
    {
      "cell_type": "code",
      "source": [
        "symA.inv()"
      ],
      "metadata": {
        "colab": {
          "base_uri": "https://localhost:8080/",
          "height": 58
        },
        "id": "3ZChqKdB5jJs",
        "outputId": "dfcc17e6-400f-49dd-d85c-46e8f4237dd8"
      },
      "execution_count": null,
      "outputs": [
        {
          "output_type": "execute_result",
          "data": {
            "text/latex": "$\\displaystyle \\left[\\begin{matrix}-2 & 1\\\\\\frac{3}{2} & - \\frac{1}{2}\\end{matrix}\\right]$",
            "text/plain": [
              "⎡-2    1  ⎤\n",
              "⎢         ⎥\n",
              "⎣3/2  -1/2⎦"
            ]
          },
          "metadata": {},
          "execution_count": 24
        }
      ]
    },
    {
      "cell_type": "markdown",
      "source": [
        "5. compute At"
      ],
      "metadata": {
        "id": "73G7xAJ25w4N"
      }
    },
    {
      "cell_type": "code",
      "source": [
        "A.T"
      ],
      "metadata": {
        "colab": {
          "base_uri": "https://localhost:8080/"
        },
        "id": "WVoNyJW95yYH",
        "outputId": "d940c1c4-ff96-451e-bca1-8579306b97c8"
      },
      "execution_count": null,
      "outputs": [
        {
          "output_type": "execute_result",
          "data": {
            "text/plain": [
              "array([[1, 3],\n",
              "       [2, 4]])"
            ]
          },
          "metadata": {},
          "execution_count": 25
        }
      ]
    },
    {
      "cell_type": "code",
      "source": [
        "A.transpose()"
      ],
      "metadata": {
        "colab": {
          "base_uri": "https://localhost:8080/"
        },
        "id": "bv1WqDA0572H",
        "outputId": "dde83276-7d21-4a2a-c255-1366081b36d4"
      },
      "execution_count": null,
      "outputs": [
        {
          "output_type": "execute_result",
          "data": {
            "text/plain": [
              "array([[1, 3],\n",
              "       [2, 4]])"
            ]
          },
          "metadata": {},
          "execution_count": 26
        }
      ]
    },
    {
      "cell_type": "code",
      "source": [
        "symA.T"
      ],
      "metadata": {
        "colab": {
          "base_uri": "https://localhost:8080/",
          "height": 58
        },
        "id": "NcafRKyI58-P",
        "outputId": "7e42274e-4a49-45e6-a563-f6a977a2d67a"
      },
      "execution_count": null,
      "outputs": [
        {
          "output_type": "execute_result",
          "data": {
            "text/latex": "$\\displaystyle \\left[\\begin{matrix}1 & 3\\\\2 & 4\\end{matrix}\\right]$",
            "text/plain": [
              "⎡1  3⎤\n",
              "⎢    ⎥\n",
              "⎣2  4⎦"
            ]
          },
          "metadata": {},
          "execution_count": 27
        }
      ]
    },
    {
      "cell_type": "code",
      "source": [
        "symA.transpose()"
      ],
      "metadata": {
        "colab": {
          "base_uri": "https://localhost:8080/",
          "height": 58
        },
        "id": "jdoZtp2N5-NY",
        "outputId": "6cfc26ca-2ab7-4511-8851-b59561640f3f"
      },
      "execution_count": null,
      "outputs": [
        {
          "output_type": "execute_result",
          "data": {
            "text/latex": "$\\displaystyle \\left[\\begin{matrix}1 & 3\\\\2 & 4\\end{matrix}\\right]$",
            "text/plain": [
              "⎡1  3⎤\n",
              "⎢    ⎥\n",
              "⎣2  4⎦"
            ]
          },
          "metadata": {},
          "execution_count": 28
        }
      ]
    },
    {
      "cell_type": "markdown",
      "source": [
        "6. compare Ainv to At"
      ],
      "metadata": {
        "id": "_ECzjMFF6Bfa"
      }
    },
    {
      "cell_type": "code",
      "source": [
        "np.allclose(A.T, np.linalg.inv(A))"
      ],
      "metadata": {
        "colab": {
          "base_uri": "https://localhost:8080/"
        },
        "id": "SRq3WSDG6CSd",
        "outputId": "7cc286fe-1922-48d6-9b0b-d7ebd3805a2a"
      },
      "execution_count": null,
      "outputs": [
        {
          "output_type": "execute_result",
          "data": {
            "text/plain": [
              "False"
            ]
          },
          "metadata": {},
          "execution_count": 29
        }
      ]
    },
    {
      "cell_type": "code",
      "source": [
        "np.isclose(A.T, np.linalg.inv(A))"
      ],
      "metadata": {
        "colab": {
          "base_uri": "https://localhost:8080/"
        },
        "id": "DyIJS7Gy6EWP",
        "outputId": "81b39cdb-5f15-4122-b4a0-bd5508bc0bb6"
      },
      "execution_count": null,
      "outputs": [
        {
          "output_type": "execute_result",
          "data": {
            "text/plain": [
              "array([[False, False],\n",
              "       [False, False]])"
            ]
          },
          "metadata": {},
          "execution_count": 30
        }
      ]
    },
    {
      "cell_type": "code",
      "source": [
        "A.T - np.linalg.inv(A)"
      ],
      "metadata": {
        "colab": {
          "base_uri": "https://localhost:8080/"
        },
        "id": "6-qRqHK56GPV",
        "outputId": "def7fe9b-b025-4fb5-e84d-d23f8f373e43"
      },
      "execution_count": null,
      "outputs": [
        {
          "output_type": "execute_result",
          "data": {
            "text/plain": [
              "array([[3. , 2. ],\n",
              "       [0.5, 4.5]])"
            ]
          },
          "metadata": {},
          "execution_count": 31
        }
      ]
    },
    {
      "cell_type": "markdown",
      "source": [
        "7. compute l1 norm of Ainv and A"
      ],
      "metadata": {
        "id": "w-_won5b6Iac"
      }
    },
    {
      "cell_type": "code",
      "source": [
        "normAinv = np.linalg.norm(np.linalg.inv(A), ord=1)\n",
        "normAinv"
      ],
      "metadata": {
        "colab": {
          "base_uri": "https://localhost:8080/",
          "height": 38
        },
        "id": "a35hxrXS6KBH",
        "outputId": "abf0c271-3250-49d7-ece2-c6a0c20382b1"
      },
      "execution_count": null,
      "outputs": [
        {
          "output_type": "execute_result",
          "data": {
            "image/png": "[encoded data removed]",
            "text/latex": "$\\displaystyle 3.5$",
            "text/plain": [
              "3.499999999999999"
            ]
          },
          "metadata": {},
          "execution_count": 32
        }
      ]
    },
    {
      "cell_type": "code",
      "source": [
        "normA = np.linalg.norm(A, ord=1)\n",
        "normA"
      ],
      "metadata": {
        "colab": {
          "base_uri": "https://localhost:8080/",
          "height": 38
        },
        "id": "WXf-ndiR6L6t",
        "outputId": "72251d8e-51dd-40cd-f464-4a6be3056ba2"
      },
      "execution_count": null,
      "outputs": [
        {
          "output_type": "execute_result",
          "data": {
            "image/png": "[encoded data removed]",
            "text/latex": "$\\displaystyle 6.0$",
            "text/plain": [
              "6.0"
            ]
          },
          "metadata": {},
          "execution_count": 33
        }
      ]
    },
    {
      "cell_type": "code",
      "source": [
        "normAinv * normA"
      ],
      "metadata": {
        "colab": {
          "base_uri": "https://localhost:8080/",
          "height": 38
        },
        "id": "ZvhdVHNP6OXP",
        "outputId": "8648f226-a3f0-4ed6-d972-9b2b0a3875c6"
      },
      "execution_count": null,
      "outputs": [
        {
          "output_type": "execute_result",
          "data": {
            "image/png": "[encoded data removed]",
            "text/latex": "$\\displaystyle 21.0$",
            "text/plain": [
              "20.999999999999993"
            ]
          },
          "metadata": {},
          "execution_count": 34
        }
      ]
    },
    {
      "cell_type": "markdown",
      "source": [
        "8. compute its condition number"
      ],
      "metadata": {
        "id": "xspj1dwh6Ql1"
      }
    },
    {
      "cell_type": "code",
      "source": [
        "np.linalg.cond(A, p=1)"
      ],
      "metadata": {
        "colab": {
          "base_uri": "https://localhost:8080/",
          "height": 38
        },
        "id": "MxdJnEvH6k69",
        "outputId": "aa6a38e7-3dc7-4434-a8fb-28eafb0485d1"
      },
      "execution_count": null,
      "outputs": [
        {
          "output_type": "execute_result",
          "data": {
            "image/png": "[encoded data removed]",
            "text/latex": "$\\displaystyle 21.0$",
            "text/plain": [
              "20.999999999999993"
            ]
          },
          "metadata": {},
          "execution_count": 35
        }
      ]
    },
    {
      "cell_type": "markdown",
      "source": [
        "9. compute AtA"
      ],
      "metadata": {
        "id": "ElPGhnv36odE"
      }
    },
    {
      "cell_type": "code",
      "source": [
        "A.T @ A"
      ],
      "metadata": {
        "colab": {
          "base_uri": "https://localhost:8080/"
        },
        "id": "cS4h0yvZ6mZW",
        "outputId": "83bae02a-b4c8-40f1-dae3-bcc974422d1b"
      },
      "execution_count": null,
      "outputs": [
        {
          "output_type": "execute_result",
          "data": {
            "text/plain": [
              "array([[10, 14],\n",
              "       [14, 20]])"
            ]
          },
          "metadata": {},
          "execution_count": 36
        }
      ]
    },
    {
      "cell_type": "markdown",
      "source": [
        "check A for orthogonality by comparing AtA to an identity matrix"
      ],
      "metadata": {
        "id": "UdWijtjn6rZT"
      }
    },
    {
      "cell_type": "code",
      "source": [
        "np.allclose(A.T @ A, np.identity(A.shape[1]))"
      ],
      "metadata": {
        "colab": {
          "base_uri": "https://localhost:8080/"
        },
        "id": "Qr36H2TW6tNQ",
        "outputId": "bf0f2fc0-5782-4412-bc06-802f8f07e3a6"
      },
      "execution_count": null,
      "outputs": [
        {
          "output_type": "execute_result",
          "data": {
            "text/plain": [
              "False"
            ]
          },
          "metadata": {},
          "execution_count": 37
        }
      ]
    },
    {
      "cell_type": "markdown",
      "source": [
        "10. compute its l1 norm"
      ],
      "metadata": {
        "id": "nCEetMVB6vHu"
      }
    },
    {
      "cell_type": "code",
      "source": [
        "np.linalg.norm(A.T @ A, ord=1)"
      ],
      "metadata": {
        "colab": {
          "base_uri": "https://localhost:8080/",
          "height": 38
        },
        "id": "GOcX8cl66wcd",
        "outputId": "7fc296b6-08a0-4e2b-b3c3-567b7ca76140"
      },
      "execution_count": null,
      "outputs": [
        {
          "output_type": "execute_result",
          "data": {
            "image/png": "[encoded data removed]",
            "text/latex": "$\\displaystyle 34.0$",
            "text/plain": [
              "34.0"
            ]
          },
          "metadata": {},
          "execution_count": 38
        }
      ]
    },
    {
      "cell_type": "markdown",
      "source": [
        "11. compute its inverse AtAinv"
      ],
      "metadata": {
        "id": "cjBRWWFX6yjD"
      }
    },
    {
      "cell_type": "code",
      "source": [
        "np.linalg.inv(A.T @ A)"
      ],
      "metadata": {
        "colab": {
          "base_uri": "https://localhost:8080/"
        },
        "id": "-WLvWvZ060z6",
        "outputId": "ae0f9c28-9d0c-4752-9332-10167716c44a"
      },
      "execution_count": null,
      "outputs": [
        {
          "output_type": "execute_result",
          "data": {
            "text/plain": [
              "array([[ 5. , -3.5],\n",
              "       [-3.5,  2.5]])"
            ]
          },
          "metadata": {},
          "execution_count": 39
        }
      ]
    },
    {
      "cell_type": "code",
      "source": [
        "np.allclose(np.linalg.inv(A.T @ A), np.identity(A.shape[1]))"
      ],
      "metadata": {
        "colab": {
          "base_uri": "https://localhost:8080/"
        },
        "id": "3RkD_Ay57HKx",
        "outputId": "85b4fdd3-4a8e-4515-98cf-8bff152ba275"
      },
      "execution_count": null,
      "outputs": [
        {
          "output_type": "execute_result",
          "data": {
            "text/plain": [
              "False"
            ]
          },
          "metadata": {},
          "execution_count": 40
        }
      ]
    },
    {
      "cell_type": "markdown",
      "source": [
        "12. compute l1 norm of AtAinv"
      ],
      "metadata": {
        "id": "MjMmGOPa7JHe"
      }
    },
    {
      "cell_type": "code",
      "source": [
        "np.linalg.norm(np.linalg.inv(A.T @ A), ord=1)"
      ],
      "metadata": {
        "colab": {
          "base_uri": "https://localhost:8080/",
          "height": 38
        },
        "id": "mAJqAiFq7KS8",
        "outputId": "bdcd530a-07fb-40d4-9109-52f26c9bebb5"
      },
      "execution_count": null,
      "outputs": [
        {
          "output_type": "execute_result",
          "data": {
            "image/png": "[encoded data removed]",
            "text/latex": "$\\displaystyle 8.50000000000003$",
            "text/plain": [
              "8.50000000000003"
            ]
          },
          "metadata": {},
          "execution_count": 41
        }
      ]
    },
    {
      "cell_type": "markdown",
      "source": [
        "13. compute condition number of AtA"
      ],
      "metadata": {
        "id": "kNJ2P0vd7MDj"
      }
    },
    {
      "cell_type": "code",
      "source": [
        "np.linalg.cond(A.T @ A, p=1)"
      ],
      "metadata": {
        "colab": {
          "base_uri": "https://localhost:8080/",
          "height": 38
        },
        "id": "8CIJG5UD7NW-",
        "outputId": "8316bbe3-6d93-49b0-d5e9-e9a490070837"
      },
      "execution_count": null,
      "outputs": [
        {
          "output_type": "execute_result",
          "data": {
            "image/png": "[encoded data removed]",
            "text/latex": "$\\displaystyle 289.000000000001$",
            "text/plain": [
              "289.000000000001"
            ]
          },
          "metadata": {},
          "execution_count": 42
        }
      ]
    },
    {
      "cell_type": "markdown",
      "source": [
        "Check it by multiplication"
      ],
      "metadata": {
        "id": "QZlkSZWf7PPZ"
      }
    },
    {
      "cell_type": "code",
      "source": [
        "np.linalg.norm(np.linalg.inv(A.T @ A), ord=1) * np.linalg.norm(A.T @ A, ord=1)"
      ],
      "metadata": {
        "colab": {
          "base_uri": "https://localhost:8080/",
          "height": 38
        },
        "id": "0bKqqo6_7SQ3",
        "outputId": "3fafe3c5-d523-4e2f-cb2e-4472c4c7fc7a"
      },
      "execution_count": null,
      "outputs": [
        {
          "output_type": "execute_result",
          "data": {
            "image/png": "[encoded data removed]",
            "text/latex": "$\\displaystyle 289.000000000001$",
            "text/plain": [
              "289.000000000001"
            ]
          },
          "metadata": {},
          "execution_count": 43
        }
      ]
    },
    {
      "cell_type": "markdown",
      "source": [
        "14. compare condition numbers of A and AtA"
      ],
      "metadata": {
        "id": "SyaC7YhJ7s8M"
      }
    },
    {
      "cell_type": "code",
      "source": [
        "np.linalg.cond(A, p=1), np.linalg.cond(A.T @ A, p=1)\n"
      ],
      "metadata": {
        "colab": {
          "base_uri": "https://localhost:8080/",
          "height": 38
        },
        "id": "kvMkRVrP7vNi",
        "outputId": "f636a619-74c8-42e0-9b58-2c09692ec4e0"
      },
      "execution_count": null,
      "outputs": [
        {
          "output_type": "execute_result",
          "data": {
            "image/png": "[encoded data removed]",
            "text/latex": "$\\displaystyle \\left( 21.0, \\  289.000000000001\\right)$",
            "text/plain": [
              "(20.999999999999993, 289.000000000001)"
            ]
          },
          "metadata": {},
          "execution_count": 44
        }
      ]
    },
    {
      "cell_type": "code",
      "source": [
        "from sympy.matrices import Matrix, GramSchmidt\n",
        "\n",
        "V = [Matrix([2,3]), Matrix([3,6])]\n"
      ],
      "metadata": {
        "id": "b8cy9AuV_Pr0"
      },
      "execution_count": null,
      "outputs": []
    },
    {
      "cell_type": "code",
      "source": [
        "Matrix.orthogonalize(*V, normalize=True)"
      ],
      "metadata": {
        "colab": {
          "base_uri": "https://localhost:8080/",
          "height": 68
        },
        "id": "0DLozSjG_TLP",
        "outputId": "f32e16e5-d304-4c4c-92e5-1397f04fd84d"
      },
      "execution_count": null,
      "outputs": [
        {
          "output_type": "execute_result",
          "data": {
            "text/latex": "$\\displaystyle \\left[ \\left[\\begin{matrix}\\frac{2 \\sqrt{13}}{13}\\\\\\frac{3 \\sqrt{13}}{13}\\end{matrix}\\right], \\  \\left[\\begin{matrix}- \\frac{3 \\sqrt{13}}{13}\\\\\\frac{2 \\sqrt{13}}{13}\\end{matrix}\\right]\\right]$",
            "text/plain": [
              "⎡⎡2⋅√13⎤  ⎡-3⋅√13 ⎤⎤\n",
              "⎢⎢─────⎥  ⎢───────⎥⎥\n",
              "⎢⎢  13 ⎥  ⎢   13  ⎥⎥\n",
              "⎢⎢     ⎥, ⎢       ⎥⎥\n",
              "⎢⎢3⋅√13⎥  ⎢ 2⋅√13 ⎥⎥\n",
              "⎢⎢─────⎥  ⎢ ───── ⎥⎥\n",
              "⎣⎣  13 ⎦  ⎣   13  ⎦⎦"
            ]
          },
          "metadata": {},
          "execution_count": 46
        }
      ]
    },
    {
      "cell_type": "code",
      "source": [
        "Matrix.orthogonalize(*V)"
      ],
      "metadata": {
        "colab": {
          "base_uri": "https://localhost:8080/",
          "height": 58
        },
        "id": "Is1imDPy_bbi",
        "outputId": "27faf1fa-115e-4ede-8978-842fa8a128cc"
      },
      "execution_count": null,
      "outputs": [
        {
          "output_type": "execute_result",
          "data": {
            "text/latex": "$\\displaystyle \\left[ \\left[\\begin{matrix}2\\\\3\\end{matrix}\\right], \\  \\left[\\begin{matrix}- \\frac{9}{13}\\\\\\frac{6}{13}\\end{matrix}\\right]\\right]$",
            "text/plain": [
              "⎡⎡2⎤  ⎡-9/13⎤⎤\n",
              "⎢⎢ ⎥, ⎢     ⎥⎥\n",
              "⎣⎣3⎦  ⎣6/13 ⎦⎦"
            ]
          },
          "metadata": {},
          "execution_count": 47
        }
      ]
    },
    {
      "cell_type": "code",
      "source": [
        "A = np.array([[0, 1], [1, 1], [1, 1], [2, 1]])\n",
        "\n",
        "q, r = np.linalg.qr(A)"
      ],
      "metadata": {
        "id": "9bxDpKra_cvp"
      },
      "execution_count": null,
      "outputs": []
    },
    {
      "cell_type": "code",
      "source": [
        "r"
      ],
      "metadata": {
        "colab": {
          "base_uri": "https://localhost:8080/"
        },
        "id": "7kuAhxMw_sYe",
        "outputId": "961c4f41-6d05-4b31-e5e8-430f7c32987d"
      },
      "execution_count": null,
      "outputs": [
        {
          "output_type": "execute_result",
          "data": {
            "text/plain": [
              "array([[-2.44948974, -1.63299316],\n",
              "       [ 0.        ,  1.15470054]])"
            ]
          },
          "metadata": {},
          "execution_count": 52
        }
      ]
    },
    {
      "cell_type": "code",
      "source": [
        "#A = np.array([[0, 1], [1, 0]]); symA = Matrix(A)  \n",
        "A = np.array([[1,1,1], [0,1,1],[0,0,1]]); symA = Matrix(A)  \n",
        "A"
      ],
      "metadata": {
        "colab": {
          "base_uri": "https://localhost:8080/"
        },
        "id": "zHtIqLanCF9O",
        "outputId": "3393e681-ff39-4af0-e6e8-2f7f40d69787"
      },
      "execution_count": null,
      "outputs": [
        {
          "output_type": "execute_result",
          "data": {
            "text/plain": [
              "array([[1, 1, 1],\n",
              "       [0, 1, 1],\n",
              "       [0, 0, 1]])"
            ]
          },
          "metadata": {},
          "execution_count": 67
        }
      ]
    },
    {
      "cell_type": "code",
      "source": [
        "v1 = np.array([1,1,1])"
      ],
      "metadata": {
        "id": "E2dQnL4sCGY5"
      },
      "execution_count": null,
      "outputs": []
    },
    {
      "cell_type": "code",
      "source": [
        "np.linalg.norm(v1)"
      ],
      "metadata": {
        "colab": {
          "base_uri": "https://localhost:8080/",
          "height": 38
        },
        "id": "q_dtDQjOCMLN",
        "outputId": "646ce987-475a-4469-b578-a1535abd072c"
      },
      "execution_count": null,
      "outputs": [
        {
          "output_type": "execute_result",
          "data": {
            "image/png": "[encoded data removed]",
            "text/latex": "$\\displaystyle 1.73205080756888$",
            "text/plain": [
              "1.7320508075688772"
            ]
          },
          "metadata": {},
          "execution_count": 79
        }
      ]
    },
    {
      "cell_type": "code",
      "source": [
        "a1_hat = v1/np.linalg.norm(v1)\n",
        "a1_hat"
      ],
      "metadata": {
        "colab": {
          "base_uri": "https://localhost:8080/"
        },
        "id": "GE4bTMYGCSt3",
        "outputId": "4e00aa94-6065-4758-b47a-40062dca1208"
      },
      "execution_count": null,
      "outputs": [
        {
          "output_type": "execute_result",
          "data": {
            "text/plain": [
              "array([0.57735027, 0.57735027, 0.57735027])"
            ]
          },
          "metadata": {},
          "execution_count": 80
        }
      ]
    },
    {
      "cell_type": "code",
      "source": [
        "v2 = np.array([0,1,1])"
      ],
      "metadata": {
        "id": "IhLUjXgTElcS"
      },
      "execution_count": null,
      "outputs": []
    },
    {
      "cell_type": "code",
      "source": [
        "proj = v2.dot(a1_hat) * (a1_hat)\n",
        "proj"
      ],
      "metadata": {
        "colab": {
          "base_uri": "https://localhost:8080/"
        },
        "id": "tP1XyCetEoWg",
        "outputId": "87e50bc4-1ffc-47e1-9bed-d1e6367ac868"
      },
      "execution_count": null,
      "outputs": [
        {
          "output_type": "execute_result",
          "data": {
            "text/plain": [
              "array([0.66666667, 0.66666667, 0.66666667])"
            ]
          },
          "metadata": {},
          "execution_count": 84
        }
      ]
    },
    {
      "cell_type": "code",
      "source": [
        "a2 = v2 - proj\n",
        "a2"
      ],
      "metadata": {
        "colab": {
          "base_uri": "https://localhost:8080/"
        },
        "id": "Zd6mhqyZFIzY",
        "outputId": "02880253-7ac6-4a44-bb8b-5614941488a9"
      },
      "execution_count": null,
      "outputs": [
        {
          "output_type": "execute_result",
          "data": {
            "text/plain": [
              "array([-0.66666667,  0.33333333,  0.33333333])"
            ]
          },
          "metadata": {},
          "execution_count": 85
        }
      ]
    },
    {
      "cell_type": "code",
      "source": [
        "np.linalg.norm(a2)"
      ],
      "metadata": {
        "colab": {
          "base_uri": "https://localhost:8080/",
          "height": 38
        },
        "id": "7rdtv5wLFqcH",
        "outputId": "f0ccf3ab-8e1d-4f44-8e08-14eba106940b"
      },
      "execution_count": null,
      "outputs": [
        {
          "output_type": "execute_result",
          "data": {
            "image/png": "[encoded data removed]",
            "text/latex": "$\\displaystyle 0.816496580927726$",
            "text/plain": [
              "0.816496580927726"
            ]
          },
          "metadata": {},
          "execution_count": 86
        }
      ]
    },
    {
      "cell_type": "code",
      "source": [
        "a2_hat = a2/np.linalg.norm(a2)\n",
        "a2_hat"
      ],
      "metadata": {
        "colab": {
          "base_uri": "https://localhost:8080/"
        },
        "id": "QmcbEO6sFu71",
        "outputId": "000361a8-4aa0-4ab3-eec9-46e72edcb2db"
      },
      "execution_count": null,
      "outputs": [
        {
          "output_type": "execute_result",
          "data": {
            "text/plain": [
              "array([-0.81649658,  0.40824829,  0.40824829])"
            ]
          },
          "metadata": {},
          "execution_count": 87
        }
      ]
    },
    {
      "cell_type": "code",
      "source": [
        "v3 = np.array([0,0,1])"
      ],
      "metadata": {
        "id": "wn5JWCxMGCLO"
      },
      "execution_count": null,
      "outputs": []
    },
    {
      "cell_type": "code",
      "source": [
        "proj_v3_a1 = v3.dot(a1_hat) * (a1_hat)\n",
        "proj_v3_a1"
      ],
      "metadata": {
        "colab": {
          "base_uri": "https://localhost:8080/"
        },
        "id": "FmN7l0faGGUn",
        "outputId": "c5b5419c-3979-45d9-e839-362ebc055ada"
      },
      "execution_count": null,
      "outputs": [
        {
          "output_type": "execute_result",
          "data": {
            "text/plain": [
              "array([0.33333333, 0.33333333, 0.33333333])"
            ]
          },
          "metadata": {},
          "execution_count": 90
        }
      ]
    },
    {
      "cell_type": "code",
      "source": [
        "proj_v3_a2 = v3.dot(a2_hat) * (a2_hat)\n",
        "proj_v3_a2"
      ],
      "metadata": {
        "colab": {
          "base_uri": "https://localhost:8080/"
        },
        "id": "Fl_lR-ezHLhM",
        "outputId": "6e83deeb-a455-4c69-c1e6-260db0e72f7a"
      },
      "execution_count": null,
      "outputs": [
        {
          "output_type": "execute_result",
          "data": {
            "text/plain": [
              "array([-0.33333333,  0.16666667,  0.16666667])"
            ]
          },
          "metadata": {},
          "execution_count": 91
        }
      ]
    },
    {
      "cell_type": "code",
      "source": [
        "a3 = v3 - proj_v3_a2 - proj_v3_a1\n",
        "a3"
      ],
      "metadata": {
        "colab": {
          "base_uri": "https://localhost:8080/"
        },
        "id": "X_fUY_hjHa4t",
        "outputId": "4a9b4b9c-6073-4ef6-ff69-33981d88dd52"
      },
      "execution_count": null,
      "outputs": [
        {
          "output_type": "execute_result",
          "data": {
            "text/plain": [
              "array([-1.66533454e-16, -5.00000000e-01,  5.00000000e-01])"
            ]
          },
          "metadata": {},
          "execution_count": 92
        }
      ]
    },
    {
      "cell_type": "code",
      "source": [
        "np.linalg.norm(a3)"
      ],
      "metadata": {
        "colab": {
          "base_uri": "https://localhost:8080/",
          "height": 38
        },
        "id": "vkBXPDUWHlHC",
        "outputId": "bba897b9-a009-4866-942f-b264b1247ce5"
      },
      "execution_count": null,
      "outputs": [
        {
          "output_type": "execute_result",
          "data": {
            "image/png": "[encoded data removed]",
            "text/latex": "$\\displaystyle 0.707106781186547$",
            "text/plain": [
              "0.7071067811865475"
            ]
          },
          "metadata": {},
          "execution_count": 93
        }
      ]
    },
    {
      "cell_type": "code",
      "source": [
        "from sympy.matrices import GramSchmidt"
      ],
      "metadata": {
        "id": "Lv-EDp_PHy6l"
      },
      "execution_count": null,
      "outputs": []
    },
    {
      "cell_type": "code",
      "source": [
        "M = Matrix(A)\n",
        "M"
      ],
      "metadata": {
        "colab": {
          "base_uri": "https://localhost:8080/",
          "height": 78
        },
        "id": "jOtBox0JHz9J",
        "outputId": "bb25ddf4-d246-4fd2-d897-7aa22bfb75fe"
      },
      "execution_count": null,
      "outputs": [
        {
          "output_type": "execute_result",
          "data": {
            "text/latex": "$\\displaystyle \\left[\\begin{matrix}1 & 1 & 1\\\\0 & 1 & 1\\\\0 & 0 & 1\\end{matrix}\\right]$",
            "text/plain": [
              "⎡1  1  1⎤\n",
              "⎢       ⎥\n",
              "⎢0  1  1⎥\n",
              "⎢       ⎥\n",
              "⎣0  0  1⎦"
            ]
          },
          "metadata": {},
          "execution_count": 96
        }
      ]
    },
    {
      "cell_type": "code",
      "source": [
        "Q, R = M.QRdecomposition()\n",
        "Q, R"
      ],
      "metadata": {
        "colab": {
          "base_uri": "https://localhost:8080/",
          "height": 78
        },
        "id": "-Jidi-bTH510",
        "outputId": "2fe305a5-b350-4a12-d0a0-c7b6d09fedaa"
      },
      "execution_count": null,
      "outputs": [
        {
          "output_type": "execute_result",
          "data": {
            "text/latex": "$\\displaystyle \\left( \\left[\\begin{matrix}1 & 0 & 0\\\\0 & 1 & 0\\\\0 & 0 & 1\\end{matrix}\\right], \\  \\left[\\begin{matrix}1 & 1 & 1\\\\0 & 1 & 1\\\\0 & 0 & 1\\end{matrix}\\right]\\right)$",
            "text/plain": [
              "⎛⎡1  0  0⎤  ⎡1  1  1⎤⎞\n",
              "⎜⎢       ⎥  ⎢       ⎥⎟\n",
              "⎜⎢0  1  0⎥, ⎢0  1  1⎥⎟\n",
              "⎜⎢       ⎥  ⎢       ⎥⎟\n",
              "⎝⎣0  0  1⎦  ⎣0  0  1⎦⎠"
            ]
          },
          "metadata": {},
          "execution_count": 97
        }
      ]
    },
    {
      "cell_type": "code",
      "source": [
        "Q, R = np.linalg.qr(M)\n",
        "Q, R"
      ],
      "metadata": {
        "colab": {
          "base_uri": "https://localhost:8080/"
        },
        "id": "R_4TRpS-IL-7",
        "outputId": "37263e63-14a7-4d8a-d78d-31457c8725f4"
      },
      "execution_count": null,
      "outputs": [
        {
          "output_type": "execute_result",
          "data": {
            "text/plain": [
              "(array([[1., 0., 0.],\n",
              "        [0., 1., 0.],\n",
              "        [0., 0., 1.]]), array([[1., 1., 1.],\n",
              "        [0., 1., 1.],\n",
              "        [0., 0., 1.]]))"
            ]
          },
          "metadata": {},
          "execution_count": 99
        }
      ]
    },
    {
      "cell_type": "code",
      "source": [
        "import numpy as np\n",
        "\n",
        "from sympy.matrices import Matrix\n",
        "\n",
        "data = np.array([\n",
        "\n",
        "    [1, 1, 1], \n",
        "\n",
        "    [0, 1, 1], \n",
        "\n",
        "    [0, 0, 1]\n",
        "\n",
        "])\n",
        "\n",
        "V = Matrix(data)\n",
        "\n",
        "Q, R = V.QRdecomposition()\n",
        "\n",
        "V, Q, R"
      ],
      "metadata": {
        "id": "W_e9wzdrIqkE",
        "outputId": "aeb363e0-8818-4656-815b-0de297b2664c",
        "colab": {
          "base_uri": "https://localhost:8080/",
          "height": 78
        }
      },
      "execution_count": null,
      "outputs": [
        {
          "output_type": "execute_result",
          "data": {
            "text/latex": "$\\displaystyle \\left( \\left[\\begin{matrix}1 & 1 & 1\\\\0 & 1 & 1\\\\0 & 0 & 1\\end{matrix}\\right], \\  \\left[\\begin{matrix}1 & 0 & 0\\\\0 & 1 & 0\\\\0 & 0 & 1\\end{matrix}\\right], \\  \\left[\\begin{matrix}1 & 1 & 1\\\\0 & 1 & 1\\\\0 & 0 & 1\\end{matrix}\\right]\\right)$",
            "text/plain": [
              "⎛⎡1  1  1⎤  ⎡1  0  0⎤  ⎡1  1  1⎤⎞\n",
              "⎜⎢       ⎥  ⎢       ⎥  ⎢       ⎥⎟\n",
              "⎜⎢0  1  1⎥, ⎢0  1  0⎥, ⎢0  1  1⎥⎟\n",
              "⎜⎢       ⎥  ⎢       ⎥  ⎢       ⎥⎟\n",
              "⎝⎣0  0  1⎦  ⎣0  0  1⎦  ⎣0  0  1⎦⎠"
            ]
          },
          "metadata": {},
          "execution_count": 100
        }
      ]
    },
    {
      "cell_type": "markdown",
      "source": [
        "Householder"
      ],
      "metadata": {
        "id": "aAI8kMSs3Fa8"
      }
    },
    {
      "cell_type": "code",
      "source": [
        "from scipy.linalg import orth\n",
        "from sympy.matrices import Matrix\n",
        "import sympy\n",
        "import numpy as np\n",
        "from sympy import init_printing\n",
        "init_printing()"
      ],
      "metadata": {
        "id": "zMdQhi_y3IhO"
      },
      "execution_count": null,
      "outputs": []
    },
    {
      "cell_type": "code",
      "source": [
        "x = np.array([[3],\n",
        "             [-6]])\n",
        "v = np.array([[3],\n",
        "             [4]])\n",
        "y = x - 2*np.dot((np.dot(x, v) / np.dot(v,v)),v)\n",
        "y\n"
      ],
      "metadata": {
        "colab": {
          "base_uri": "https://localhost:8080/",
          "height": 252
        },
        "id": "hhMSGmE-3Pld",
        "outputId": "fb234b5f-ff2c-47af-cab1-e0077f880f80"
      },
      "execution_count": null,
      "outputs": [
        {
          "output_type": "error",
          "ename": "ValueError",
          "evalue": "ignored",
          "traceback": [
            "\u001b[0;31m---------------------------------------------------------------------------\u001b[0m",
            "\u001b[0;31mValueError\u001b[0m                                Traceback (most recent call last)",
            "\u001b[0;32m<ipython-input-263-2871bbfb864f>\u001b[0m in \u001b[0;36m<module>\u001b[0;34m()\u001b[0m\n\u001b[1;32m      3\u001b[0m v = np.array([[3],\n\u001b[1;32m      4\u001b[0m              [4]])\n\u001b[0;32m----> 5\u001b[0;31m \u001b[0my\u001b[0m \u001b[0;34m=\u001b[0m \u001b[0mx\u001b[0m \u001b[0;34m-\u001b[0m \u001b[0;36m2\u001b[0m\u001b[0;34m*\u001b[0m\u001b[0mnp\u001b[0m\u001b[0;34m.\u001b[0m\u001b[0mdot\u001b[0m\u001b[0;34m(\u001b[0m\u001b[0;34m(\u001b[0m\u001b[0mnp\u001b[0m\u001b[0;34m.\u001b[0m\u001b[0mdot\u001b[0m\u001b[0;34m(\u001b[0m\u001b[0mx\u001b[0m\u001b[0;34m,\u001b[0m \u001b[0mv\u001b[0m\u001b[0;34m)\u001b[0m \u001b[0;34m/\u001b[0m \u001b[0mnp\u001b[0m\u001b[0;34m.\u001b[0m\u001b[0mdot\u001b[0m\u001b[0;34m(\u001b[0m\u001b[0mv\u001b[0m\u001b[0;34m,\u001b[0m\u001b[0mv\u001b[0m\u001b[0;34m)\u001b[0m\u001b[0;34m)\u001b[0m\u001b[0;34m,\u001b[0m\u001b[0mv\u001b[0m\u001b[0;34m)\u001b[0m\u001b[0;34m\u001b[0m\u001b[0;34m\u001b[0m\u001b[0m\n\u001b[0m\u001b[1;32m      6\u001b[0m \u001b[0my\u001b[0m\u001b[0;34m\u001b[0m\u001b[0;34m\u001b[0m\u001b[0m\n",
            "\u001b[0;32m<__array_function__ internals>\u001b[0m in \u001b[0;36mdot\u001b[0;34m(*args, **kwargs)\u001b[0m\n",
            "\u001b[0;31mValueError\u001b[0m: shapes (2,1) and (2,1) not aligned: 1 (dim 1) != 2 (dim 0)"
          ]
        }
      ]
    },
    {
      "cell_type": "code",
      "source": [
        "a = np.array([[3.5],\n",
        "             [0.5]])\n",
        "b = np.array([[0.5],\n",
        "             [-3.5]])\n",
        "an = np.linalg.norm(a)\n",
        "bn = np.linalg.norm(b)\n",
        "an"
      ],
      "metadata": {
        "colab": {
          "base_uri": "https://localhost:8080/",
          "height": 38
        },
        "id": "p9IXn0mB3yPo",
        "outputId": "41425ef9-0cc4-4b73-d58e-442691152601"
      },
      "execution_count": null,
      "outputs": [
        {
          "output_type": "execute_result",
          "data": {
            "text/plain": [
              "3.5355339059327378"
            ],
            "image/png": "[encoded data removed]",
            "text/latex": "$\\displaystyle 3.53553390593274$"
          },
          "metadata": {},
          "execution_count": 258
        }
      ]
    },
    {
      "cell_type": "code",
      "source": [
        "bn = np.linalg.norm(b)\n",
        "bn"
      ],
      "metadata": {
        "colab": {
          "base_uri": "https://localhost:8080/",
          "height": 38
        },
        "id": "-sR-XC8I4CJ6",
        "outputId": "c380e51d-1080-4e14-f0a8-1210f1ebe367"
      },
      "execution_count": null,
      "outputs": [
        {
          "output_type": "execute_result",
          "data": {
            "text/plain": [
              "3.5355339059327378"
            ],
            "image/png": "[encoded data removed]",
            "text/latex": "$\\displaystyle 3.53553390593274$"
          },
          "metadata": {},
          "execution_count": 256
        }
      ]
    },
    {
      "cell_type": "code",
      "source": [
        "v = a-b\n",
        "v"
      ],
      "metadata": {
        "colab": {
          "base_uri": "https://localhost:8080/"
        },
        "id": "G6WwOl_E4e16",
        "outputId": "7c85d8af-e173-444a-e381-7d0db6c75a93"
      },
      "execution_count": null,
      "outputs": [
        {
          "output_type": "execute_result",
          "data": {
            "text/plain": [
              "array([[3.],\n",
              "       [4.]])"
            ]
          },
          "metadata": {},
          "execution_count": 261
        }
      ]
    },
    {
      "cell_type": "code",
      "source": [
        "x = np.array([[3],\n",
        "             [-6]])\n",
        "v = np.array([[3],\n",
        "             [4]])\n",
        "\n",
        "I = np.identity(2)\n",
        "\n",
        "vt = np.transpose(v)\n",
        "\n",
        "print(v)\n",
        "print(vt)\n",
        "print(I)\n"
      ],
      "metadata": {
        "colab": {
          "base_uri": "https://localhost:8080/"
        },
        "id": "fIwPA9MuKIWX",
        "outputId": "cc1297d3-be95-41b1-e325-ca459b47157c"
      },
      "execution_count": null,
      "outputs": [
        {
          "output_type": "stream",
          "name": "stdout",
          "text": [
            "[[3]\n",
            " [4]]\n",
            "[[3 4]]\n",
            "[[1. 0.]\n",
            " [0. 1.]]\n"
          ]
        }
      ]
    },
    {
      "cell_type": "code",
      "source": [
        "Hv = I - 2 * (v @ vt) / (vt @ v)\n",
        "Hv"
      ],
      "metadata": {
        "colab": {
          "base_uri": "https://localhost:8080/"
        },
        "id": "7zsgmlXyKe3h",
        "outputId": "28485c36-2c9e-4562-8105-e3caf1340a5d"
      },
      "execution_count": null,
      "outputs": [
        {
          "output_type": "execute_result",
          "data": {
            "text/plain": [
              "array([[ 0.28, -0.96],\n",
              "       [-0.96, -0.28]])"
            ]
          },
          "metadata": {},
          "execution_count": 268
        }
      ]
    },
    {
      "cell_type": "code",
      "source": [
        "X = np.array([[3],\n",
        "              [4]])\n",
        "\n",
        "Y = Hv @ x\n",
        "Y"
      ],
      "metadata": {
        "colab": {
          "base_uri": "https://localhost:8080/"
        },
        "id": "5nnMoJJjKqyh",
        "outputId": "993c24c9-cdfe-4dfc-f774-78d89b602053"
      },
      "execution_count": null,
      "outputs": [
        {
          "output_type": "execute_result",
          "data": {
            "text/plain": [
              "array([-3.,  4.])"
            ]
          },
          "metadata": {},
          "execution_count": 87
        }
      ]
    },
    {
      "cell_type": "code",
      "source": [
        "np.transpose(Hv)\n"
      ],
      "metadata": {
        "colab": {
          "base_uri": "https://localhost:8080/"
        },
        "id": "LLuHQkIkPty6",
        "outputId": "28797c2a-374c-40f0-818d-262890ab7be0"
      },
      "execution_count": null,
      "outputs": [
        {
          "output_type": "execute_result",
          "data": {
            "text/plain": [
              "array([[-1.,  0.],\n",
              "       [ 0.,  1.]])"
            ]
          },
          "metadata": {},
          "execution_count": 88
        }
      ]
    },
    {
      "cell_type": "code",
      "source": [
        "np.linalg.inv(Hv)"
      ],
      "metadata": {
        "colab": {
          "base_uri": "https://localhost:8080/"
        },
        "id": "eM-MsQ4MQRPy",
        "outputId": "1c69abf2-99ba-4c1c-b352-ffcbaecba7ba"
      },
      "execution_count": null,
      "outputs": [
        {
          "output_type": "execute_result",
          "data": {
            "text/plain": [
              "array([[-1., -0.],\n",
              "       [ 0.,  1.]])"
            ]
          },
          "metadata": {},
          "execution_count": 89
        }
      ]
    },
    {
      "cell_type": "markdown",
      "source": [
        "Gives Identity"
      ],
      "metadata": {
        "id": "7Ih9wAOsQkeA"
      }
    },
    {
      "cell_type": "code",
      "source": [
        "Hv**2"
      ],
      "metadata": {
        "colab": {
          "base_uri": "https://localhost:8080/"
        },
        "id": "7bXFi4oNQSgF",
        "outputId": "c46b6cbf-1229-4f86-b7dd-755d0a61768e"
      },
      "execution_count": null,
      "outputs": [
        {
          "output_type": "execute_result",
          "data": {
            "text/plain": [
              "array([[1., 0.],\n",
              "       [0., 1.]])"
            ]
          },
          "metadata": {},
          "execution_count": 90
        }
      ]
    },
    {
      "cell_type": "markdown",
      "source": [
        "I"
      ],
      "metadata": {
        "id": "YNW7oxMhQrrx"
      }
    },
    {
      "cell_type": "code",
      "source": [
        "np.transpose(Hv).dot(Hv)"
      ],
      "metadata": {
        "colab": {
          "base_uri": "https://localhost:8080/"
        },
        "id": "hYBE_qB2QiCG",
        "outputId": "a44bed1e-cb1c-4a5e-a632-ab0af11c807f"
      },
      "execution_count": null,
      "outputs": [
        {
          "output_type": "execute_result",
          "data": {
            "text/plain": [
              "array([[1., 0.],\n",
              "       [0., 1.]])"
            ]
          },
          "metadata": {},
          "execution_count": 91
        }
      ]
    },
    {
      "cell_type": "code",
      "source": [
        "Hv**100"
      ],
      "metadata": {
        "colab": {
          "base_uri": "https://localhost:8080/"
        },
        "id": "JBtKU994Qshf",
        "outputId": "033fff55-cf6a-408a-bbb8-d47cd62eed38"
      },
      "execution_count": null,
      "outputs": [
        {
          "output_type": "execute_result",
          "data": {
            "text/plain": [
              "array([[1., 0.],\n",
              "       [0., 1.]])"
            ]
          },
          "metadata": {},
          "execution_count": 92
        }
      ]
    },
    {
      "cell_type": "markdown",
      "source": [
        "Hv Transpose"
      ],
      "metadata": {
        "id": "S9VWsmTWQ8kl"
      }
    },
    {
      "cell_type": "code",
      "source": [
        "Hv**101"
      ],
      "metadata": {
        "colab": {
          "base_uri": "https://localhost:8080/"
        },
        "id": "KIrK9_EoQ4GW",
        "outputId": "bdbe2933-9e33-4794-8794-e324b90fd3bb"
      },
      "execution_count": null,
      "outputs": [
        {
          "output_type": "execute_result",
          "data": {
            "text/plain": [
              "array([[-1.,  0.],\n",
              "       [ 0.,  1.]])"
            ]
          },
          "metadata": {},
          "execution_count": 93
        }
      ]
    },
    {
      "cell_type": "code",
      "source": [
        "A= [[4,5],[3,-1]]\n",
        "a1 = np.transpose(A)[0]\n",
        "a1 = np.array([[4],[3]])\n",
        "a1"
      ],
      "metadata": {
        "colab": {
          "base_uri": "https://localhost:8080/"
        },
        "id": "d1HzndV0YK17",
        "outputId": "918e249a-ac7f-4745-fb49-9cbf425a9ca3"
      },
      "execution_count": null,
      "outputs": [
        {
          "output_type": "execute_result",
          "data": {
            "text/plain": [
              "array([[4],\n",
              "       [3]])"
            ]
          },
          "metadata": {},
          "execution_count": 270
        }
      ]
    },
    {
      "cell_type": "code",
      "source": [
        "n = np.linalg.norm(a1,2)\n",
        "n"
      ],
      "metadata": {
        "id": "-pD2IBQglw7S",
        "colab": {
          "base_uri": "https://localhost:8080/",
          "height": 38
        },
        "outputId": "648429a9-cd8b-410a-cdb1-3255ae18a71d"
      },
      "execution_count": null,
      "outputs": [
        {
          "output_type": "execute_result",
          "data": {
            "text/plain": [
              "5.0"
            ],
            "image/png": "[encoded data removed]",
            "text/latex": "$\\displaystyle 5.0$"
          },
          "metadata": {},
          "execution_count": 271
        }
      ]
    },
    {
      "cell_type": "code",
      "source": [
        "I = np.eye(len(A))\n",
        "e = np.array([[1],[0]])\n",
        "e"
      ],
      "metadata": {
        "id": "z1k684B4YaS0",
        "colab": {
          "base_uri": "https://localhost:8080/"
        },
        "outputId": "1398b9cf-5abb-44a3-9c9c-089b91fe3ae1"
      },
      "execution_count": null,
      "outputs": [
        {
          "output_type": "execute_result",
          "data": {
            "text/plain": [
              "array([[1],\n",
              "       [0]])"
            ]
          },
          "metadata": {},
          "execution_count": 273
        }
      ]
    },
    {
      "cell_type": "code",
      "source": [
        "v = a1-n*e\n",
        "v"
      ],
      "metadata": {
        "colab": {
          "base_uri": "https://localhost:8080/"
        },
        "id": "P6Y9JLIildR0",
        "outputId": "ca73a989-93b6-432d-f290-01ba45cf0604"
      },
      "execution_count": null,
      "outputs": [
        {
          "output_type": "execute_result",
          "data": {
            "text/plain": [
              "array([[-1.],\n",
              "       [ 3.]])"
            ]
          },
          "metadata": {},
          "execution_count": 274
        }
      ]
    },
    {
      "cell_type": "code",
      "source": [
        "vt = np.transpose(v)\n",
        "vt"
      ],
      "metadata": {
        "colab": {
          "base_uri": "https://localhost:8080/"
        },
        "id": "NAY7ob4cnxB0",
        "outputId": "e36dbb48-d49d-47f7-8591-7f1614a22887"
      },
      "execution_count": null,
      "outputs": [
        {
          "output_type": "execute_result",
          "data": {
            "text/plain": [
              "array([[-1.,  3.]])"
            ]
          },
          "metadata": {},
          "execution_count": 275
        }
      ]
    },
    {
      "cell_type": "code",
      "source": [
        "H = I - 2 * (v@vt)/(vt@v)\n",
        "H"
      ],
      "metadata": {
        "colab": {
          "base_uri": "https://localhost:8080/"
        },
        "id": "ZCDnkXX8Z2LN",
        "outputId": "1307ced2-80cb-4c89-952c-6c4cf7d1d70d"
      },
      "execution_count": null,
      "outputs": [
        {
          "output_type": "execute_result",
          "data": {
            "text/plain": [
              "array([[ 0.8,  0.6],\n",
              "       [ 0.6, -0.8]])"
            ]
          },
          "metadata": {},
          "execution_count": 283
        }
      ]
    },
    {
      "cell_type": "code",
      "source": [
        "(H @ A).round(2)"
      ],
      "metadata": {
        "colab": {
          "base_uri": "https://localhost:8080/"
        },
        "id": "4K7cEd2qeShp",
        "outputId": "34dc7035-0e19-4057-d649-68cbe07a700f"
      },
      "execution_count": null,
      "outputs": [
        {
          "output_type": "execute_result",
          "data": {
            "text/plain": [
              "array([[ 5. ,  3.4],\n",
              "       [-0. ,  3.8]])"
            ]
          },
          "metadata": {},
          "execution_count": 284
        }
      ]
    },
    {
      "cell_type": "code",
      "source": [
        "R = H@H@A\n",
        "R*5"
      ],
      "metadata": {
        "colab": {
          "base_uri": "https://localhost:8080/"
        },
        "id": "QH4t5vuy9uYa",
        "outputId": "6e0db045-e46e-4681-f414-cbfce43de402"
      },
      "execution_count": null,
      "outputs": [
        {
          "output_type": "execute_result",
          "data": {
            "text/plain": [
              "array([[20., 25.],\n",
              "       [15., -5.]])"
            ]
          },
          "metadata": {},
          "execution_count": 285
        }
      ]
    },
    {
      "cell_type": "code",
      "source": [
        "len(a1)*e\n"
      ],
      "metadata": {
        "colab": {
          "base_uri": "https://localhost:8080/"
        },
        "id": "MT1qc2e5eZ3F",
        "outputId": "fdddd458-d09c-41c9-c941-efbf40d2a541"
      },
      "execution_count": null,
      "outputs": [
        {
          "output_type": "execute_result",
          "data": {
            "text/plain": [
              "array([[2],\n",
              "       [0]])"
            ]
          },
          "metadata": {},
          "execution_count": 279
        }
      ]
    },
    {
      "cell_type": "code",
      "source": [
        "ap = np.array([[1],[-4],[3]])\n",
        "zap = np.array([[-4,3],[3,7]])\n",
        "n2 = np.linalg.norm(ap,2)\n",
        "n2"
      ],
      "metadata": {
        "colab": {
          "base_uri": "https://localhost:8080/",
          "height": 38
        },
        "id": "gxc6VHRXokjH",
        "outputId": "4dd1b9d5-ab0d-4253-96f6-3e4f4b0dc1eb"
      },
      "execution_count": null,
      "outputs": [
        {
          "output_type": "execute_result",
          "data": {
            "text/plain": [
              "5.099019513592785"
            ],
            "image/png": "[encoded data removed]",
            "text/latex": "$\\displaystyle 5.09901951359279$"
          },
          "metadata": {},
          "execution_count": 220
        }
      ]
    },
    {
      "cell_type": "code",
      "source": [
        "zap"
      ],
      "metadata": {
        "colab": {
          "base_uri": "https://localhost:8080/"
        },
        "id": "hrqzDTOrwxVV",
        "outputId": "574b99c5-95b1-4a8f-b9db-95b783ea1389"
      },
      "execution_count": null,
      "outputs": [
        {
          "output_type": "execute_result",
          "data": {
            "text/plain": [
              "array([[-4,  3],\n",
              "       [ 3,  7]])"
            ]
          },
          "metadata": {},
          "execution_count": 221
        }
      ]
    },
    {
      "cell_type": "code",
      "source": [
        "e2 = np.array([[0],[1],[0]])\n",
        "e2"
      ],
      "metadata": {
        "colab": {
          "base_uri": "https://localhost:8080/"
        },
        "id": "riPw8av_qsVX",
        "outputId": "40df6c23-1cc6-4e0f-c411-3386416fba2b"
      },
      "execution_count": null,
      "outputs": [
        {
          "output_type": "execute_result",
          "data": {
            "text/plain": [
              "array([[0],\n",
              "       [1],\n",
              "       [0]])"
            ]
          },
          "metadata": {},
          "execution_count": 222
        }
      ]
    },
    {
      "cell_type": "code",
      "source": [
        "v2 = ap - n2*e2\n",
        "v2"
      ],
      "metadata": {
        "colab": {
          "base_uri": "https://localhost:8080/"
        },
        "id": "exQ_2ZpyxpFB",
        "outputId": "3ce8cf29-194b-4d96-da59-eb718acd9664"
      },
      "execution_count": null,
      "outputs": [
        {
          "output_type": "execute_result",
          "data": {
            "text/plain": [
              "array([[ 1.        ],\n",
              "       [-9.09901951],\n",
              "       [ 3.        ]])"
            ]
          },
          "metadata": {},
          "execution_count": 224
        }
      ]
    },
    {
      "cell_type": "code",
      "source": [
        "v2t = np.transpose(v2)\n",
        "H2 = I - 2 * (v2@v2t)/(v2t@v2)\n",
        "H2"
      ],
      "metadata": {
        "colab": {
          "base_uri": "https://localhost:8080/"
        },
        "id": "x0v6bOmpudsY",
        "outputId": "280e87e3-fa2a-41ef-9053-8709ecc7da5b"
      },
      "execution_count": null,
      "outputs": [
        {
          "output_type": "execute_result",
          "data": {
            "text/plain": [
              "array([[ 0.97844645,  0.19611614, -0.06466064],\n",
              "       [ 0.19611614, -0.78446454,  0.58834841],\n",
              "       [-0.06466064,  0.58834841,  0.80601809]])"
            ]
          },
          "metadata": {},
          "execution_count": 225
        }
      ]
    },
    {
      "cell_type": "code",
      "source": [
        "R = H2@H2@A\n",
        "R"
      ],
      "metadata": {
        "colab": {
          "base_uri": "https://localhost:8080/"
        },
        "id": "wXtxTlS_yVB5",
        "outputId": "0952f9fa-8996-4adb-b38c-cec9ae107294"
      },
      "execution_count": null,
      "outputs": [
        {
          "output_type": "execute_result",
          "data": {
            "text/plain": [
              "array([[ 1.00000000e+00,  5.00000000e+00,  4.00000000e+00],\n",
              "       [-2.00000000e+00,  2.56019468e-17,  3.00000000e+00],\n",
              "       [ 2.00000000e+00, -1.00000000e+00,  7.00000000e+00]])"
            ]
          },
          "metadata": {},
          "execution_count": 231
        }
      ]
    },
    {
      "cell_type": "code",
      "source": [
        "Q = H1@H2\n",
        "Q"
      ],
      "metadata": {
        "colab": {
          "base_uri": "https://localhost:8080/"
        },
        "id": "7bpZZjnZzBwW",
        "outputId": "2b7df3d3-05f0-4514-b7a7-23b9970291d1"
      },
      "execution_count": null,
      "outputs": [
        {
          "output_type": "execute_result",
          "data": {
            "text/plain": [
              "array([[-1.24135745,  0.19611614, -2.72407235],\n",
              "       [-2.02368777, -0.78446454, -2.0710633 ],\n",
              "       [-2.28446454,  0.58834841, -1.85339362]])"
            ]
          },
          "metadata": {},
          "execution_count": 232
        }
      ]
    },
    {
      "cell_type": "code",
      "source": [
        "Q.T@Q"
      ],
      "metadata": {
        "colab": {
          "base_uri": "https://localhost:8080/"
        },
        "id": "lEEGYYpY0txC",
        "outputId": "0ea163ad-b601-4ed2-d2ed-0ae18112bce3"
      },
      "execution_count": null,
      "outputs": [
        {
          "output_type": "execute_result",
          "data": {
            "text/plain": [
              "array([[ 1.08550587e+01, -1.23102142e-15,  1.18067450e+01],\n",
              "       [-1.23102142e-15,  1.00000000e+00, -1.21133905e-15],\n",
              "       [ 1.18067450e+01, -1.21133905e-15,  1.51449413e+01]])"
            ]
          },
          "metadata": {},
          "execution_count": 233
        }
      ]
    },
    {
      "cell_type": "code",
      "source": [
        "np.allclose(A, np.dot(Q, R))"
      ],
      "metadata": {
        "colab": {
          "base_uri": "https://localhost:8080/"
        },
        "id": "L9LAQSLIzE7k",
        "outputId": "ab70f8da-b742-48a3-c02f-c7688ba811fe"
      },
      "execution_count": null,
      "outputs": [
        {
          "output_type": "execute_result",
          "data": {
            "text/plain": [
              "False"
            ]
          },
          "metadata": {},
          "execution_count": 234
        }
      ]
    },
    {
      "cell_type": "code",
      "source": [
        "import numpy as np\n",
        "\n",
        "A = np.array([[0, 1], [1, 1], [1, 1], [2, 1]])\n",
        "\n",
        "q, r = np.linalg.qr(A, mode=\"complete\")\n",
        "r"
      ],
      "metadata": {
        "colab": {
          "base_uri": "https://localhost:8080/"
        },
        "id": "UoBy3h6y1j39",
        "outputId": "0cebf422-5d95-4f98-fa9a-e778decdbfa0"
      },
      "execution_count": null,
      "outputs": [
        {
          "output_type": "execute_result",
          "data": {
            "text/plain": [
              "array([[-2.44948974, -1.63299316],\n",
              "       [ 0.        ,  1.15470054],\n",
              "       [ 0.        ,  0.        ],\n",
              "       [ 0.        ,  0.        ]])"
            ]
          },
          "metadata": {},
          "execution_count": 241
        }
      ]
    },
    {
      "cell_type": "code",
      "source": [
        "from sympy import Matrix\n",
        "\n",
        "A = [[0, 1], [1, 1], [1, 1], [2, 1]]\n",
        "\n",
        "symA = Matrix(A)\n",
        "\n",
        "q, r = symA.QRdecomposition()\n",
        "r"
      ],
      "metadata": {
        "colab": {
          "base_uri": "https://localhost:8080/",
          "height": 68
        },
        "id": "sBLtuPUm1klX",
        "outputId": "5eaaaedf-e660-41c9-9410-fd86749a9b24"
      },
      "execution_count": null,
      "outputs": [
        {
          "output_type": "execute_result",
          "data": {
            "text/plain": [
              "⎡    2⋅√6⎤\n",
              "⎢√6  ────⎥\n",
              "⎢     3  ⎥\n",
              "⎢        ⎥\n",
              "⎢    2⋅√3⎥\n",
              "⎢0   ────⎥\n",
              "⎣     3  ⎦"
            ],
            "text/latex": "$\\displaystyle \\left[\\begin{matrix}\\sqrt{6} & \\frac{2 \\sqrt{6}}{3}\\\\0 & \\frac{2 \\sqrt{3}}{3}\\end{matrix}\\right]$"
          },
          "metadata": {},
          "execution_count": 242
        }
      ]
    },
    {
      "cell_type": "code",
      "source": [
        "import numpy as np\n",
        "\n",
        "import scipy\n",
        "\n",
        "A = np.array([[0, 1], [1, 1], [1, 1], [2, 1]])\n",
        "q, r = np.linalg.qr(A)\n",
        "\n",
        "\n",
        "r"
      ],
      "metadata": {
        "colab": {
          "base_uri": "https://localhost:8080/"
        },
        "id": "D276WCIT17eA",
        "outputId": "184be101-aee8-40ba-cd7b-55fc6d6cc278"
      },
      "execution_count": null,
      "outputs": [
        {
          "output_type": "execute_result",
          "data": {
            "text/plain": [
              "array([[-2.44948974, -1.63299316],\n",
              "       [ 0.        ,  1.15470054]])"
            ]
          },
          "metadata": {},
          "execution_count": 249
        }
      ]
    },
    {
      "cell_type": "markdown",
      "source": [
        "Eigenvalues & Eigenvectors"
      ],
      "metadata": {
        "id": "ah5ogxGkIPJ1"
      }
    },
    {
      "cell_type": "markdown",
      "source": [
        "Q3"
      ],
      "metadata": {
        "id": "Joa6X6piQuoM"
      }
    },
    {
      "cell_type": "markdown",
      "source": [
        "![image.png](data:image/png;base64,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)"
      ],
      "metadata": {
        "id": "EQwnOjt1SYm2"
      }
    },
    {
      "cell_type": "code",
      "source": [
        "import numpy as np\n",
        "import sympy\n",
        "L = np.array([[1,0],\n",
        "              [0,2]])\n",
        "S = np.array([[3/5,4/5],\n",
        "             [(1/sqrt(2)),-(1/sqrt(2))]])\n",
        "\n",
        "A = S @ L @ S.T\n",
        "A\n",
        "\n"
      ],
      "metadata": {
        "colab": {
          "base_uri": "https://localhost:8080/"
        },
        "id": "Z2yhah0jISBd",
        "outputId": "1b34b8d1-7852-4b1c-90d8-037de23018de"
      },
      "execution_count": null,
      "outputs": [
        {
          "output_type": "execute_result",
          "data": {
            "text/plain": [
              "array([[ 1.64      , -0.70710678],\n",
              "       [-0.70710678,  1.5       ]])"
            ]
          },
          "metadata": {},
          "execution_count": 56
        }
      ]
    },
    {
      "cell_type": "code",
      "source": [
        "from numpy import linalg as LA\n",
        "w, v = LA.eigh(A)\n",
        "w\n",
        "v"
      ],
      "metadata": {
        "colab": {
          "base_uri": "https://localhost:8080/"
        },
        "id": "w7gHq8Q7XAeE",
        "outputId": "c642927f-c4e7-4835-e19c-eec6edd26f81"
      },
      "execution_count": null,
      "outputs": [
        {
          "output_type": "execute_result",
          "data": {
            "text/plain": [
              "array([[-0.67137418, -0.74111855],\n",
              "       [-0.74111855,  0.67137418]])"
            ]
          },
          "metadata": {},
          "execution_count": 57
        }
      ]
    },
    {
      "cell_type": "markdown",
      "source": [
        "Q4"
      ],
      "metadata": {
        "id": "00n75hfMX87A"
      }
    },
    {
      "cell_type": "code",
      "source": [
        "import numpy as np\n",
        "L = np.array([[-1,0],\n",
        "              [0,2]])\n",
        "S = np.array([[1,1/sqrt(2)],\n",
        "             [0,1/sqrt(2)]])\n",
        "\n",
        "A = S @ L @ S.T\n",
        "A"
      ],
      "metadata": {
        "colab": {
          "base_uri": "https://localhost:8080/"
        },
        "id": "pZ8xDuigYCLi",
        "outputId": "286cee58-923c-48a5-9c69-fe56e5bc2d44"
      },
      "execution_count": null,
      "outputs": [
        {
          "output_type": "execute_result",
          "data": {
            "text/plain": [
              "array([[-1.77302319e-16,  1.00000000e+00],\n",
              "       [ 1.00000000e+00,  1.00000000e+00]])"
            ]
          },
          "metadata": {},
          "execution_count": 18
        }
      ]
    },
    {
      "cell_type": "code",
      "source": [
        "from numpy import linalg as LA\n",
        "B = np.array([[1,5],\n",
        "              [5,1]])\n",
        "w, v = LA.eig(B)\n",
        "w\n"
      ],
      "metadata": {
        "colab": {
          "base_uri": "https://localhost:8080/"
        },
        "id": "F-8gFZDCYV4Y",
        "outputId": "5736d20b-d19b-44fe-a00d-fb90eb4491b3"
      },
      "execution_count": null,
      "outputs": [
        {
          "output_type": "execute_result",
          "data": {
            "text/plain": [
              "array([ 6., -4.])"
            ]
          },
          "metadata": {},
          "execution_count": 52
        }
      ]
    },
    {
      "cell_type": "markdown",
      "source": [
        "Q1"
      ],
      "metadata": {
        "id": "72r7zTIEcArY"
      }
    },
    {
      "cell_type": "markdown",
      "source": [
        "![image.png](data:image/png;base64,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)"
      ],
      "metadata": {
        "id": "QmimaYSgcD0x"
      }
    },
    {
      "cell_type": "code",
      "source": [
        "A = np.array([[7,4],\n",
        "              [-8,-5]])\n",
        "w, v = LA.eig(A)\n",
        "w"
      ],
      "metadata": {
        "colab": {
          "base_uri": "https://localhost:8080/"
        },
        "id": "6ReY_gqBcBu8",
        "outputId": "e8fd95a9-8236-4069-e444-1df120ffa28b"
      },
      "execution_count": null,
      "outputs": [
        {
          "output_type": "execute_result",
          "data": {
            "text/plain": [
              "array([ 3., -1.])"
            ]
          },
          "metadata": {},
          "execution_count": 22
        }
      ]
    },
    {
      "cell_type": "code",
      "source": [
        "I = np.eye(2)\n",
        "\n",
        "p1 = np.linalg.det(A - w[0] * I)\n",
        "p1"
      ],
      "metadata": {
        "colab": {
          "base_uri": "https://localhost:8080/",
          "height": 38
        },
        "id": "qNEN_YdSchsG",
        "outputId": "4202b570-3f6c-4c89-cc12-54750c433d67"
      },
      "execution_count": null,
      "outputs": [
        {
          "output_type": "execute_result",
          "data": {
            "text/plain": [
              "0.0"
            ],
            "image/png": "[encoded data removed]",
            "text/latex": "$\\displaystyle 0.0$"
          },
          "metadata": {},
          "execution_count": 29
        }
      ]
    },
    {
      "cell_type": "code",
      "source": [
        "p2 = np.linalg.det(A - w[1] * I)\n",
        "p2"
      ],
      "metadata": {
        "colab": {
          "base_uri": "https://localhost:8080/",
          "height": 38
        },
        "id": "vX3SQSLPc_9T",
        "outputId": "d554eb4a-4724-4349-a5d5-7c35959fd5a0"
      },
      "execution_count": null,
      "outputs": [
        {
          "output_type": "execute_result",
          "data": {
            "text/plain": [
              "0.0"
            ],
            "image/png": "[encoded data removed]",
            "text/latex": "$\\displaystyle 0.0$"
          },
          "metadata": {},
          "execution_count": 30
        }
      ]
    },
    {
      "cell_type": "code",
      "source": [
        "from sympy import Matrix\n",
        "from sympy.abc import x, y\n",
        "\n",
        "Mnp = np.array([[-6,3], [4,5]])\n",
        "M = Matrix(Mnp)\n",
        "M.charpoly()"
      ],
      "metadata": {
        "colab": {
          "base_uri": "https://localhost:8080/",
          "height": 39
        },
        "id": "7CJnrXTZieIQ",
        "outputId": "47e2be0f-71fe-4a02-abc1-48bed045d7dd"
      },
      "execution_count": null,
      "outputs": [
        {
          "output_type": "execute_result",
          "data": {
            "text/plain": [
              "PurePoly(lambda**2 + lambda - 42, lambda, domain='ZZ')"
            ],
            "image/png": "[encoded data removed]",
            "text/latex": "$\\displaystyle \\operatorname{PurePoly}{\\left( \\lambda^{2} + \\lambda - 42, \\lambda, domain=\\mathbb{Z} \\right)}$"
          },
          "metadata": {},
          "execution_count": 58
        }
      ]
    },
    {
      "cell_type": "code",
      "source": [
        "coefs = np.poly(Mnp)"
      ],
      "metadata": {
        "id": "tnTyvtsElUUe"
      },
      "execution_count": null,
      "outputs": []
    },
    {
      "cell_type": "code",
      "source": [
        "import numpy.polynomial.polynomial as poly\n",
        "poly.polyroots(coefs[::-1])"
      ],
      "metadata": {
        "colab": {
          "base_uri": "https://localhost:8080/"
        },
        "id": "Yc52YKUolTeu",
        "outputId": "a6c9dc64-052b-4250-9ba4-188288d7e7f7"
      },
      "execution_count": null,
      "outputs": [
        {
          "output_type": "execute_result",
          "data": {
            "text/plain": [
              "array([-7.,  6.])"
            ]
          },
          "metadata": {},
          "execution_count": 60
        }
      ]
    },
    {
      "cell_type": "code",
      "source": [
        "A = np.array([[-6,3], [4,5]])\n",
        "L = np.array([[-7,0], [0,6]])\n",
        "A - L"
      ],
      "metadata": {
        "colab": {
          "base_uri": "https://localhost:8080/"
        },
        "id": "3HF8AxaJikRW",
        "outputId": "5fc33b0d-04f1-4b41-fd35-d54e5594a3f0"
      },
      "execution_count": null,
      "outputs": [
        {
          "output_type": "execute_result",
          "data": {
            "text/plain": [
              "array([[ 1,  3],\n",
              "       [ 4, -1]])"
            ]
          },
          "metadata": {},
          "execution_count": 61
        }
      ]
    },
    {
      "cell_type": "code",
      "source": [
        "A = np.array([[-6,3], [4,5]])\n",
        "v = np.array([[-3], [1]])\n",
        "\n",
        "for i in range(3):\n",
        "  p = A @ v\n",
        "  print(p)\n",
        "  max = np.amax(abs(p))\n",
        "  print (\"Largest is \")\n",
        "  print(max)\n",
        "  v = p/max\n",
        "  "
      ],
      "metadata": {
        "colab": {
          "base_uri": "https://localhost:8080/"
        },
        "id": "3qBY_mvVrV5o",
        "outputId": "7bc32de5-9fd4-4cad-cc4a-ee9d28316b1d"
      },
      "execution_count": null,
      "outputs": [
        {
          "output_type": "stream",
          "name": "stdout",
          "text": [
            "[[21]\n",
            " [-7]]\n",
            "Largest is \n",
            "21\n",
            "[[-7.        ]\n",
            " [ 2.33333333]]\n",
            "Largest is \n",
            "7.0\n",
            "[[ 7.        ]\n",
            " [-2.33333333]]\n",
            "Largest is \n",
            "7.0\n"
          ]
        }
      ]
    },
    {
      "cell_type": "code",
      "source": [
        "import numpy as np\n",
        "\n",
        "a = np.array([[3, 1], [2, 2]])\n",
        "\n",
        "w, v = np.linalg.eig(a)\n",
        "\n",
        "print(w)"
      ],
      "metadata": {
        "colab": {
          "base_uri": "https://localhost:8080/"
        },
        "id": "kQfYfmq0wtNz",
        "outputId": "330b08ee-76c4-47d9-938c-0953aee93428"
      },
      "execution_count": null,
      "outputs": [
        {
          "output_type": "stream",
          "name": "stdout",
          "text": [
            "[4. 1.]\n"
          ]
        }
      ]
    },
    {
      "cell_type": "code",
      "source": [
        "import numpy as np\n",
        "\n",
        "a = np.array([[3, 1], [2, 2]])\n",
        "\n",
        "w, v = np.linalg.eig(a)\n",
        "\n",
        "np.isclose(np.dot(a, v), w*v)"
      ],
      "metadata": {
        "colab": {
          "base_uri": "https://localhost:8080/"
        },
        "id": "a8NPGVF598ix",
        "outputId": "66900040-09ae-4f22-caa6-c741358bb9f5"
      },
      "execution_count": null,
      "outputs": [
        {
          "output_type": "execute_result",
          "data": {
            "text/plain": [
              "array([[ True,  True],\n",
              "       [ True,  True]])"
            ]
          },
          "metadata": {},
          "execution_count": 65
        }
      ]
    },
    {
      "cell_type": "code",
      "source": [
        "from numpy import array\n",
        "\n",
        "from numpy.linalg import eig\n",
        "\n",
        "A = array([[1, 2, 3], [4, 5, 6], [7, 8, 9]])\n",
        "\n",
        "values, vectors = eig(A)\n",
        "\n",
        "vec1 = vectors[:, 0]\n",
        "\n",
        "mult = A @ vec1\n",
        "\n",
        "div = mult / vec1\n",
        "\n",
        "values"
      ],
      "metadata": {
        "colab": {
          "base_uri": "https://localhost:8080/"
        },
        "id": "dOd5v76m-A1m",
        "outputId": "5e11750f-1fb6-47ff-9af7-271327a4096f"
      },
      "execution_count": null,
      "outputs": [
        {
          "output_type": "execute_result",
          "data": {
            "text/plain": [
              "array([ 1.61168440e+01, -1.11684397e+00, -1.30367773e-15])"
            ]
          },
          "metadata": {},
          "execution_count": 69
        }
      ]
    },
    {
      "cell_type": "code",
      "source": [
        "import numpy as np\n",
        "\n",
        "A = np.array([[1, 2, 3], [4, 5, 6], [7, 8, 9]])\n",
        "\n",
        "values, vectors = np.linalg.eig(A)\n",
        "\n",
        "P = vectors\n",
        "\n",
        "Pinv = np.linalg.inv(P)\n",
        "\n",
        "D = np.diag(values)"
      ],
      "metadata": {
        "id": "LvAYrJNo-TY6"
      },
      "execution_count": null,
      "outputs": []
    },
    {
      "cell_type": "code",
      "source": [
        "new_A = P @ D @ Pinv\n",
        "new_A"
      ],
      "metadata": {
        "colab": {
          "base_uri": "https://localhost:8080/"
        },
        "id": "Lflxvb4w-U1U",
        "outputId": "876c6aed-ec0b-409b-8103-29cc70e89c9e"
      },
      "execution_count": null,
      "outputs": [
        {
          "output_type": "execute_result",
          "data": {
            "text/plain": [
              "array([[1., 2., 3.],\n",
              "       [4., 5., 6.],\n",
              "       [7., 8., 9.]])"
            ]
          },
          "metadata": {},
          "execution_count": 72
        }
      ]
    },
    {
      "cell_type": "markdown",
      "source": [
        "Exam Practise 1"
      ],
      "metadata": {
        "id": "45QROm22AOQJ"
      }
    },
    {
      "cell_type": "code",
      "source": [
        "from sympy import Matrix\n",
        "M = Matrix([[2, 1], [1, 2]])\n",
        "M.charpoly()"
      ],
      "metadata": {
        "colab": {
          "base_uri": "https://localhost:8080/",
          "height": 39
        },
        "id": "5ht6M3R8a0fA",
        "outputId": "90b77230-1d42-41e8-e7fa-e1f572fa2863"
      },
      "execution_count": null,
      "outputs": [
        {
          "output_type": "execute_result",
          "data": {
            "text/plain": [
              "PurePoly(lambda**2 - 4*lambda + 3, lambda, domain='ZZ')"
            ],
            "text/latex": "$\\displaystyle \\operatorname{PurePoly}{\\left( \\lambda^{2} - 4 \\lambda + 3, \\lambda, domain=\\mathbb{Z} \\right)}$"
          },
          "metadata": {},
          "execution_count": 29
        }
      ]
    },
    {
      "cell_type": "code",
      "source": [
        "import numpy as np\n",
        "\n",
        "a = np.array([[2, 1], [1, 2]])\n",
        "\n",
        "w, v = np.linalg.eig(a)\n",
        "w"
      ],
      "metadata": {
        "colab": {
          "base_uri": "https://localhost:8080/"
        },
        "id": "LQeXkGt3eBlL",
        "outputId": "018d0859-1292-4fda-c45a-59ab1349be03"
      },
      "execution_count": null,
      "outputs": [
        {
          "output_type": "execute_result",
          "data": {
            "text/plain": [
              "array([3., 1.])"
            ]
          },
          "metadata": {},
          "execution_count": 37
        }
      ]
    },
    {
      "cell_type": "code",
      "source": [
        "A = np.array([[2, 1], [1, 2]])\n",
        "v = np.array([[0], [-1]])\n",
        "\n",
        "for i in range(2):\n",
        "  p = A @ v\n",
        "  print(p)\n",
        "  max = np.amax(abs(p))\n",
        "  print (\"Largest is \")\n",
        "  print(max)\n",
        "  v = p/max"
      ],
      "metadata": {
        "colab": {
          "base_uri": "https://localhost:8080/"
        },
        "id": "TqEExOyuf3Hw",
        "outputId": "f9800763-da1e-4f6e-b6eb-d10138b33860"
      },
      "execution_count": null,
      "outputs": [
        {
          "output_type": "stream",
          "name": "stdout",
          "text": [
            "[[-1]\n",
            " [-2]]\n",
            "Largest is \n",
            "2\n",
            "[[-2. ]\n",
            " [-2.5]]\n",
            "Largest is \n",
            "2.5\n"
          ]
        }
      ]
    },
    {
      "cell_type": "code",
      "source": [
        "v3 = np.array([[-4], [-5]])"
      ],
      "metadata": {
        "id": "g-O2b3CD-Yi8"
      },
      "execution_count": null,
      "outputs": []
    },
    {
      "cell_type": "code",
      "source": [
        "l1 = (v3.T @ A @ v3)/ (v3.T @ v3)\n",
        "l1"
      ],
      "metadata": {
        "colab": {
          "base_uri": "https://localhost:8080/"
        },
        "id": "On2Jr6Ix-PBP",
        "outputId": "c3f2f0b5-2d07-46be-9234-bdbf137a1381"
      },
      "execution_count": null,
      "outputs": [
        {
          "output_type": "execute_result",
          "data": {
            "text/plain": [
              "array([[2.97560976]])"
            ]
          },
          "metadata": {},
          "execution_count": 72
        }
      ]
    },
    {
      "cell_type": "code",
      "source": [
        "# Python code to check\n",
        "# whether a matrix is\n",
        "# orthogonal or not\n",
        " \n",
        "def isOrthogonal(a, m, n) :\n",
        "    if (m != n) :\n",
        "        return False\n",
        "     \n",
        "    # Multiply A*A^t\n",
        "    for i in range(0, n) :\n",
        "        for j in range(0, n) :\n",
        "            sum = 0\n",
        "            for k in range(0, n) :\n",
        "         \n",
        "                # Since we are multiplying\n",
        "                # with transpose of itself.\n",
        "                # We use a[j][k] instead\n",
        "                # of a[k][j]\n",
        "                sum = sum + (a[i][k] *\n",
        "                             a[j][k])\n",
        "         \n",
        "        if (i == j and sum != 1) :\n",
        "            return False\n",
        "        if (i != j and sum != 0) :\n",
        "            return False\n",
        " \n",
        "    return True\n",
        " \n",
        "# Driver Code\n",
        "a = [[1, 0, 0],\n",
        "     [0, 1, 0],\n",
        "     [0, 0, 1]]\n",
        "if (isOrthogonal(a, 3, 3)) :\n",
        "    print (\"Yes\")\n",
        "else :\n",
        "    print (\"No\")\n"
      ],
      "metadata": {
        "colab": {
          "base_uri": "https://localhost:8080/",
          "height": 217
        },
        "id": "AHqIq8qL__Tm",
        "outputId": "670e3595-8e29-48cc-a799-32425f32455c"
      },
      "execution_count": null,
      "outputs": [
        {
          "output_type": "stream",
          "name": "stdout",
          "text": [
            "Yes\n"
          ]
        },
        {
          "output_type": "error",
          "ename": "NameError",
          "evalue": "ignored",
          "traceback": [
            "\u001b[0;31m---------------------------------------------------------------------------\u001b[0m",
            "\u001b[0;31mNameError\u001b[0m                                 Traceback (most recent call last)",
            "\u001b[0;32m<ipython-input-53-e7688d141323>\u001b[0m in \u001b[0;36m<module>\u001b[0;34m()\u001b[0m\n\u001b[1;32m     36\u001b[0m     \u001b[0mprint\u001b[0m \u001b[0;34m(\u001b[0m\u001b[0;34m\"No\"\u001b[0m\u001b[0;34m)\u001b[0m\u001b[0;34m\u001b[0m\u001b[0;34m\u001b[0m\u001b[0m\n\u001b[1;32m     37\u001b[0m \u001b[0;34m\u001b[0m\u001b[0m\n\u001b[0;32m---> 38\u001b[0;31m \u001b[0misOrthogonal\u001b[0m\u001b[0;34m(\u001b[0m\u001b[0ma\u001b[0m\u001b[0;34m,\u001b[0m \u001b[0mm\u001b[0m\u001b[0;34m,\u001b[0m \u001b[0mn\u001b[0m\u001b[0;34m)\u001b[0m\u001b[0;34m\u001b[0m\u001b[0;34m\u001b[0m\u001b[0m\n\u001b[0m",
            "\u001b[0;31mNameError\u001b[0m: name 'm' is not defined"
          ]
        }
      ]
    },
    {
      "cell_type": "code",
      "source": [
        "u = np.array([[-5], [4]])\n",
        "#v3.T @ u"
      ],
      "metadata": {
        "id": "SxDySR5MBHN5"
      },
      "execution_count": null,
      "outputs": []
    },
    {
      "cell_type": "code",
      "source": [
        ""
      ],
      "metadata": {
        "id": "0gfxGX2IB0mG"
      },
      "execution_count": null,
      "outputs": []
    },
    {
      "cell_type": "code",
      "source": [
        "def power_iteration(A, x_k, num_iterations: int):\n",
        "    x_k_norm = np.linalg.norm(x_k)\n",
        "    x_k = x_k / x_k_norm\n",
        "\n",
        "    for iteration in range(num_iterations):\n",
        "        # calculate the matrix-by-vector product Ab\n",
        "        \n",
        "        x_k1 = np.dot(A, x_k)\n",
        "        \n",
        "        # calculate the norm\n",
        "        x_k1_norm = np.linalg.norm(x_k1)\n",
        "\n",
        "        # re normalize the vector\n",
        "        x_k = x_k1 / x_k1_norm\n",
        "\n",
        "        #print(\"iteration: \", iteration, \", x_k = \", x_k)\n",
        "        #print(\"l2 norm of Ax_k: \", x_k1_norm)\n",
        "        numerator = x_k.T @ A @ x_k\n",
        "        denominator = x_k.T @ x_k\n",
        "        lambda_k = numerator / denominator\n",
        "        #print(\"lambda_k = \", lambda_k)\n",
        "        #print()\n",
        "    return lambda_k, x_k"
      ],
      "metadata": {
        "id": "h0bW-0cGgxLO"
      },
      "execution_count": null,
      "outputs": []
    },
    {
      "cell_type": "code",
      "source": [
        "def deflation(AP):\n",
        "  n = AP.shape[1]\n",
        "  Eigvals = []\n",
        "  Eigvecs = [[]*1]*n\n",
        "  # Here draw a result on each deflationStage\n",
        "  for deflationStage in range(n):\n",
        "    v = (np.random.rand(n) - 1/2)*10 # generate random vector\n",
        "    # Draw this vector: eigvect\n",
        "    # Think, how to show eigval\n",
        "    eigval, eigvect = power_iteration(AP, v, 10) # run power iteration to reveal eigenvalue lambda_k and eigenvecor x_k\n",
        "    eigvect = eigvect.reshape((n,1))\n",
        "    Eigvals.append(eigval)\n",
        "    Eigvecs = np.hstack((Eigvecs, eigvect))\n",
        "    #print(f\"eigval= {eigval}\\n eigvect={eigvect}\\n\")\n",
        "    AP = AP @ (np.eye(n) - eigvect @ eigvect.T) # update A\n",
        "  return Eigvals, Eigvecs"
      ],
      "metadata": {
        "id": "b984ALkdgk0D"
      },
      "execution_count": null,
      "outputs": []
    },
    {
      "cell_type": "code",
      "source": [
        "eigenvalues, eigenvectors = deflation(A)\n",
        "eigenvalues"
      ],
      "metadata": {
        "colab": {
          "base_uri": "https://localhost:8080/"
        },
        "id": "0Jd3AK-Mgl_m",
        "outputId": "0b2b5946-8b30-465b-b893-0e59c033dcc4"
      },
      "execution_count": null,
      "outputs": [
        {
          "output_type": "execute_result",
          "data": {
            "text/plain": [
              "[2.9999999999921876, -0.9999999999921872]"
            ]
          },
          "metadata": {},
          "execution_count": 27
        }
      ]
    },
    {
      "cell_type": "code",
      "source": [
        "v = np.array([2.5, 2])"
      ],
      "metadata": {
        "id": "hQtIAb5D_Fdb"
      },
      "execution_count": null,
      "outputs": []
    },
    {
      "cell_type": "code",
      "source": [
        "u = eigenvalues[1]"
      ],
      "metadata": {
        "id": "7b6MnyCgFj2S"
      },
      "execution_count": null,
      "outputs": []
    },
    {
      "cell_type": "code",
      "source": [
        "u = u.T"
      ],
      "metadata": {
        "id": "gLX_RZQyCLmN"
      },
      "execution_count": null,
      "outputs": []
    },
    {
      "cell_type": "code",
      "source": [
        "from numpy.linalg import inv\n",
        "lambda2 = (u.T @ A @ u)/(u.T @ u)\n",
        "\n",
        "lambda2"
      ],
      "metadata": {
        "colab": {
          "base_uri": "https://localhost:8080/"
        },
        "id": "-VNqLKzjhf41",
        "outputId": "4e80d5aa-9235-4952-9795-c64fdefdad2d"
      },
      "execution_count": null,
      "outputs": [
        {
          "output_type": "execute_result",
          "data": {
            "text/plain": [
              "array([[1.02439024]])"
            ]
          },
          "metadata": {},
          "execution_count": 77
        }
      ]
    },
    {
      "cell_type": "markdown",
      "source": [
        "Deflation Orthogonal Projection"
      ],
      "metadata": {
        "id": "ghTmgrQNI_mV"
      }
    },
    {
      "cell_type": "code",
      "source": [
        "A = np.array([[3,7], [7,3]])"
      ],
      "metadata": {
        "id": "BfznO-ngGA6A"
      },
      "execution_count": null,
      "outputs": []
    },
    {
      "cell_type": "code",
      "source": [
        "def power_iteration(M):\n",
        "    x_k = (np.random.rand(M.shape[1]) - 1/2)*10\n",
        "    x_k_norm = np.linalg.norm(x_k)\n",
        "    x_k = x_k / x_k_norm\n",
        "    for iteration in range(10):\n",
        "        x_k1 = np.dot(M, x_k)\n",
        "        x_k1_norm = np.linalg.norm(x_k1)\n",
        "        x_k = x_k1 / x_k1_norm\n",
        "        lambda_k = x_k.T @ M @ x_k\n",
        "        # There is no denominator because our vectors are of unit length. \n",
        "    return lambda_k, x_k"
      ],
      "metadata": {
        "id": "effYhBqZGjhR"
      },
      "execution_count": null,
      "outputs": []
    },
    {
      "cell_type": "code",
      "source": [
        "eigval1, eigvect1 = power_iteration(A)\n",
        "eigval1, eigvect1"
      ],
      "metadata": {
        "colab": {
          "base_uri": "https://localhost:8080/"
        },
        "id": "EumzEpGKGU23",
        "outputId": "b915ada2-1047-4289-a379-c28a11612364"
      },
      "execution_count": null,
      "outputs": [
        {
          "output_type": "execute_result",
          "data": {
            "text/plain": [
              "(9.999999999996874, array([0.70710645, 0.70710712]))"
            ]
          },
          "metadata": {},
          "execution_count": 41
        }
      ]
    },
    {
      "cell_type": "code",
      "source": [
        "from math import sqrt\n",
        "1 / sqrt(2)"
      ],
      "metadata": {
        "colab": {
          "base_uri": "https://localhost:8080/"
        },
        "id": "OpQiQguzHZNq",
        "outputId": "20e8c680-9c0a-456c-b613-a29f8cef1bd4"
      },
      "execution_count": null,
      "outputs": [
        {
          "output_type": "execute_result",
          "data": {
            "text/plain": [
              "0.7071067811865475"
            ]
          },
          "metadata": {},
          "execution_count": 43
        }
      ]
    },
    {
      "cell_type": "code",
      "source": [
        "eigvect1 = eigvect1.reshape((2,1))"
      ],
      "metadata": {
        "id": "H_SiLsuWGtYE"
      },
      "execution_count": null,
      "outputs": []
    },
    {
      "cell_type": "code",
      "source": [
        "P1 = eigvect1 @ eigvect1.T\n",
        "P1"
      ],
      "metadata": {
        "colab": {
          "base_uri": "https://localhost:8080/"
        },
        "id": "h7OgxaFjHbpv",
        "outputId": "4ba855ea-778a-4a27-d000-b510402d26cc"
      },
      "execution_count": null,
      "outputs": [
        {
          "output_type": "execute_result",
          "data": {
            "text/plain": [
              "array([[0.49999953, 0.5       ],\n",
              "       [0.5       , 0.50000047]])"
            ]
          },
          "metadata": {},
          "execution_count": 45
        }
      ]
    },
    {
      "cell_type": "code",
      "source": [
        "P1_ort = np.eye(2) - P1\n",
        "P1_ort"
      ],
      "metadata": {
        "colab": {
          "base_uri": "https://localhost:8080/"
        },
        "id": "H5svOzHOHfGv",
        "outputId": "523dbdcc-e19a-4a31-aeea-94071e263808"
      },
      "execution_count": null,
      "outputs": [
        {
          "output_type": "execute_result",
          "data": {
            "text/plain": [
              "array([[ 0.50000047, -0.5       ],\n",
              "       [-0.5       ,  0.49999953]])"
            ]
          },
          "metadata": {},
          "execution_count": 46
        }
      ]
    },
    {
      "cell_type": "code",
      "source": [
        "A1 = A @ P1_ort\n",
        "A1"
      ],
      "metadata": {
        "colab": {
          "base_uri": "https://localhost:8080/"
        },
        "id": "VNmsAATZHmmt",
        "outputId": "fc6592d4-0c55-480c-ede5-a1b836b0b847"
      },
      "execution_count": null,
      "outputs": [
        {
          "output_type": "execute_result",
          "data": {
            "text/plain": [
              "array([[-1.99999858,  1.99999669],\n",
              "       [ 2.00000331, -2.00000142]])"
            ]
          },
          "metadata": {},
          "execution_count": 47
        }
      ]
    },
    {
      "cell_type": "code",
      "source": [
        "power_iteration(A1)"
      ],
      "metadata": {
        "colab": {
          "base_uri": "https://localhost:8080/"
        },
        "id": "WvtwCCvYIrPC",
        "outputId": "5301763c-9e59-4af9-fda0-e46b0c6b7964"
      },
      "execution_count": null,
      "outputs": [
        {
          "output_type": "execute_result",
          "data": {
            "text/plain": [
              "(-3.9999999999968754, array([ 0.70710595, -0.70710762]))"
            ]
          },
          "metadata": {},
          "execution_count": 48
        }
      ]
    },
    {
      "cell_type": "code",
      "source": [
        "# round of the elements of A1\n",
        "A1 = np.array([[-2, 2], [2, -2]])\n",
        "power_iteration(A1)"
      ],
      "metadata": {
        "colab": {
          "base_uri": "https://localhost:8080/"
        },
        "id": "m0klF6P_I2Vf",
        "outputId": "98cbe334-5f38-490a-cf17-cf6240faa148"
      },
      "execution_count": null,
      "outputs": [
        {
          "output_type": "execute_result",
          "data": {
            "text/plain": [
              "(-4.000000000000001, array([-0.70710678,  0.70710678]))"
            ]
          },
          "metadata": {},
          "execution_count": 49
        }
      ]
    },
    {
      "cell_type": "markdown",
      "source": [
        "Deflation by Householder Transformation"
      ],
      "metadata": {
        "id": "wKFtmDLTJWjp"
      }
    },
    {
      "cell_type": "code",
      "source": [
        "A = np.array([[-10, -9], [12, 11]]) # true eigenvalues 2, -1\n",
        "power_iteration(A)"
      ],
      "metadata": {
        "colab": {
          "base_uri": "https://localhost:8080/"
        },
        "id": "-NoWyeYlI9TG",
        "outputId": "3026e952-0e97-4050-cb04-cababc54ca76"
      },
      "execution_count": null,
      "outputs": [
        {
          "output_type": "execute_result",
          "data": {
            "text/plain": [
              "(2.003186747585284, array([-0.59987859,  0.80009104]))"
            ]
          },
          "metadata": {},
          "execution_count": 39
        }
      ]
    },
    {
      "cell_type": "code",
      "source": [
        "# Round it up to make the values exact just in case\n",
        "x = np.array([[-0.6], [0.8]])\n",
        "# Householder defining vector\n",
        "v = x - np.array([[1], [0]])\n",
        "v"
      ],
      "metadata": {
        "colab": {
          "base_uri": "https://localhost:8080/"
        },
        "id": "Vinrl7fQJdst",
        "outputId": "ee1cc3e8-32d2-428a-eec1-bf2b00eadf16"
      },
      "execution_count": null,
      "outputs": [
        {
          "output_type": "execute_result",
          "data": {
            "text/plain": [
              "array([[-1.6],\n",
              "       [ 0.8]])"
            ]
          },
          "metadata": {},
          "execution_count": 17
        }
      ]
    },
    {
      "cell_type": "code",
      "source": [
        "v @ v.T\n",
        "(v.T @ v)"
      ],
      "metadata": {
        "colab": {
          "base_uri": "https://localhost:8080/"
        },
        "id": "CLCetX5zJwF9",
        "outputId": "39bb62f4-522d-4221-c069-3f371dce404e"
      },
      "execution_count": null,
      "outputs": [
        {
          "output_type": "execute_result",
          "data": {
            "text/plain": [
              "array([[3.2]])"
            ]
          },
          "metadata": {},
          "execution_count": 18
        }
      ]
    },
    {
      "cell_type": "code",
      "source": [
        "H = np.eye(2) - 2 * v @ v.T /(v.T @ v)\n",
        "H"
      ],
      "metadata": {
        "colab": {
          "base_uri": "https://localhost:8080/"
        },
        "id": "0KmGSiKSJzm8",
        "outputId": "3096cd96-0b62-488a-974d-4f5021ea93a1"
      },
      "execution_count": null,
      "outputs": [
        {
          "output_type": "execute_result",
          "data": {
            "text/plain": [
              "array([[-0.6,  0.8],\n",
              "       [ 0.8,  0.6]])"
            ]
          },
          "metadata": {},
          "execution_count": 19
        }
      ]
    },
    {
      "cell_type": "code",
      "source": [
        "A1 = H @ A @ H\n",
        "A1\n",
        "# should be upper triangular\n",
        "# But due to computation errors, h21 = -1.59872116e-16 =almost 0"
      ],
      "metadata": {
        "colab": {
          "base_uri": "https://localhost:8080/"
        },
        "id": "PoEO_1YXJ2SR",
        "outputId": "65217a50-8354-45e8-ca77-35e3c3ae4de0"
      },
      "execution_count": null,
      "outputs": [
        {
          "output_type": "execute_result",
          "data": {
            "text/plain": [
              "array([[ 2.00000000e+00,  2.10000000e+01],\n",
              "       [-1.59872116e-16, -1.00000000e+00]])"
            ]
          },
          "metadata": {},
          "execution_count": 20
        }
      ]
    },
    {
      "cell_type": "code",
      "source": [
        "power_iteration(A1)"
      ],
      "metadata": {
        "colab": {
          "base_uri": "https://localhost:8080/"
        },
        "id": "C3y-u58TKNF-",
        "outputId": "b8cc95c2-72d8-417e-d40c-eeee299d7545"
      },
      "execution_count": null,
      "outputs": [
        {
          "output_type": "execute_result",
          "data": {
            "text/plain": [
              "(2.0035713201048453, array([-9.99999986e-01, -1.70066996e-04]))"
            ]
          },
          "metadata": {},
          "execution_count": 25
        }
      ]
    },
    {
      "cell_type": "code",
      "source": [
        "# y is an eigenvector of A1, corresponding to eigenvalue -1\n",
        "# The computation is done by hand\n",
        "# The algorithm's presentation in Solomon's texbook\n",
        "# does not deal with vectors at all. \n",
        "# So this is my add-on. \n",
        "# On the first step, the eigenvector of Ai is relatively easy to compute\n",
        "# becaue it is of the same length as the original. \n",
        "# The later ones will be shorter. \n",
        "y = np.array([[7], [-1]])\n",
        "x2 =  H @ y\n",
        "x2"
      ],
      "metadata": {
        "colab": {
          "base_uri": "https://localhost:8080/"
        },
        "id": "GwvXQ66rKRek",
        "outputId": "2937f6d9-2f61-4a17-fe30-938118d84bd8"
      },
      "execution_count": null,
      "outputs": [
        {
          "output_type": "execute_result",
          "data": {
            "text/plain": [
              "array([[-5.],\n",
              "       [ 5.]])"
            ]
          },
          "metadata": {},
          "execution_count": 26
        }
      ]
    },
    {
      "cell_type": "code",
      "source": [
        "A @ x2"
      ],
      "metadata": {
        "colab": {
          "base_uri": "https://localhost:8080/"
        },
        "id": "36hO1a5tKtEF",
        "outputId": "0c5e2574-762d-4388-f8af-c5d8db79c9a7"
      },
      "execution_count": null,
      "outputs": [
        {
          "output_type": "execute_result",
          "data": {
            "text/plain": [
              "array([[ 5.],\n",
              "       [-5.]])"
            ]
          },
          "metadata": {},
          "execution_count": 58
        }
      ]
    },
    {
      "cell_type": "markdown",
      "source": [
        "QR"
      ],
      "metadata": {
        "id": "IQVK5g6tP2Ve"
      }
    },
    {
      "cell_type": "code",
      "source": [
        "from sympy import Matrix\n",
        "M = Matrix([[4, -1], [-3, 2]])\n",
        "M.charpoly()"
      ],
      "metadata": {
        "colab": {
          "base_uri": "https://localhost:8080/",
          "height": 39
        },
        "id": "vdNLPaGdP1hl",
        "outputId": "1715061d-f6fd-48c8-cfff-5033492d1227"
      },
      "execution_count": null,
      "outputs": [
        {
          "output_type": "execute_result",
          "data": {
            "text/plain": [
              "PurePoly(lambda**2 - 6*lambda + 5, lambda, domain='ZZ')"
            ],
            "text/latex": "$\\displaystyle \\operatorname{PurePoly}{\\left( \\lambda^{2} - 6 \\lambda + 5, \\lambda, domain=\\mathbb{Z} \\right)}$"
          },
          "metadata": {},
          "execution_count": 79
        }
      ]
    },
    {
      "cell_type": "code",
      "source": [
        "A = np.array([[4, -1], [-3, 2]])\n",
        "w, v = np.linalg.eig(M)\n",
        "w"
      ],
      "metadata": {
        "colab": {
          "base_uri": "https://localhost:8080/"
        },
        "id": "cHPVgtaQQF42",
        "outputId": "45898bdb-22d9-48e7-b854-a137c0272f1b"
      },
      "execution_count": null,
      "outputs": [
        {
          "output_type": "execute_result",
          "data": {
            "text/plain": [
              "array([5., 1.])"
            ]
          },
          "metadata": {},
          "execution_count": 93
        }
      ]
    },
    {
      "cell_type": "code",
      "source": [
        "from sympy import *\n",
        "x  = symbols('x')\n",
        "solve([x**2-6*x+5],[x])"
      ],
      "metadata": {
        "colab": {
          "base_uri": "https://localhost:8080/"
        },
        "id": "QElqR_4BRR-6",
        "outputId": "397b98a9-95a9-44bb-9996-cc7a28614366"
      },
      "execution_count": null,
      "outputs": [
        {
          "output_type": "execute_result",
          "data": {
            "text/plain": [
              "[(1,), (5,)]"
            ]
          },
          "metadata": {},
          "execution_count": 82
        }
      ]
    },
    {
      "cell_type": "code",
      "source": [
        "a = np.array([[4],[-3]])\n",
        "a"
      ],
      "metadata": {
        "colab": {
          "base_uri": "https://localhost:8080/"
        },
        "id": "OJM7-EjCW6j7",
        "outputId": "e0989ab1-6c25-4980-9791-18581026e988"
      },
      "execution_count": null,
      "outputs": [
        {
          "output_type": "execute_result",
          "data": {
            "text/plain": [
              "array([[ 4],\n",
              "       [-3]])"
            ]
          },
          "metadata": {},
          "execution_count": 83
        }
      ]
    },
    {
      "cell_type": "code",
      "source": [
        "from numpy import linalg as LA\n",
        "l2 = LA.norm(a)\n",
        "l2"
      ],
      "metadata": {
        "colab": {
          "base_uri": "https://localhost:8080/"
        },
        "id": "AE1D2P9QXKNc",
        "outputId": "ccd56896-98d2-44e8-ef10-200d2c0921a9"
      },
      "execution_count": null,
      "outputs": [
        {
          "output_type": "execute_result",
          "data": {
            "text/plain": [
              "5.0"
            ]
          },
          "metadata": {},
          "execution_count": 85
        }
      ]
    },
    {
      "cell_type": "code",
      "source": [
        "e1 = np.array([[1],[0]])\n",
        "e1"
      ],
      "metadata": {
        "colab": {
          "base_uri": "https://localhost:8080/"
        },
        "id": "BtlC6FxOt8OU",
        "outputId": "a4b5a2c1-d575-443a-a7e4-dc37d10ecf94"
      },
      "execution_count": null,
      "outputs": [
        {
          "output_type": "execute_result",
          "data": {
            "text/plain": [
              "array([[1],\n",
              "       [0]])"
            ]
          },
          "metadata": {},
          "execution_count": 86
        }
      ]
    },
    {
      "cell_type": "code",
      "source": [
        "v = a - l2*e1\n",
        "v"
      ],
      "metadata": {
        "colab": {
          "base_uri": "https://localhost:8080/"
        },
        "id": "OcGTRepJsSMs",
        "outputId": "9af46cbf-d5d3-4ee0-bdd3-26498a995b83"
      },
      "execution_count": null,
      "outputs": [
        {
          "output_type": "execute_result",
          "data": {
            "text/plain": [
              "array([[-1.],\n",
              "       [-3.]])"
            ]
          },
          "metadata": {},
          "execution_count": 87
        }
      ]
    },
    {
      "cell_type": "code",
      "source": [
        "vvt = v @ v.T"
      ],
      "metadata": {
        "id": "xfcZhyNju38E"
      },
      "execution_count": null,
      "outputs": []
    },
    {
      "cell_type": "code",
      "source": [
        "vtv = v.T @ v"
      ],
      "metadata": {
        "id": "Iu35aCu2u8Aj"
      },
      "execution_count": null,
      "outputs": []
    },
    {
      "cell_type": "code",
      "source": [
        "Hv = np.eye(2) - 2*(vvt)/(vtv)\n",
        "Hv"
      ],
      "metadata": {
        "colab": {
          "base_uri": "https://localhost:8080/"
        },
        "id": "NUTrKan7uTnl",
        "outputId": "ec3c6f81-baee-409f-921b-bc34b5e5ab44"
      },
      "execution_count": null,
      "outputs": [
        {
          "output_type": "execute_result",
          "data": {
            "text/plain": [
              "array([[ 0.8, -0.6],\n",
              "       [-0.6, -0.8]])"
            ]
          },
          "metadata": {},
          "execution_count": 90
        }
      ]
    },
    {
      "cell_type": "code",
      "source": [
        "A = np.array([[3,1],[4,2]])"
      ],
      "metadata": {
        "id": "kap2H_hovbcp"
      },
      "execution_count": null,
      "outputs": []
    },
    {
      "cell_type": "code",
      "source": [
        "R = Hv @ A\n",
        "R"
      ],
      "metadata": {
        "colab": {
          "base_uri": "https://localhost:8080/"
        },
        "id": "kNtCv6uGvK_w",
        "outputId": "368d38d7-18f4-4618-ccc8-55192e3d7377"
      },
      "execution_count": null,
      "outputs": [
        {
          "output_type": "execute_result",
          "data": {
            "text/plain": [
              "array([[ 5.00000000e+00, -2.00000000e+00],\n",
              "       [ 2.22044605e-16, -1.00000000e+00]])"
            ]
          },
          "metadata": {},
          "execution_count": 94
        }
      ]
    },
    {
      "cell_type": "code",
      "source": [
        "Q = Hv.T\n",
        "Q"
      ],
      "metadata": {
        "colab": {
          "base_uri": "https://localhost:8080/"
        },
        "id": "JaM3SrRSvnzE",
        "outputId": "988b0df0-4608-4e6a-9254-c4618d4cb741"
      },
      "execution_count": null,
      "outputs": [
        {
          "output_type": "execute_result",
          "data": {
            "text/plain": [
              "array([[ 0.8, -0.6],\n",
              "       [-0.6, -0.8]])"
            ]
          },
          "metadata": {},
          "execution_count": 95
        }
      ]
    },
    {
      "cell_type": "code",
      "source": [
        "A1 = R @ Q\n",
        "A1"
      ],
      "metadata": {
        "colab": {
          "base_uri": "https://localhost:8080/"
        },
        "id": "OhisUNI4v6gk",
        "outputId": "4e4ed76b-d558-4e18-9511-4cce47f85b93"
      },
      "execution_count": null,
      "outputs": [
        {
          "output_type": "execute_result",
          "data": {
            "text/plain": [
              "array([[ 5.2, -1.4],\n",
              "       [ 0.6,  0.8]])"
            ]
          },
          "metadata": {},
          "execution_count": 96
        }
      ]
    },
    {
      "cell_type": "code",
      "source": [
        "import numpy as np\n",
        "import scipy.linalg as linalg\n",
        "def qr_iteration(A):\n",
        "    for i in range(100):\n",
        "        Q, R = linalg.qr(A)\n",
        "        A = np.dot(R, Q)\n",
        "    return np.diag(R), Q\n",
        "A = np.array([[12, -51, 4], \n",
        "              [6, 167, -68], \n",
        "              [-4, 24, -41]]) \n",
        "a, b = linalg.eig(A)\n",
        "c, d = qr_iteration(A)"
      ],
      "metadata": {
        "id": "IoDKmKRWlw0w"
      },
      "execution_count": null,
      "outputs": []
    },
    {
      "cell_type": "markdown",
      "source": [
        "SVD Computation"
      ],
      "metadata": {
        "id": "ZEbRxkM7rwFv"
      }
    },
    {
      "cell_type": "code",
      "source": [
        "import numpy as np\n",
        "\n",
        "A = np.array([[0,2],[0,0],[1,0]])\n",
        "U, S, VH = np.linalg.svd(A)"
      ],
      "metadata": {
        "id": "yJ3Oh-KuyAqJ"
      },
      "execution_count": null,
      "outputs": []
    },
    {
      "cell_type": "code",
      "source": [
        "U"
      ],
      "metadata": {
        "colab": {
          "base_uri": "https://localhost:8080/"
        },
        "id": "IMUDsRbHyFK8",
        "outputId": "4da6de8a-74ce-4ef5-d3ed-e1f3fba42f01"
      },
      "execution_count": null,
      "outputs": [
        {
          "output_type": "execute_result",
          "data": {
            "text/plain": [
              "array([[-1.,  0.,  0.],\n",
              "       [ 0.,  0.,  1.],\n",
              "       [ 0., -1.,  0.]])"
            ]
          },
          "metadata": {},
          "execution_count": 99
        }
      ]
    },
    {
      "cell_type": "code",
      "source": [
        "S"
      ],
      "metadata": {
        "colab": {
          "base_uri": "https://localhost:8080/"
        },
        "id": "m9Owwu95yEBB",
        "outputId": "15128f65-1bc0-4d45-901b-2c120c00d01d"
      },
      "execution_count": null,
      "outputs": [
        {
          "output_type": "execute_result",
          "data": {
            "text/plain": [
              "array([2., 1.])"
            ]
          },
          "metadata": {},
          "execution_count": 100
        }
      ]
    },
    {
      "cell_type": "code",
      "source": [
        "VH"
      ],
      "metadata": {
        "colab": {
          "base_uri": "https://localhost:8080/"
        },
        "id": "FQjXBmGJyGDp",
        "outputId": "55ab53a5-d04e-424e-ec26-eae141711072"
      },
      "execution_count": null,
      "outputs": [
        {
          "output_type": "execute_result",
          "data": {
            "text/plain": [
              "array([[-0., -1.],\n",
              "       [-1., -0.]])"
            ]
          },
          "metadata": {},
          "execution_count": 101
        }
      ]
    },
    {
      "cell_type": "code",
      "source": [
        "AtA = A.T @ A\n",
        "AtA"
      ],
      "metadata": {
        "colab": {
          "base_uri": "https://localhost:8080/"
        },
        "id": "U0c742Wp7qWS",
        "outputId": "091e7046-7cab-4e44-b149-88d9d2884971"
      },
      "execution_count": null,
      "outputs": [
        {
          "output_type": "execute_result",
          "data": {
            "text/plain": [
              "array([[1, 0],\n",
              "       [0, 4]])"
            ]
          },
          "metadata": {},
          "execution_count": 102
        }
      ]
    },
    {
      "cell_type": "code",
      "source": [
        "eigval, eigvect = np.linalg.eigh(AtA)\n",
        "eigval, eigvect"
      ],
      "metadata": {
        "colab": {
          "base_uri": "https://localhost:8080/"
        },
        "id": "gGei-3dm8gBp",
        "outputId": "adc8f103-2a6a-4610-c804-cd3a46e4d277"
      },
      "execution_count": null,
      "outputs": [
        {
          "output_type": "execute_result",
          "data": {
            "text/plain": [
              "(array([1., 4.]), array([[1., 0.],\n",
              "        [0., 1.]]))"
            ]
          },
          "metadata": {},
          "execution_count": 111
        }
      ]
    },
    {
      "cell_type": "code",
      "source": [
        "AAt = A @ A.T \n",
        "AAt"
      ],
      "metadata": {
        "colab": {
          "base_uri": "https://localhost:8080/"
        },
        "id": "XEdupTSl-PmM",
        "outputId": "6096cd9c-fe60-4592-8a01-5b1cd7c65af6"
      },
      "execution_count": null,
      "outputs": [
        {
          "output_type": "execute_result",
          "data": {
            "text/plain": [
              "array([[4, 0, 0],\n",
              "       [0, 0, 0],\n",
              "       [0, 0, 1]])"
            ]
          },
          "metadata": {},
          "execution_count": 104
        }
      ]
    },
    {
      "cell_type": "code",
      "source": [
        "eigval, eigvect = np.linalg.eigh(AAt)\n",
        "eigval, eigvect"
      ],
      "metadata": {
        "colab": {
          "base_uri": "https://localhost:8080/"
        },
        "id": "SJdDcjBd-ae5",
        "outputId": "e7a110a9-370c-430a-e081-e0e060b5fb63"
      },
      "execution_count": null,
      "outputs": [
        {
          "output_type": "execute_result",
          "data": {
            "text/plain": [
              "(array([0., 1., 4.]), array([[0., 0., 1.],\n",
              "        [1., 0., 0.],\n",
              "        [0., 1., 0.]]))"
            ]
          },
          "metadata": {},
          "execution_count": 105
        }
      ]
    },
    {
      "cell_type": "code",
      "source": [
        "singular_values=np.sqrt(eigval)\n",
        "singular_values"
      ],
      "metadata": {
        "colab": {
          "base_uri": "https://localhost:8080/"
        },
        "id": "O7KIeylTLRul",
        "outputId": "d3107592-2f73-4e90-f688-5053cf37f2e5"
      },
      "execution_count": null,
      "outputs": [
        {
          "output_type": "execute_result",
          "data": {
            "text/plain": [
              "array([1., 2.])"
            ]
          },
          "metadata": {},
          "execution_count": 112
        }
      ]
    },
    {
      "cell_type": "code",
      "source": [
        "S = np.zeros((3,2))\n",
        "S[0,0] = singular_values[1]\n",
        "S[1,1] = singular_values[0]\n",
        "S"
      ],
      "metadata": {
        "colab": {
          "base_uri": "https://localhost:8080/"
        },
        "id": "voUxZTakLt9z",
        "outputId": "7416438f-1bc1-4492-989b-f784718263b5"
      },
      "execution_count": null,
      "outputs": [
        {
          "output_type": "execute_result",
          "data": {
            "text/plain": [
              "array([[2., 0.],\n",
              "       [0., 1.],\n",
              "       [0., 0.]])"
            ]
          },
          "metadata": {},
          "execution_count": 113
        }
      ]
    },
    {
      "cell_type": "code",
      "source": [
        "v1 = eigvect[:,0].reshape(2,1)\n",
        "v2 = eigvect[:,1].reshape(2,1)\n",
        "v1, v2"
      ],
      "metadata": {
        "colab": {
          "base_uri": "https://localhost:8080/"
        },
        "id": "Jj_AAsKPM8MN",
        "outputId": "0c3f5480-f2f8-4584-e08f-a6aa56657991"
      },
      "execution_count": null,
      "outputs": [
        {
          "output_type": "execute_result",
          "data": {
            "text/plain": [
              "(array([[1.],\n",
              "        [0.]]), array([[0.],\n",
              "        [1.]]))"
            ]
          },
          "metadata": {},
          "execution_count": 115
        }
      ]
    },
    {
      "cell_type": "code",
      "source": [
        "Vt = np.hstack((v2, v1)).T\n",
        "Vt"
      ],
      "metadata": {
        "colab": {
          "base_uri": "https://localhost:8080/"
        },
        "id": "Lg5xcoo7M-4V",
        "outputId": "efc15b16-73ad-4846-e629-e754aa2aeda9"
      },
      "execution_count": null,
      "outputs": [
        {
          "output_type": "execute_result",
          "data": {
            "text/plain": [
              "array([[0., 1.],\n",
              "       [1., 0.]])"
            ]
          },
          "metadata": {},
          "execution_count": 116
        }
      ]
    },
    {
      "cell_type": "code",
      "source": [
        "#u1 = A @ np.array([[-0.615], [-0.788]]) / 8.87\n",
        "u1 = A @ v1 / singular_values[0]\n",
        "u1"
      ],
      "metadata": {
        "colab": {
          "base_uri": "https://localhost:8080/"
        },
        "id": "TvcQHNxQLxib",
        "outputId": "1ed6a881-b242-4130-892e-af512df01666"
      },
      "execution_count": null,
      "outputs": [
        {
          "output_type": "execute_result",
          "data": {
            "text/plain": [
              "array([[0.],\n",
              "       [0.],\n",
              "       [1.]])"
            ]
          },
          "metadata": {},
          "execution_count": 117
        }
      ]
    },
    {
      "cell_type": "code",
      "source": [
        "#u2 = np.array([[1, 2], [2, 3], [5,6]]) @ np.array([[-0.788], [0.615]]) / 0.575\n",
        "u2 = A @ v2 / singular_values[1]\n",
        "u2"
      ],
      "metadata": {
        "colab": {
          "base_uri": "https://localhost:8080/"
        },
        "id": "GYQPf6yDMjbh",
        "outputId": "80bc9eab-9308-4398-aed9-2888fd3bcc32"
      },
      "execution_count": null,
      "outputs": [
        {
          "output_type": "execute_result",
          "data": {
            "text/plain": [
              "array([[1.],\n",
              "       [0.],\n",
              "       [0.]])"
            ]
          },
          "metadata": {},
          "execution_count": 118
        }
      ]
    },
    {
      "cell_type": "code",
      "source": [
        "u1.T @ u2"
      ],
      "metadata": {
        "colab": {
          "base_uri": "https://localhost:8080/"
        },
        "id": "pn_xTx1tMmCq",
        "outputId": "7dd6a878-8b5e-45b3-ce03-c3a70485d76a"
      },
      "execution_count": null,
      "outputs": [
        {
          "output_type": "execute_result",
          "data": {
            "text/plain": [
              "array([[0.]])"
            ]
          },
          "metadata": {},
          "execution_count": 119
        }
      ]
    },
    {
      "cell_type": "code",
      "source": [
        "Proj = np.eye(3) - u1 @ u1.T - u2 @ u2.T\n",
        "Proj"
      ],
      "metadata": {
        "colab": {
          "base_uri": "https://localhost:8080/"
        },
        "id": "tteV3e55Mmj2",
        "outputId": "c383f897-94de-44a6-8164-6d97d2dc830f"
      },
      "execution_count": null,
      "outputs": [
        {
          "output_type": "execute_result",
          "data": {
            "text/plain": [
              "array([[0., 0., 0.],\n",
              "       [0., 1., 0.],\n",
              "       [0., 0., 0.]])"
            ]
          },
          "metadata": {},
          "execution_count": 120
        }
      ]
    },
    {
      "cell_type": "code",
      "source": [
        "y = np.array([[1], [2], [3]])\n",
        "y_projected = Proj @ y\n",
        "u3 = y_projected / np.linalg.norm(y_projected)\n",
        "u3"
      ],
      "metadata": {
        "colab": {
          "base_uri": "https://localhost:8080/"
        },
        "id": "IEkW9Wf4Molo",
        "outputId": "e1261ac8-97d4-4144-9bde-14c812e14963"
      },
      "execution_count": null,
      "outputs": [
        {
          "output_type": "execute_result",
          "data": {
            "text/plain": [
              "array([[0.],\n",
              "       [1.],\n",
              "       [0.]])"
            ]
          },
          "metadata": {},
          "execution_count": 121
        }
      ]
    },
    {
      "cell_type": "code",
      "source": [
        "u1.T @ u3"
      ],
      "metadata": {
        "colab": {
          "base_uri": "https://localhost:8080/"
        },
        "id": "Hxb52_xCMrkh",
        "outputId": "13726a96-a487-4a0d-9607-500db6f396d0"
      },
      "execution_count": null,
      "outputs": [
        {
          "output_type": "execute_result",
          "data": {
            "text/plain": [
              "array([[0.]])"
            ]
          },
          "metadata": {},
          "execution_count": 122
        }
      ]
    },
    {
      "cell_type": "code",
      "source": [
        "U = np.hstack((u2, u1, u3))\n",
        "U"
      ],
      "metadata": {
        "colab": {
          "base_uri": "https://localhost:8080/"
        },
        "id": "yPCx5SmDMswY",
        "outputId": "e08454d5-ba12-4701-e720-a11c4cac0fec"
      },
      "execution_count": null,
      "outputs": [
        {
          "output_type": "execute_result",
          "data": {
            "text/plain": [
              "array([[1., 0., 0.],\n",
              "       [0., 0., 1.],\n",
              "       [0., 1., 0.]])"
            ]
          },
          "metadata": {},
          "execution_count": 123
        }
      ]
    },
    {
      "cell_type": "markdown",
      "source": [
        "SVD Applications"
      ],
      "metadata": {
        "id": "Jo5z9HxenPIV"
      }
    },
    {
      "cell_type": "code",
      "source": [
        "A = np.array([[0,2],[0,0],[1,0]])"
      ],
      "metadata": {
        "id": "uSNSf6HUCYR1"
      },
      "execution_count": null,
      "outputs": []
    },
    {
      "cell_type": "code",
      "source": [
        "ata = A.T @ A\n",
        "ata"
      ],
      "metadata": {
        "colab": {
          "base_uri": "https://localhost:8080/"
        },
        "id": "8iw1oWK_neiY",
        "outputId": "0fc2951d-7115-4154-e8d3-d0c4c4f0518a"
      },
      "execution_count": null,
      "outputs": [
        {
          "output_type": "execute_result",
          "data": {
            "text/plain": [
              "array([[1, 0],\n",
              "       [0, 4]])"
            ]
          },
          "metadata": {},
          "execution_count": 126
        }
      ]
    },
    {
      "cell_type": "code",
      "source": [
        "from numpy.linalg import inv\n",
        "inv(ata)"
      ],
      "metadata": {
        "colab": {
          "base_uri": "https://localhost:8080/"
        },
        "id": "TdRSC8UUnoLh",
        "outputId": "271d71fa-e0ae-4487-831a-7278e20b76ee"
      },
      "execution_count": null,
      "outputs": [
        {
          "output_type": "execute_result",
          "data": {
            "text/plain": [
              "array([[1.  , 0.  ],\n",
              "       [0.  , 0.25]])"
            ]
          },
          "metadata": {},
          "execution_count": 127
        }
      ]
    },
    {
      "cell_type": "code",
      "source": [
        "AtA = A.T @ A\n",
        "AtA"
      ],
      "metadata": {
        "colab": {
          "base_uri": "https://localhost:8080/"
        },
        "id": "iI2XOA9po8Vu",
        "outputId": "85c8886c-f1e7-4b86-b4e4-7b5790e81037"
      },
      "execution_count": null,
      "outputs": [
        {
          "output_type": "execute_result",
          "data": {
            "text/plain": [
              "array([[1, 0],\n",
              "       [0, 4]])"
            ]
          },
          "metadata": {},
          "execution_count": 128
        }
      ]
    },
    {
      "cell_type": "code",
      "source": [
        "AtAinv = inv(AtA)\n",
        "AtAinv"
      ],
      "metadata": {
        "colab": {
          "base_uri": "https://localhost:8080/"
        },
        "id": "XiRh63ODpBKk",
        "outputId": "362e56f3-35cb-4d60-a0fb-58c3a94ac8e3"
      },
      "execution_count": null,
      "outputs": [
        {
          "output_type": "execute_result",
          "data": {
            "text/plain": [
              "array([[1.  , 0.  ],\n",
              "       [0.  , 0.25]])"
            ]
          },
          "metadata": {},
          "execution_count": 130
        }
      ]
    },
    {
      "cell_type": "code",
      "source": [
        "Apl = AtAinv @ A.T\n",
        "Apl"
      ],
      "metadata": {
        "colab": {
          "base_uri": "https://localhost:8080/"
        },
        "id": "U4uKmCXspNmY",
        "outputId": "7a741615-18ad-49cb-f8d5-bc1fc3cfe418"
      },
      "execution_count": null,
      "outputs": [
        {
          "output_type": "execute_result",
          "data": {
            "text/plain": [
              "array([[0. , 0. , 1. ],\n",
              "       [0.5, 0. , 0. ]])"
            ]
          },
          "metadata": {},
          "execution_count": 133
        }
      ]
    },
    {
      "cell_type": "code",
      "source": [
        "U, S, VH = np.linalg.svd(A)\n",
        "S"
      ],
      "metadata": {
        "colab": {
          "base_uri": "https://localhost:8080/"
        },
        "id": "fv9-LgXGPFoh",
        "outputId": "6611bf38-62d5-4d8a-a001-884bd17d024b"
      },
      "execution_count": null,
      "outputs": [
        {
          "output_type": "execute_result",
          "data": {
            "text/plain": [
              "array([2., 1.])"
            ]
          },
          "metadata": {},
          "execution_count": 137
        }
      ]
    },
    {
      "cell_type": "code",
      "source": [
        "S = np.array([[2,0],[0,1],[0,0]])"
      ],
      "metadata": {
        "id": "WOgVG0EQpZLj"
      },
      "execution_count": null,
      "outputs": []
    },
    {
      "cell_type": "markdown",
      "source": [
        "Calculate S+"
      ],
      "metadata": {
        "id": "no9LScNap8KR"
      }
    },
    {
      "cell_type": "code",
      "source": [
        "Spl = inv(S.T @ S) @ S.T\n",
        "Spl"
      ],
      "metadata": {
        "colab": {
          "base_uri": "https://localhost:8080/"
        },
        "id": "6bhik91XptI5",
        "outputId": "fe893356-a03d-4fb6-c670-6ba46b81f509"
      },
      "execution_count": null,
      "outputs": [
        {
          "output_type": "execute_result",
          "data": {
            "text/plain": [
              "array([[0.5, 0. , 0. ],\n",
              "       [0. , 1. , 0. ]])"
            ]
          },
          "metadata": {},
          "execution_count": 140
        }
      ]
    },
    {
      "cell_type": "code",
      "source": [
        "Apl = VH @ Spl @ U.T\n",
        "Apl"
      ],
      "metadata": {
        "colab": {
          "base_uri": "https://localhost:8080/"
        },
        "id": "uxSMYS38P917",
        "outputId": "5da0afb1-b7b7-42be-d6ad-fbca5fb386d1"
      },
      "execution_count": null,
      "outputs": [
        {
          "output_type": "execute_result",
          "data": {
            "text/plain": [
              "array([[0. , 0. , 1. ],\n",
              "       [0.5, 0. , 0. ]])"
            ]
          },
          "metadata": {},
          "execution_count": 142
        }
      ]
    },
    {
      "cell_type": "code",
      "source": [
        "A @ Apl"
      ],
      "metadata": {
        "colab": {
          "base_uri": "https://localhost:8080/"
        },
        "id": "52G0dD0OqGV-",
        "outputId": "d917f562-0c4f-4f66-942c-c94073def7b8"
      },
      "execution_count": null,
      "outputs": [
        {
          "output_type": "execute_result",
          "data": {
            "text/plain": [
              "array([[1., 0., 0.],\n",
              "       [0., 0., 0.],\n",
              "       [0., 0., 1.]])"
            ]
          },
          "metadata": {},
          "execution_count": 144
        }
      ]
    },
    {
      "cell_type": "code",
      "source": [
        "S = zeros(A.shape)\n",
        "S[0][0] = s[0]\n",
        "S"
      ],
      "metadata": {
        "id": "UUr0FBZ3re01"
      },
      "execution_count": null,
      "outputs": []
    },
    {
      "cell_type": "code",
      "source": [
        "Aapprox = U @ S @ VT\n",
        "Aapprox"
      ],
      "metadata": {
        "id": "g8gVE1R3rgot"
      },
      "execution_count": null,
      "outputs": []
    },
    {
      "cell_type": "code",
      "source": [
        "# check that the columns of Aapprox are proportional, thus, linear dependent\n",
        "Aapprox[:, 0] / Aapprox[:, 1]"
      ],
      "metadata": {
        "id": "iyEFvsQRri-O"
      },
      "execution_count": null,
      "outputs": []
    },
    {
      "cell_type": "code",
      "source": [
        "np.linalg.matrix_rank(A)"
      ],
      "metadata": {
        "id": "vD3hCmv9rkjp"
      },
      "execution_count": null,
      "outputs": []
    },
    {
      "cell_type": "code",
      "source": [
        "np.linalg.matrix_rank(Aapprox)"
      ],
      "metadata": {
        "id": "x3PTom9XrmSz"
      },
      "execution_count": null,
      "outputs": []
    },
    {
      "cell_type": "code",
      "source": [
        "import numpy as np\n",
        "from numpy.linalg import pinv, inv\n",
        "from numpy.linalg import svd\n",
        "A = np.array([\n",
        "\n",
        "  [0, 2],\n",
        "  [0, 0],\n",
        "  [1, 0]])\n",
        "U, s, VT = svd(A)\n",
        "\n",
        "D = np.zeros(A.shape)\n",
        "D[:A.shape[1], :A.shape[1]] = np.diag(s)\n",
        "ApinvBySvd = VT.T.dot(D.T).dot(U.T)\n",
        "Apinv = pinv(A)\n",
        "\n",
        "np.allclose(ApinvBySvd, Apinv)"
      ],
      "metadata": {
        "colab": {
          "base_uri": "https://localhost:8080/"
        },
        "id": "uNxxiAMdQVr0",
        "outputId": "68e905e6-969d-44de-ee24-9cf6451165b1"
      },
      "execution_count": null,
      "outputs": [
        {
          "output_type": "execute_result",
          "data": {
            "text/plain": [
              "False"
            ]
          },
          "metadata": {},
          "execution_count": 153
        }
      ]
    },
    {
      "cell_type": "code",
      "source": [
        "A = np.array([\n",
        "  [0, 2],\n",
        "  [0, 0],\n",
        "  [1, 0]])"
      ],
      "metadata": {
        "id": "jzxAG21tSS-F"
      },
      "execution_count": null,
      "outputs": []
    },
    {
      "cell_type": "code",
      "source": [
        "S = np.zeros(A.shape)\n",
        "S[0][0] = s[0]\n",
        "S"
      ],
      "metadata": {
        "colab": {
          "base_uri": "https://localhost:8080/"
        },
        "id": "t_dNUAddSIWr",
        "outputId": "c40e49e2-01c4-41b8-d827-b39697bd4534"
      },
      "execution_count": null,
      "outputs": [
        {
          "output_type": "execute_result",
          "data": {
            "text/plain": [
              "array([[2., 0.],\n",
              "       [0., 0.],\n",
              "       [0., 0.]])"
            ]
          },
          "metadata": {},
          "execution_count": 154
        }
      ]
    },
    {
      "cell_type": "code",
      "source": [
        "A1 = U @ S @ VT\n",
        "A1"
      ],
      "metadata": {
        "colab": {
          "base_uri": "https://localhost:8080/"
        },
        "id": "CU0_VVxGTaHH",
        "outputId": "6385901d-a1eb-460e-e2d0-265d3cc0e991"
      },
      "execution_count": null,
      "outputs": [
        {
          "output_type": "execute_result",
          "data": {
            "text/plain": [
              "array([[0., 2.],\n",
              "       [0., 0.],\n",
              "       [0., 0.]])"
            ]
          },
          "metadata": {},
          "execution_count": 162
        }
      ]
    },
    {
      "cell_type": "code",
      "source": [
        "E = A - A1\n",
        "E"
      ],
      "metadata": {
        "colab": {
          "base_uri": "https://localhost:8080/"
        },
        "id": "-wc-vN2RS_tS",
        "outputId": "b1692c01-5c37-491e-cdfc-b68443f98a01"
      },
      "execution_count": null,
      "outputs": [
        {
          "output_type": "execute_result",
          "data": {
            "text/plain": [
              "array([[0., 0.],\n",
              "       [0., 0.],\n",
              "       [1., 0.]])"
            ]
          },
          "metadata": {},
          "execution_count": 163
        }
      ]
    },
    {
      "cell_type": "code",
      "source": [
        "from numpy import linalg as LA\n",
        "LA.norm(E, 'fro')"
      ],
      "metadata": {
        "colab": {
          "base_uri": "https://localhost:8080/"
        },
        "id": "GYGsdkTlULX9",
        "outputId": "f70ea01c-7612-4daf-cfc7-3f127e3af245"
      },
      "execution_count": null,
      "outputs": [
        {
          "output_type": "execute_result",
          "data": {
            "text/plain": [
              "1.0"
            ]
          },
          "metadata": {},
          "execution_count": 164
        }
      ]
    },
    {
      "cell_type": "code",
      "source": [
        "LA.norm(A)"
      ],
      "metadata": {
        "colab": {
          "base_uri": "https://localhost:8080/"
        },
        "id": "-_8zd52xUrkQ",
        "outputId": "5d81f044-877d-494e-edb9-1ed68ee6d447"
      },
      "execution_count": null,
      "outputs": [
        {
          "output_type": "execute_result",
          "data": {
            "text/plain": [
              "2.23606797749979"
            ]
          },
          "metadata": {},
          "execution_count": 166
        }
      ]
    },
    {
      "cell_type": "code",
      "source": [
        "LA.cond(A)"
      ],
      "metadata": {
        "colab": {
          "base_uri": "https://localhost:8080/"
        },
        "id": "rwjnvr4WW_3N",
        "outputId": "000c4bea-86ec-422f-ee39-c3bc343fe034"
      },
      "execution_count": null,
      "outputs": [
        {
          "output_type": "execute_result",
          "data": {
            "text/plain": [
              "2.0"
            ]
          },
          "metadata": {},
          "execution_count": 167
        }
      ]
    },
    {
      "cell_type": "code",
      "source": [
        "w, v = np.linalg.eig(A1)\n",
        "w"
      ],
      "metadata": {
        "colab": {
          "base_uri": "https://localhost:8080/",
          "height": 362
        },
        "id": "Hty7qjPMjuen",
        "outputId": "ebc79d53-3769-4e6f-9baa-5d48134b4c64"
      },
      "execution_count": null,
      "outputs": [
        {
          "output_type": "error",
          "ename": "LinAlgError",
          "evalue": "ignored",
          "traceback": [
            "\u001b[0;31m---------------------------------------------------------------------------\u001b[0m",
            "\u001b[0;31mLinAlgError\u001b[0m                               Traceback (most recent call last)",
            "\u001b[0;32m<ipython-input-194-a2e3b77edb6b>\u001b[0m in \u001b[0;36m<module>\u001b[0;34m()\u001b[0m\n\u001b[0;32m----> 1\u001b[0;31m \u001b[0mw\u001b[0m\u001b[0;34m,\u001b[0m \u001b[0mv\u001b[0m \u001b[0;34m=\u001b[0m \u001b[0mnp\u001b[0m\u001b[0;34m.\u001b[0m\u001b[0mlinalg\u001b[0m\u001b[0;34m.\u001b[0m\u001b[0meig\u001b[0m\u001b[0;34m(\u001b[0m\u001b[0mA1\u001b[0m\u001b[0;34m)\u001b[0m\u001b[0;34m\u001b[0m\u001b[0;34m\u001b[0m\u001b[0m\n\u001b[0m\u001b[1;32m      2\u001b[0m \u001b[0mw\u001b[0m\u001b[0;34m\u001b[0m\u001b[0;34m\u001b[0m\u001b[0m\n",
            "\u001b[0;32m<__array_function__ internals>\u001b[0m in \u001b[0;36meig\u001b[0;34m(*args, **kwargs)\u001b[0m\n",
            "\u001b[0;32m/usr/local/lib/python3.7/dist-packages/numpy/linalg/linalg.py\u001b[0m in \u001b[0;36meig\u001b[0;34m(a)\u001b[0m\n\u001b[1;32m   1314\u001b[0m     \u001b[0ma\u001b[0m\u001b[0;34m,\u001b[0m \u001b[0mwrap\u001b[0m \u001b[0;34m=\u001b[0m \u001b[0m_makearray\u001b[0m\u001b[0;34m(\u001b[0m\u001b[0ma\u001b[0m\u001b[0;34m)\u001b[0m\u001b[0;34m\u001b[0m\u001b[0;34m\u001b[0m\u001b[0m\n\u001b[1;32m   1315\u001b[0m     \u001b[0m_assert_stacked_2d\u001b[0m\u001b[0;34m(\u001b[0m\u001b[0ma\u001b[0m\u001b[0;34m)\u001b[0m\u001b[0;34m\u001b[0m\u001b[0;34m\u001b[0m\u001b[0m\n\u001b[0;32m-> 1316\u001b[0;31m     \u001b[0m_assert_stacked_square\u001b[0m\u001b[0;34m(\u001b[0m\u001b[0ma\u001b[0m\u001b[0;34m)\u001b[0m\u001b[0;34m\u001b[0m\u001b[0;34m\u001b[0m\u001b[0m\n\u001b[0m\u001b[1;32m   1317\u001b[0m     \u001b[0m_assert_finite\u001b[0m\u001b[0;34m(\u001b[0m\u001b[0ma\u001b[0m\u001b[0;34m)\u001b[0m\u001b[0;34m\u001b[0m\u001b[0;34m\u001b[0m\u001b[0m\n\u001b[1;32m   1318\u001b[0m     \u001b[0mt\u001b[0m\u001b[0;34m,\u001b[0m \u001b[0mresult_t\u001b[0m \u001b[0;34m=\u001b[0m \u001b[0m_commonType\u001b[0m\u001b[0;34m(\u001b[0m\u001b[0ma\u001b[0m\u001b[0;34m)\u001b[0m\u001b[0;34m\u001b[0m\u001b[0;34m\u001b[0m\u001b[0m\n",
            "\u001b[0;32m/usr/local/lib/python3.7/dist-packages/numpy/linalg/linalg.py\u001b[0m in \u001b[0;36m_assert_stacked_square\u001b[0;34m(*arrays)\u001b[0m\n\u001b[1;32m    201\u001b[0m         \u001b[0mm\u001b[0m\u001b[0;34m,\u001b[0m \u001b[0mn\u001b[0m \u001b[0;34m=\u001b[0m \u001b[0ma\u001b[0m\u001b[0;34m.\u001b[0m\u001b[0mshape\u001b[0m\u001b[0;34m[\u001b[0m\u001b[0;34m-\u001b[0m\u001b[0;36m2\u001b[0m\u001b[0;34m:\u001b[0m\u001b[0;34m]\u001b[0m\u001b[0;34m\u001b[0m\u001b[0;34m\u001b[0m\u001b[0m\n\u001b[1;32m    202\u001b[0m         \u001b[0;32mif\u001b[0m \u001b[0mm\u001b[0m \u001b[0;34m!=\u001b[0m \u001b[0mn\u001b[0m\u001b[0;34m:\u001b[0m\u001b[0;34m\u001b[0m\u001b[0;34m\u001b[0m\u001b[0m\n\u001b[0;32m--> 203\u001b[0;31m             \u001b[0;32mraise\u001b[0m \u001b[0mLinAlgError\u001b[0m\u001b[0;34m(\u001b[0m\u001b[0;34m'Last 2 dimensions of the array must be square'\u001b[0m\u001b[0;34m)\u001b[0m\u001b[0;34m\u001b[0m\u001b[0;34m\u001b[0m\u001b[0m\n\u001b[0m\u001b[1;32m    204\u001b[0m \u001b[0;34m\u001b[0m\u001b[0m\n\u001b[1;32m    205\u001b[0m \u001b[0;32mdef\u001b[0m \u001b[0m_assert_finite\u001b[0m\u001b[0;34m(\u001b[0m\u001b[0;34m*\u001b[0m\u001b[0marrays\u001b[0m\u001b[0;34m)\u001b[0m\u001b[0;34m:\u001b[0m\u001b[0;34m\u001b[0m\u001b[0;34m\u001b[0m\u001b[0m\n",
            "\u001b[0;31mLinAlgError\u001b[0m: Last 2 dimensions of the array must be square"
          ]
        }
      ]
    },
    {
      "cell_type": "code",
      "source": [
        "import numpy as np\n",
        "\n",
        "A = np.random.randint(-10, 10, size=(3, 2))\n",
        "\n",
        "n, m = A.shape\n",
        "\n",
        "f = 0\n",
        "\n",
        "for i in np.arange(n):\n",
        "\n",
        "  for j in np.arange(m):\n",
        "\n",
        "    f = f + np.sum(np.power(np.abs(A[i, j]), 2))\n",
        "\n",
        "np.sqrt(f)"
      ],
      "metadata": {
        "colab": {
          "base_uri": "https://localhost:8080/"
        },
        "id": "4TOJdhhSXF54",
        "outputId": "ce83148d-f6b4-4678-dc5b-b9285e47e2a6"
      },
      "execution_count": null,
      "outputs": [
        {
          "output_type": "execute_result",
          "data": {
            "text/plain": [
              "16.06237840420901"
            ]
          },
          "metadata": {},
          "execution_count": 169
        }
      ]
    },
    {
      "cell_type": "markdown",
      "source": [
        "PCA"
      ],
      "metadata": {
        "id": "FvYfIOblvkUa"
      }
    },
    {
      "cell_type": "code",
      "source": [
        "X = np.array([[-1,-4,-1,-2],[1,0,-1,4]])"
      ],
      "metadata": {
        "id": "mN4a_x7xrpWw"
      },
      "execution_count": null,
      "outputs": []
    },
    {
      "cell_type": "code",
      "source": [
        "mean = np.mean(X, axis=1)\n",
        "mean"
      ],
      "metadata": {
        "colab": {
          "base_uri": "https://localhost:8080/"
        },
        "id": "po2C1U0mwaMX",
        "outputId": "a0d0330c-9494-4612-f7b6-acdc30dfaee2"
      },
      "execution_count": null,
      "outputs": [
        {
          "output_type": "execute_result",
          "data": {
            "text/plain": [
              "array([-2.,  1.])"
            ]
          },
          "metadata": {},
          "execution_count": 173
        }
      ]
    },
    {
      "cell_type": "code",
      "source": [
        "mean = X.mean(axis=1).reshape([2, 1])"
      ],
      "metadata": {
        "id": "gYK4YLGl3hs1"
      },
      "execution_count": null,
      "outputs": []
    },
    {
      "cell_type": "code",
      "source": [
        "X_centered = X - mean\n",
        "X_centered"
      ],
      "metadata": {
        "colab": {
          "base_uri": "https://localhost:8080/"
        },
        "id": "AcI9JLLhzgMh",
        "outputId": "7b684ee7-a97a-4ecc-cf8f-eedbefd65bcf"
      },
      "execution_count": null,
      "outputs": [
        {
          "output_type": "execute_result",
          "data": {
            "text/plain": [
              "array([[ 1., -2.,  1.,  0.],\n",
              "       [ 0., -1., -2.,  3.]])"
            ]
          },
          "metadata": {},
          "execution_count": 185
        }
      ]
    },
    {
      "cell_type": "code",
      "source": [
        "XXT = X_c @ X_c.T"
      ],
      "metadata": {
        "id": "trTmLyc53o54"
      },
      "execution_count": null,
      "outputs": []
    },
    {
      "cell_type": "code",
      "source": [
        "eigval, eigvect = np.linalg.eigh(XXT)\n",
        "eigval, eigvect"
      ],
      "metadata": {
        "colab": {
          "base_uri": "https://localhost:8080/"
        },
        "id": "juu-c16YmBEY",
        "outputId": "caeb4203-2eda-4615-87e2-c2bb526184a1"
      },
      "execution_count": null,
      "outputs": [
        {
          "output_type": "execute_result",
          "data": {
            "text/plain": [
              "(array([ 6., 14.]), array([[1., 0.],\n",
              "        [0., 1.]]))"
            ]
          },
          "metadata": {},
          "execution_count": 201
        }
      ]
    },
    {
      "cell_type": "code",
      "source": [
        "U, s, VT = svd(X)\n",
        "U"
      ],
      "metadata": {
        "colab": {
          "base_uri": "https://localhost:8080/"
        },
        "id": "z5f5lwCQYN44",
        "outputId": "96c12ef6-10ef-4265-c6d3-737f04554a0b"
      },
      "execution_count": null,
      "outputs": [
        {
          "output_type": "execute_result",
          "data": {
            "text/plain": [
              "array([[-0.78820544,  0.61541221],\n",
              "       [ 0.61541221,  0.78820544]])"
            ]
          },
          "metadata": {},
          "execution_count": 178
        }
      ]
    },
    {
      "cell_type": "code",
      "source": [
        "Z_by_svd = U.T @ X\n",
        "Z_by_svd"
      ],
      "metadata": {
        "colab": {
          "base_uri": "https://localhost:8080/"
        },
        "id": "iFEdLXkmYRBh",
        "outputId": "ffdf8148-3fa6-4e28-dd58-41a39e834da7"
      },
      "execution_count": null,
      "outputs": [
        {
          "output_type": "execute_result",
          "data": {
            "text/plain": [
              "array([[ 1.40361765,  3.15282175,  0.17279323,  4.03805971],\n",
              "       [ 0.17279323, -2.46164884, -1.40361765,  1.92199733]])"
            ]
          },
          "metadata": {},
          "execution_count": 179
        }
      ]
    },
    {
      "cell_type": "code",
      "source": [
        "U_centered, s_centered, VT_centered = svd(X_centered)\n",
        "U_centered"
      ],
      "metadata": {
        "colab": {
          "base_uri": "https://localhost:8080/"
        },
        "id": "ANnDBdtgYSvu",
        "outputId": "480a1fde-bc7c-46c8-ff42-bc8596177861"
      },
      "execution_count": null,
      "outputs": [
        {
          "output_type": "execute_result",
          "data": {
            "text/plain": [
              "array([[0., 1.],\n",
              "       [1., 0.]])"
            ]
          },
          "metadata": {},
          "execution_count": 198
        }
      ]
    },
    {
      "cell_type": "code",
      "source": [
        "Z_centered_by_svd = U_centered.T @ X_centered\n",
        "Z_centered_by_svd"
      ],
      "metadata": {
        "colab": {
          "base_uri": "https://localhost:8080/"
        },
        "id": "0CFAhXGZYUl9",
        "outputId": "cd91e8d1-bc97-4cc1-b6fc-df8746ffb272"
      },
      "execution_count": null,
      "outputs": [
        {
          "output_type": "execute_result",
          "data": {
            "text/plain": [
              "array([[ 0., -1., -2.,  3.],\n",
              "       [ 1., -2.,  1.,  0.]])"
            ]
          },
          "metadata": {},
          "execution_count": 181
        }
      ]
    },
    {
      "cell_type": "code",
      "source": [
        "from sklearn.decomposition import PCA\n",
        "pca = PCA()\n",
        "Z_by_pca_T = pca.fit_transform(X.T)\n",
        "Z_by_pca = Z_by_pca_T.T\n",
        "Z_by_pca"
      ],
      "metadata": {
        "colab": {
          "base_uri": "https://localhost:8080/"
        },
        "id": "8AV8gg7AYd0w",
        "outputId": "3a649736-8f34-4105-f0b4-e7ffe48c60b8"
      },
      "execution_count": null,
      "outputs": [
        {
          "output_type": "execute_result",
          "data": {
            "text/plain": [
              "array([[ 4.3874759e-16, -1.0000000e+00, -2.0000000e+00,  3.0000000e+00],\n",
              "       [-1.0000000e+00,  2.0000000e+00, -1.0000000e+00,  0.0000000e+00]])"
            ]
          },
          "metadata": {},
          "execution_count": 183
        }
      ]
    },
    {
      "cell_type": "code",
      "source": [
        "n = X.shape[0]\n",
        "\n",
        "cov_matrix = np.dot(X_centered.T, X_centered) / n\n",
        "eigenvalues = pca.explained_variance_\n",
        "for eigenvalue, eigenvector in zip(eigenvalues, pca.components_):    \n",
        "    print(np.dot(eigenvector.T, np.dot(cov_matrix, eigenvector)))\n",
        "    print(eigenvalue)"
      ],
      "metadata": {
        "colab": {
          "base_uri": "https://localhost:8080/",
          "height": 252
        },
        "id": "Ij8ud0s_Y_Im",
        "outputId": "7c794109-ec37-4f28-c36f-b884a9bb8251"
      },
      "execution_count": null,
      "outputs": [
        {
          "output_type": "error",
          "ename": "ValueError",
          "evalue": "ignored",
          "traceback": [
            "\u001b[0;31m---------------------------------------------------------------------------\u001b[0m",
            "\u001b[0;31mValueError\u001b[0m                                Traceback (most recent call last)",
            "\u001b[0;32m<ipython-input-189-594a4f7ecf4e>\u001b[0m in \u001b[0;36m<module>\u001b[0;34m()\u001b[0m\n\u001b[1;32m      4\u001b[0m \u001b[0meigenvalues\u001b[0m \u001b[0;34m=\u001b[0m \u001b[0mpca\u001b[0m\u001b[0;34m.\u001b[0m\u001b[0mexplained_variance_\u001b[0m\u001b[0;34m\u001b[0m\u001b[0;34m\u001b[0m\u001b[0m\n\u001b[1;32m      5\u001b[0m \u001b[0;32mfor\u001b[0m \u001b[0meigenvalue\u001b[0m\u001b[0;34m,\u001b[0m \u001b[0meigenvector\u001b[0m \u001b[0;32min\u001b[0m \u001b[0mzip\u001b[0m\u001b[0;34m(\u001b[0m\u001b[0meigenvalues\u001b[0m\u001b[0;34m,\u001b[0m \u001b[0mpca\u001b[0m\u001b[0;34m.\u001b[0m\u001b[0mcomponents_\u001b[0m\u001b[0;34m)\u001b[0m\u001b[0;34m:\u001b[0m\u001b[0;34m\u001b[0m\u001b[0;34m\u001b[0m\u001b[0m\n\u001b[0;32m----> 6\u001b[0;31m     \u001b[0mprint\u001b[0m\u001b[0;34m(\u001b[0m\u001b[0mnp\u001b[0m\u001b[0;34m.\u001b[0m\u001b[0mdot\u001b[0m\u001b[0;34m(\u001b[0m\u001b[0meigenvector\u001b[0m\u001b[0;34m.\u001b[0m\u001b[0mT\u001b[0m\u001b[0;34m,\u001b[0m \u001b[0mnp\u001b[0m\u001b[0;34m.\u001b[0m\u001b[0mdot\u001b[0m\u001b[0;34m(\u001b[0m\u001b[0mcov_matrix\u001b[0m\u001b[0;34m,\u001b[0m \u001b[0meigenvector\u001b[0m\u001b[0;34m)\u001b[0m\u001b[0;34m)\u001b[0m\u001b[0;34m)\u001b[0m\u001b[0;34m\u001b[0m\u001b[0;34m\u001b[0m\u001b[0m\n\u001b[0m\u001b[1;32m      7\u001b[0m     \u001b[0mprint\u001b[0m\u001b[0;34m(\u001b[0m\u001b[0meigenvalue\u001b[0m\u001b[0;34m)\u001b[0m\u001b[0;34m\u001b[0m\u001b[0;34m\u001b[0m\u001b[0m\n",
            "\u001b[0;32m<__array_function__ internals>\u001b[0m in \u001b[0;36mdot\u001b[0;34m(*args, **kwargs)\u001b[0m\n",
            "\u001b[0;31mValueError\u001b[0m: shapes (4,4) and (2,) not aligned: 4 (dim 1) != 2 (dim 0)"
          ]
        }
      ]
    },
    {
      "cell_type": "code",
      "source": [
        "import numpy as np\n",
        "from sklearn.decomposition import PCA\n",
        "X = np.array([\n",
        "              [-1, -4, -1, -2], \n",
        "              [1, 0, -1, 4], \n",
        "])\n",
        "pca = PCA()\n",
        "pca.fit(X.T)\n",
        "print(pca.components_)"
      ],
      "metadata": {
        "colab": {
          "base_uri": "https://localhost:8080/"
        },
        "id": "L2nrasNkbxgP",
        "outputId": "c76e34ac-f533-4e94-9da8-39be8a74b2b9"
      },
      "execution_count": null,
      "outputs": [
        {
          "output_type": "stream",
          "name": "stdout",
          "text": [
            "[[ 0.  1.]\n",
            " [-1. -0.]]\n"
          ]
        }
      ]
    },
    {
      "cell_type": "code",
      "source": [
        "Spl = inv(s_centered.T @ s_centered) @ s_centered.T\n",
        "Spl"
      ],
      "metadata": {
        "colab": {
          "base_uri": "https://localhost:8080/",
          "height": 362
        },
        "outputId": "f393397c-5a47-4064-fdc6-e6b0ddccfacd",
        "id": "dOkRp78bc_of"
      },
      "execution_count": null,
      "outputs": [
        {
          "output_type": "error",
          "ename": "LinAlgError",
          "evalue": "ignored",
          "traceback": [
            "\u001b[0;31m---------------------------------------------------------------------------\u001b[0m",
            "\u001b[0;31mLinAlgError\u001b[0m                               Traceback (most recent call last)",
            "\u001b[0;32m<ipython-input-199-79a9d2911b85>\u001b[0m in \u001b[0;36m<module>\u001b[0;34m()\u001b[0m\n\u001b[0;32m----> 1\u001b[0;31m \u001b[0mSpl\u001b[0m \u001b[0;34m=\u001b[0m \u001b[0minv\u001b[0m\u001b[0;34m(\u001b[0m\u001b[0ms_centered\u001b[0m\u001b[0;34m.\u001b[0m\u001b[0mT\u001b[0m \u001b[0;34m@\u001b[0m \u001b[0ms_centered\u001b[0m\u001b[0;34m)\u001b[0m \u001b[0;34m@\u001b[0m \u001b[0ms_centered\u001b[0m\u001b[0;34m.\u001b[0m\u001b[0mT\u001b[0m\u001b[0;34m\u001b[0m\u001b[0;34m\u001b[0m\u001b[0m\n\u001b[0m\u001b[1;32m      2\u001b[0m \u001b[0mSpl\u001b[0m\u001b[0;34m\u001b[0m\u001b[0;34m\u001b[0m\u001b[0m\n",
            "\u001b[0;32m<__array_function__ internals>\u001b[0m in \u001b[0;36minv\u001b[0;34m(*args, **kwargs)\u001b[0m\n",
            "\u001b[0;32m/usr/local/lib/python3.7/dist-packages/numpy/linalg/linalg.py\u001b[0m in \u001b[0;36minv\u001b[0;34m(a)\u001b[0m\n\u001b[1;32m    537\u001b[0m     \"\"\"\n\u001b[1;32m    538\u001b[0m     \u001b[0ma\u001b[0m\u001b[0;34m,\u001b[0m \u001b[0mwrap\u001b[0m \u001b[0;34m=\u001b[0m \u001b[0m_makearray\u001b[0m\u001b[0;34m(\u001b[0m\u001b[0ma\u001b[0m\u001b[0;34m)\u001b[0m\u001b[0;34m\u001b[0m\u001b[0;34m\u001b[0m\u001b[0m\n\u001b[0;32m--> 539\u001b[0;31m     \u001b[0m_assert_stacked_2d\u001b[0m\u001b[0;34m(\u001b[0m\u001b[0ma\u001b[0m\u001b[0;34m)\u001b[0m\u001b[0;34m\u001b[0m\u001b[0;34m\u001b[0m\u001b[0m\n\u001b[0m\u001b[1;32m    540\u001b[0m     \u001b[0m_assert_stacked_square\u001b[0m\u001b[0;34m(\u001b[0m\u001b[0ma\u001b[0m\u001b[0;34m)\u001b[0m\u001b[0;34m\u001b[0m\u001b[0;34m\u001b[0m\u001b[0m\n\u001b[1;32m    541\u001b[0m     \u001b[0mt\u001b[0m\u001b[0;34m,\u001b[0m \u001b[0mresult_t\u001b[0m \u001b[0;34m=\u001b[0m \u001b[0m_commonType\u001b[0m\u001b[0;34m(\u001b[0m\u001b[0ma\u001b[0m\u001b[0;34m)\u001b[0m\u001b[0;34m\u001b[0m\u001b[0;34m\u001b[0m\u001b[0m\n",
            "\u001b[0;32m/usr/local/lib/python3.7/dist-packages/numpy/linalg/linalg.py\u001b[0m in \u001b[0;36m_assert_stacked_2d\u001b[0;34m(*arrays)\u001b[0m\n\u001b[1;32m    195\u001b[0m         \u001b[0;32mif\u001b[0m \u001b[0ma\u001b[0m\u001b[0;34m.\u001b[0m\u001b[0mndim\u001b[0m \u001b[0;34m<\u001b[0m \u001b[0;36m2\u001b[0m\u001b[0;34m:\u001b[0m\u001b[0;34m\u001b[0m\u001b[0;34m\u001b[0m\u001b[0m\n\u001b[1;32m    196\u001b[0m             raise LinAlgError('%d-dimensional array given. Array must be '\n\u001b[0;32m--> 197\u001b[0;31m                     'at least two-dimensional' % a.ndim)\n\u001b[0m\u001b[1;32m    198\u001b[0m \u001b[0;34m\u001b[0m\u001b[0m\n\u001b[1;32m    199\u001b[0m \u001b[0;32mdef\u001b[0m \u001b[0m_assert_stacked_square\u001b[0m\u001b[0;34m(\u001b[0m\u001b[0;34m*\u001b[0m\u001b[0marrays\u001b[0m\u001b[0;34m)\u001b[0m\u001b[0;34m:\u001b[0m\u001b[0;34m\u001b[0m\u001b[0;34m\u001b[0m\u001b[0m\n",
            "\u001b[0;31mLinAlgError\u001b[0m: 0-dimensional array given. Array must be at least two-dimensional"
          ]
        }
      ]
    },
    {
      "cell_type": "code",
      "source": [
        "A2 = U_centered @ Spl @VT_centered"
      ],
      "metadata": {
        "id": "eko7QA03c_Y_"
      },
      "execution_count": null,
      "outputs": []
    },
    {
      "cell_type": "code",
      "source": [
        "Apl = VH @ Spl @ U.T\n",
        "Apl"
      ],
      "metadata": {
        "outputId": "5da0afb1-b7b7-42be-d6ad-fbca5fb386d1",
        "colab": {
          "base_uri": "https://localhost:8080/"
        },
        "id": "CTtVmmUNc_of"
      },
      "execution_count": null,
      "outputs": [
        {
          "output_type": "execute_result",
          "data": {
            "text/plain": [
              "array([[0. , 0. , 1. ],\n",
              "       [0.5, 0. , 0. ]])"
            ]
          },
          "metadata": {},
          "execution_count": 142
        }
      ]
    },
    {
      "cell_type": "code",
      "source": [
        "A @ Apl"
      ],
      "metadata": {
        "colab": {
          "base_uri": "https://localhost:8080/"
        },
        "outputId": "d917f562-0c4f-4f66-942c-c94073def7b8",
        "id": "xCs9frOCc_of"
      },
      "execution_count": null,
      "outputs": [
        {
          "output_type": "execute_result",
          "data": {
            "text/plain": [
              "array([[1., 0., 0.],\n",
              "       [0., 0., 0.],\n",
              "       [0., 0., 1.]])"
            ]
          },
          "metadata": {},
          "execution_count": 144
        }
      ]
    },
    {
      "cell_type": "code",
      "source": [
        "S = zeros(A.shape)\n",
        "S[0][0] = s[0]\n",
        "S"
      ],
      "metadata": {
        "id": "HvXTaqvmc_og"
      },
      "execution_count": null,
      "outputs": []
    },
    {
      "cell_type": "code",
      "source": [
        "Aapprox = U @ S @ VT\n",
        "Aapprox"
      ],
      "metadata": {
        "colab": {
          "base_uri": "https://localhost:8080/",
          "height": 182
        },
        "id": "c91lNbNKc_og",
        "outputId": "187e5cf7-d9c6-4cd7-ee14-461315d06980"
      },
      "execution_count": null,
      "outputs": [
        {
          "output_type": "error",
          "ename": "ValueError",
          "evalue": "ignored",
          "traceback": [
            "\u001b[0;31m---------------------------------------------------------------------------\u001b[0m",
            "\u001b[0;31mValueError\u001b[0m                                Traceback (most recent call last)",
            "\u001b[0;32m<ipython-input-196-0b9afe2bda6f>\u001b[0m in \u001b[0;36m<module>\u001b[0;34m()\u001b[0m\n\u001b[0;32m----> 1\u001b[0;31m \u001b[0mAapprox\u001b[0m \u001b[0;34m=\u001b[0m \u001b[0mU\u001b[0m \u001b[0;34m@\u001b[0m \u001b[0mS\u001b[0m \u001b[0;34m@\u001b[0m \u001b[0mVT\u001b[0m\u001b[0;34m\u001b[0m\u001b[0;34m\u001b[0m\u001b[0m\n\u001b[0m\u001b[1;32m      2\u001b[0m \u001b[0mAapprox\u001b[0m\u001b[0;34m\u001b[0m\u001b[0;34m\u001b[0m\u001b[0m\n",
            "\u001b[0;31mValueError\u001b[0m: matmul: Input operand 1 has a mismatch in its core dimension 0, with gufunc signature (n?,k),(k,m?)->(n?,m?) (size 3 is different from 2)"
          ]
        }
      ]
    }
  ]
}